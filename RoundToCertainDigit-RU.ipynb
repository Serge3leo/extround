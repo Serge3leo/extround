{
 "cells": [
  {
   "cell_type": "markdown",
   "id": "4ba99515-4c98-4024-9cb1-b7f5cab57690",
   "metadata": {},
   "source": [
    "# Округление до определённой цифры (усечение до определённой цифры)\n",
    "\n",
    "TODO: jupyterlab-spellchecker объединение словарей \n",
    "[Многоязыковая проверка орфографии для программ, использующих Hunspell](https://habr.com/ru/articles/158441/)\n",
    "[hunspell-merge](https://github.com/arty-name/hunspell-merge/)\n",
    "\n",
    "Наверно каждому приходилось когда-то что-то как-то округлять. Обычно задача \n",
    "не очень ответственная и решается по месту и на глазок. Хотя и не всегда \n",
    "очевидная, по крайней мере, и на русском StackOverflow (ruSO), и на \n",
    "английском (SO), уже имеется множество вопросов и множество ответов. Но \n",
    "вопросы всё равно продолжают появляться.\n",
    "\n",
    "Другое дело, зачастую, ответы не слишком уж строгие (по месту и на глазок), \n",
    "типа, \"Попробуйте так или этак, в вашем случае должно помочь\".\n",
    "\n",
    "А с другой стороны наличие в SQL функций: \n",
    "[`TRUNC(n1[, n2])`](https://docs.oracle.com/cd/E11882_01/server.112/e41084/functions221.htm#SQLRF06150) \n",
    "[`ROUND(n[, integer])`](https://docs.oracle.com/cd/E11882_01/server.112/e41084/functions155.htm#SQLRF00698), \n",
    "как бы, ISO/IEC 9075 серьёзный документ, не филькина грамота, намекает, \n",
    "что, во-первых, дело нужное и, во-вторых, может иметь достаточно строгое \n",
    "определение. Впрочем и Python \n",
    "[`round(number, ndigits=None)`](https://docs.python.org/3/library/functions.html#round)\n",
    "тоже вполне себе авторитетный документ.\n",
    "\n",
    "Попробую связанно изложить всё о способах \"Округления/усечения до заданной \n",
    "цифры\" на C/C++/Fortran/Java/Python."
   ]
  },
  {
   "cell_type": "markdown",
   "id": "5ddeea1d-6662-4618-8653-7bc4f6739709",
   "metadata": {},
   "source": [
    "## Об этих заметках (ipynb)"
   ]
  },
  {
   "cell_type": "markdown",
   "id": "7e76c6a0-e21a-441b-ba9d-4617ad12df4f",
   "metadata": {},
   "source": [
    "Поскольку на разных платформах поддерживаемые возможности Jupyter Notebook \n",
    "различаются:\n",
    "\n",
    "- На Google Colab нет `math.fma` (Python 3.11);\n",
    "- У PyCharm, по умолчанию, нет `np.float128` (`np.longdouble == np.double`).\n",
    "\n",
    "В заметке используются внутренние переменные для возможности тестирования \n",
    "этих ограничений."
   ]
  },
  {
   "cell_type": "code",
   "execution_count": 1,
   "id": "1434876a-f02e-4a29-b241-d12a267ac574",
   "metadata": {},
   "outputs": [],
   "source": [
    "import decimal\n",
    "import doctest\n",
    "import fractions\n",
    "import IPython.core.magic\n",
    "import math\n",
    "import numpy as np\n",
    "import unittest\n",
    "\n",
    "# TODO для GitHub тестирования, получить настройки из os.environ\n",
    "_exr_debug_not_fma = False\n",
    "_exr_debug_not_float128 = False  # True  # False\n",
    "_exr_debug_not_fortranmagic = False\n",
    "_exr_debug_not_Cython = False\n",
    "_exr_debug_small_dd = False\n",
    "\n",
    "_exr_float_types = (float, np.half, np.single, np.double)\n",
    "if _exr_float_types[-1] != np.longdouble and not _exr_debug_not_float128:\n",
    "    _exr_float_types += (np.longdouble, )\n",
    "_exr_roundings = [\n",
    "    decimal.ROUND_CEILING,\n",
    "    decimal.ROUND_DOWN,\n",
    "    decimal.ROUND_FLOOR,\n",
    "    decimal.ROUND_HALF_EVEN,\n",
    "    decimal.ROUND_HALF_UP,\n",
    "    decimal.ROUND_HALF_DOWN,\n",
    "    decimal.ROUND_UP,\n",
    "    decimal.ROUND_05UP,\n",
    "]\n",
    "\n",
    "if not _exr_debug_not_float128 and 'float128' in np.__dict__:\n",
    "    if np.longdouble != np.float128:\n",
    "        print(\"Восстанавливаем np.longdouble после предыдущего\")\n",
    "        np.longdouble = np.float128\n",
    "else:\n",
    "    if np.longdouble != np.double:\n",
    "        print(\"Устанавливаем np.longdouble = np.double, для полной имитаций\")\n",
    "        np.longdouble = np.double"
   ]
  },
  {
   "cell_type": "markdown",
   "id": "552a59a5-a8de-40bb-bacf-6688624a6114",
   "metadata": {},
   "source": [
    "### Примеры Фортран"
   ]
  },
  {
   "cell_type": "markdown",
   "id": "b95cb1b9-9a53-4d34-bf98-3a4eba914505",
   "metadata": {},
   "source": [
    "Используются ячейки `%fortran` ([Fortran magic](https://github.com/mgaitan/fortran_magic)), \n",
    "так же, ячейки зависящие от `%fortran` ячеек отмечаются как `%fortran_depended`."
   ]
  },
  {
   "cell_type": "code",
   "execution_count": 2,
   "id": "2b919641-9b97-4f1d-b4b0-bd62d8a5b41d",
   "metadata": {},
   "outputs": [
    {
     "data": {
      "application/javascript": [
       "\n",
       "        if(typeof IPython === 'undefined') {\n",
       "            console.log('fortranmagic.py: TDOO: JupyterLab ' +\n",
       "                        'syntax highlight - unimplemented.');\n",
       "        } else {\n",
       "            IPython.CodeCell.options_default\n",
       "            .highlight_modes['magic_fortran'] = {'reg':[/^%%fortran/]};\n",
       "        }\n",
       "        "
      ]
     },
     "metadata": {},
     "output_type": "display_data"
    }
   ],
   "source": [
    "if _exr_debug_not_fortranmagic:\n",
    "    _extr_fortranmagic = False\n",
    "else:\n",
    "    try:\n",
    "        %load_ext fortranmagic\n",
    "        _extr_fortranmagic = True\n",
    "    except ModuleNotFoundError:\n",
    "        if 'google.colab' not in str(get_ipython()):\n",
    "            _extr_fortranmagic = False\n",
    "            print(\"fortran-magic не установлен, %fortran ячейки пропускаются\")\n",
    "            @IPython.core.magic.register_cell_magic\n",
    "            def fortran(line, cell):\n",
    "                print(\"Ячейка %fortran пропущена\")\n",
    "        else:\n",
    "            # Install required packages\n",
    "            !apt-get update -qq\n",
    "            !apt-get install -qq gfortran\n",
    "            !pip install -qq fortran-magic\n",
    "            # Обход проблемы  установки Numpy в Google Colab\n",
    "            # https://github.com/mgaitan/fortran_magic/issues/39\n",
    "            !pip install -qq meson charset-normalizer ninja cmake pkgconfig\n",
    "            %load_ext fortranmagic\n",
    "            %fortran_config --backend meson -v\n",
    "\n",
    "@IPython.core.magic.register_cell_magic\n",
    "def fortran_depended(line, cell):\n",
    "    global _extr_fortranmagic\n",
    "    if _extr_fortranmagic:\n",
    "        get_ipython().run_cell(cell)\n",
    "    else:\n",
    "        print(\"Ячейка %fortran_depended пропущена\")"
   ]
  },
  {
   "cell_type": "code",
   "execution_count": 6,
   "id": "38c615a5-aeca-425a-9308-939eadc9060d",
   "metadata": {},
   "outputs": [
    {
     "name": "stdout",
     "output_type": "stream",
     "text": [
      "\n",
      "Ok. The following fortran objects are ready to use: f1\n"
     ]
    }
   ],
   "source": [
    "%%fortran\n",
    "\n",
    "subroutine f1(x, y, z)\n",
    "    real, intent(in) :: x,y\n",
    "    real, intent(out) :: z\n",
    "\n",
    "    z = sin(x+y)\n",
    "\n",
    "end subroutine f1"
   ]
  },
  {
   "cell_type": "code",
   "execution_count": 7,
   "id": "0cf98340-050b-4f23-8450-d2681116fa24",
   "metadata": {},
   "outputs": [
    {
     "data": {
      "text/plain": [
       "9.26574e-05"
      ]
     },
     "execution_count": 7,
     "metadata": {},
     "output_type": "execute_result"
    }
   ],
   "source": [
    "%%fortran_depended\n",
    "%precision %g\n",
    "f1(1.0, 2.1415)"
   ]
  },
  {
   "cell_type": "markdown",
   "id": "a8e57faf-bf6e-4853-8cc1-f94de8b8cd53",
   "metadata": {},
   "source": [
    "### Примеры С++"
   ]
  },
  {
   "cell_type": "markdown",
   "id": "e3aa2698-c417-402e-9969-98d98ffb0076",
   "metadata": {},
   "source": [
    "TODO: использовать pybind11/cppimport или Cython?\n",
    "\n",
    "В colab Cython есть из коробки\n",
    "\n",
    "[`%pybind11`](https://github.com/aldanor/ipybind) - 8 years ago\n",
    "\n",
    "Вариант,  [bp_magic](https://github.com/abingham/boost_python_tutorial?tab=readme-ov-file#the-bp_magicpy-extension)\n",
    "\n"
   ]
  },
  {
   "cell_type": "code",
   "execution_count": 3,
   "id": "dbc2f2f8-a301-40b8-8bef-0b57afc8313b",
   "metadata": {},
   "outputs": [],
   "source": [
    "if _exr_debug_not_Cython:\n",
    "    _extr_cythonmagic = False\n",
    "else:\n",
    "    try:\n",
    "        %load_ext Cython\n",
    "        _extr_cythonmagic = True\n",
    "    except ModuleNotFoundError:\n",
    "        _extr_cythonmagic = False\n",
    "        print(\"cython не установлен, %cython ячейки пропускаются\")\n",
    "        @IPython.core.magic.register_cell_magic\n",
    "        def cython(line, cell):\n",
    "            print(\"Ячейка %cython пропущена\")\n",
    "\n",
    "@IPython.core.magic.register_cell_magic\n",
    "def cython_depended(line, cell):\n",
    "    global _extr_cythonmagic\n",
    "    if _extr_cythonmagic:\n",
    "        get_ipython().run_cell(cell)\n",
    "    else:\n",
    "        print(\"Ячейка %cython_depended пропущена\")"
   ]
  },
  {
   "cell_type": "code",
   "execution_count": 4,
   "id": "df31369d-2b04-4a74-a626-a760f8be3f44",
   "metadata": {},
   "outputs": [],
   "source": [
    "%%cython\n",
    "def f(x):\n",
    "    return 3.0*x"
   ]
  },
  {
   "cell_type": "code",
   "execution_count": 5,
   "id": "b62444ae-ba1e-47e8-988b-48c459d84077",
   "metadata": {},
   "outputs": [
    {
     "data": {
      "text/plain": [
       "10.02"
      ]
     },
     "execution_count": 5,
     "metadata": {},
     "output_type": "execute_result"
    }
   ],
   "source": [
    "%%cython_depended\n",
    "f(3.34)"
   ]
  },
  {
   "cell_type": "markdown",
   "id": "cce3447f-5faa-4a9a-a008-30dc5a36901e",
   "metadata": {},
   "source": [
    "## Округление Python\n",
    "\n",
    "Начнём с Python, он, конечно, крайний по алфавиту, зато в деле \n",
    "округления/усечения у него, прямо в стандартной библиотеке, неплохой выбор.\n",
    "\n",
    "### Функция `round()` и округление произвольных типов\n",
    "\n",
    "\n",
    "Стандартная функция [`round(number, ndigits=None)`](https://docs.python.org/3/library/functions.html#round) \n",
    "вызывает магический метод [`object.__round__(self[, ndigits])`](https://docs.python.org/3/reference/datamodel.html#object.__round__), \n",
    "который обеспечивает округление до ближайшего чётного по заданной цифре \n",
    "в машинном представлении. Однако, алгоритм и точность выполнения этой \n",
    "функции зависит от конкретного типа, к примеру, хотя двоичное представление \n",
    "типов `float` и `np.double` совпадают, `round(np.double(0.0115), 3)` \n",
    "вычислит не очень точное значение, примерно идентичное \n",
    "`round(0.0115*1000)/1000`, которое отличается от точного результата \n",
    "`round(0.0115, 3)`.\n",
    "\n",
    "Округление в машинном представлении это общепринятая практика, форматные \n",
    "преобразования работают точно также: (`round(x, n) == float(f\"{x:.{n}f}\")`), \n",
    "но в документации этот небольшой сюрприз отдельно разобран: \n",
    "`round(2.675, 2) == 2.67`, поскольку `float` имеет двоичное представление, но \n",
    "`float(round(decimal.Decimal('2.675'), 2)) == 2.68` или \n",
    "`float(round(fractions.Fraction('2.675'), 2)) == 2.68`.\n",
    "\n",
    "Но настоящий сюрпризище, я бы сказал, даже грабли, в том, что в \n",
    "C/C++/SQL/... **одноимённая(!)** функция \n",
    "[`ROUND(n[, integer])`](https://docs.oracle.com/cd/E11882_01/server.112/e41084/functions155.htm#SQLRF00698) \n",
    "округляет иначе, до ближайшего большего по модулю."
   ]
  },
  {
   "cell_type": "markdown",
   "id": "d683c338-189c-4d7a-8c5b-ad20defdbe84",
   "metadata": {},
   "source": [
    "### Швейцарский нож для огругления/усечения\n",
    "\n",
    "Методы `decimal.Decimal(x).to_integral_value()` или \n",
    "`decimal.Decimal(x).quantize()` позволяют выполнять практически все \n",
    "мыслимые методы округления/усечения для основных типов данных. \n",
    "\n",
    "В отличие от функции `round()` реализация алгоритмов округления собственная,\n",
    "в общем, не уступающая по занудности и подробности реализации \n",
    "`object.__round__()`."
   ]
  },
  {
   "cell_type": "code",
   "execution_count": 6,
   "id": "df2478dc-81b0-4d17-9a41-6875201bbff8",
   "metadata": {},
   "outputs": [],
   "source": [
    "def exr_easy_round(x: 'Union[float, decimal.Decimal, str, np.double]', \n",
    "                   ndigits=0, rounding=decimal.ROUND_HALF_UP, fmt_out=None\n",
    "                  ) -> 'type(x)':\n",
    "    \"\"\"Краткий макет \"улучшения\" стандартного `round(x, ndigits=None)`.\n",
    "    \"\"\" \n",
    "    dx = decimal.Decimal(x if fmt_out else str(x))\n",
    "    return type(x)(dx.scaleb(ndigits).to_integral_value(rounding=rounding).\n",
    "                      scaleb(-ndigits))\n",
    "    \n",
    "    # Для ndigits + log10(abs(x)) < getcontext().prec можно немного короче и\n",
    "    # слегка шустрее:\n",
    "    # return type(x)(dx.quantize(decimal.Decimal(f\"1e{-ndigits}\"),\n",
    "    #                            rounding=rounding))\n",
    "    # Но тогда больше ограничений и слов в описании"
   ]
  },
  {
   "cell_type": "markdown",
   "id": "a35d244f-f7bc-42b5-b72b-0e9b5163c4c1",
   "metadata": {},
   "source": [
    "#### Описание простого интерфейса `exr_easy_round()`"
   ]
  },
  {
   "cell_type": "code",
   "execution_count": 7,
   "id": "cfd27dd9-f10e-4f86-a786-58a3b3a60914",
   "metadata": {},
   "outputs": [
    {
     "name": "stdout",
     "output_type": "stream",
     "text": [
      "**********************************************************************\n",
      "File \"__main__\", line 104, in __main__.exr_easy_round\n",
      "Failed example:\n",
      "    exr_easy_round(np.double(4.00001), 5, rounding=decimal.ROUND_DOWN, \n",
      "                   fmt_out=True)\n",
      "Expected:\n",
      "    np.float64(4.0)\n",
      "Got:\n",
      "    4.0\n",
      "**********************************************************************\n",
      "File \"__main__\", line 107, in __main__.exr_easy_round\n",
      "Failed example:\n",
      "    exr_easy_round(np.double(4.00001), 5, rounding=decimal.ROUND_DOWN, \n",
      "                   fmt_out=False)\n",
      "Expected:\n",
      "    np.float64(4.00001)\n",
      "Got:\n",
      "    4.00001\n",
      "**********************************************************************\n",
      "1 items had failures:\n",
      "   2 of  13 in __main__.exr_easy_round\n",
      "***Test Failed*** 2 failures.\n"
     ]
    },
    {
     "data": {
      "text/plain": [
       "TestResults(failed=2, attempted=13)"
      ]
     },
     "execution_count": 7,
     "metadata": {},
     "output_type": "execute_result"
    }
   ],
   "source": [
    "_exr_common_round_docstring = \"\"\"\n",
    "    Без опциональных аргументов соответствует функции C/C++/SQL/... `round()`.\n",
    "    При задании аргумента `rounding=decimal.ROUND_DOWN` соответствует функции \n",
    "    SQL `TRUNC(n1[, n2])`. При задании аргументов \n",
    "    `rounding=decimal.ROUND_HALF_EVEN, fmt_out=True` соответствует стандартной \n",
    "    функции Python `round()`.\n",
    "\n",
    "    Параметры\n",
    "    ---------\n",
    "    x:\n",
    "        Входные данные\n",
    "    ndigits:\n",
    "        Требуемое число знаков после запятой (или до запятой, если <0). Для \n",
    "        стандартных двоичных типов `x` с плавающей запятой, обычно, не очень  \n",
    "        осмысленно превышать по модулю: `sys.float_info.dig` (или \n",
    "        `np.finfo(x).precision`)\n",
    "    rounding:\n",
    "        ROUND_CEILING   - округление к большему, аналогично `math.ceil()`, \n",
    "                          IEEE 754: roundTowardNegative\n",
    "        ROUND_DOWN      - округление к меньшему по модулю, аналогичен \n",
    "                          `math.trunc()` и `int()`, IEEE 754: \n",
    "                          roundTowardZero (усечение к 0)\n",
    "        ROUND_FLOOR     - округление к меньшему, аналогично `math.floor()`, \n",
    "                          IEEE 754: roundTowardNegative\n",
    "        ROUND_HALF_EVEN - округление до ближайшего чётного, аналогично \n",
    "                          стандартной функции Python `round()`, \n",
    "                          IEEE 754: roundTiesToEven (округление банкира)\n",
    "        ROUND_HALF_UP   - округление до ближашего большего по модулю, \n",
    "                          аналогично функции C/C++/SQL/... `round()`, \n",
    "                          IEEE 754: roundTiesToAway (математическое \n",
    "                          округление)\n",
    "        ROUND_HALF_DOWN - округление до ближайшего меньшего по модулю, \n",
    "                          широкораспространённых аналогов не имеет, \n",
    "                          в IEEE 754 не входит\n",
    "        ROUND_UP        - округление к большему по модулю, \n",
    "                          широкораспространённых аналогов не имеет, \n",
    "                          в IEEE 754 не входит\n",
    "        ROUND_05UP      - округление к меньшему по модулю, если последняя \n",
    "                          цифра результата не получается 0 или 5, в этом \n",
    "                          случае округление к большему по модулю,\n",
    "                          широкораспространённых аналогов не имеет, \n",
    "                          в IEEE 754 не входит\n",
    "    fmt_out:\n",
    "        `True` - точно округляется/усекается машинное представление, см. \n",
    "        ниже \"Возвращаемое значение\";\n",
    "        \n",
    "        `False` - требуется точное округление человекочитаемого \n",
    "        представления;\n",
    "        \n",
    "        Если не задан, используется наиболее быстрый метод, возможно, \n",
    "        неразличающий эти случаи, например, ввиду ошибок округления или \n",
    "        иных причин. Примерно аналогично функции `numpy.round(a, \n",
    "        decimals=0, out=None)`\n",
    "\n",
    "    Возвращаемое значение\n",
    "    ---------------------\n",
    "        Если аргумент `ndigits` не задан (`None`), то выполняется \n",
    "        округление к целому (`fmt_out` игнорируется, ввиду совпадения \n",
    "        представлений), возвращается результат типа `int`\n",
    "\n",
    "        Если `fmt_out == True`, то `exr_round(...)` является машинным \n",
    "        представлением округлённого машинного представления `x`, что \n",
    "        аналогично форматному выводу большинства языков программирования, \n",
    "        а так же стандартной функции Python `round()` (машинное \n",
    "        представление зависит от типа аргумента, у `float` и `numpy.double` \n",
    "        - двоичное, а у `decimal.Decimal`, `str` - десятичное).\n",
    "\n",
    "        Если `fmt_out == False`, то `str(exr_round(...))` является \n",
    "        округлённым значением `str(x)`, т.е. округляем человекочитаемое \n",
    "        представление `x`. Может применяться, например, при округлении \n",
    "        входных данных и т.п.\n",
    "\n",
    "        Для методов ROUND_FLOOR и ROUND_DOWN гарантируется, что результат не \n",
    "        больше (абсолютно или, соответственно, по модулю) входного значения. \n",
    "        Аналогично, для методов ROUND_CEILING и ROUND_UP, не меньше.\n",
    "\"\"\"\n",
    "\n",
    "exr_easy_round.__doc__ += _exr_common_round_docstring + \"\"\"\n",
    "        В данном макете, по умолчанию, округляется человекочитаемое \n",
    "        представление, поскольку `Decimal(float(x))` почти наполовину \n",
    "        забит \"ошибками\" округления двоичного значения `float` (само \n",
    "        преобразование, конечно, точное, но 2**-52 имеет 53 знака после \n",
    "        запятой), `Decimal(str(x))` заметно эффективнее.\n",
    "\n",
    "        Возврат значения типа аргумента или типа `int` в зависимости от \n",
    "        `ndigits != None`, аналогичного стандартному `round()`, в макете \n",
    "        не реализован.\n",
    "\n",
    "    >>> import decimal\n",
    "    >>> import numpy as np\n",
    "    >>>\n",
    "    >>> exr_easy_round(2.0115, 3)\n",
    "    2.012\n",
    "    >>> exr_easy_round(2.0115, 3, fmt_out=True)\n",
    "    2.011\n",
    "    >>> exr_easy_round(2.0115, 3, fmt_out=False)\n",
    "    2.012\n",
    "    >>> exr_easy_round(20115, -1)\n",
    "    20120\n",
    "    >>> exr_easy_round(decimal.Decimal(\"2.0115\"), 3, fmt_out=True)\n",
    "    Decimal('2.012')\n",
    "    >>> exr_easy_round(decimal.Decimal(\"2.0115\"), 3, fmt_out=False)\n",
    "    Decimal('2.012')\n",
    "    >>> exr_easy_round(np.double(4.00001), 5, rounding=decimal.ROUND_DOWN, \n",
    "    ...                fmt_out=True)\n",
    "    np.float64(4.0)\n",
    "    >>> exr_easy_round(np.double(4.00001), 5, rounding=decimal.ROUND_DOWN, \n",
    "    ...                fmt_out=False)\n",
    "    np.float64(4.00001)\n",
    "    >>> exr_easy_round(\"4.00001\", 5, rounding=decimal.ROUND_DOWN, \n",
    "    ...                fmt_out=True)\n",
    "    '4.00001'\n",
    "    >>> exr_easy_round(\"4.00001\", 5, rounding=decimal.ROUND_DOWN, \n",
    "    ...                fmt_out=False)\n",
    "    '4.00001'\n",
    "    >>> with decimal.localcontext(prec=29):\n",
    "    ...     print(exr_easy_round(\"2.71828182845904523536028747135266e25\", 3))\n",
    "    27182818284590452353602874.714\n",
    "    \"\"\"\n",
    "\n",
    "doctest.testmod()"
   ]
  },
  {
   "cell_type": "markdown",
   "id": "8b14324a-93f7-4370-817c-58e9f6cfadc0",
   "metadata": {
    "jp-MarkdownHeadingCollapsed": true
   },
   "source": [
    "#### Более сложный интерфейс `exr_decimal_round()` (эталон для тестов)"
   ]
  },
  {
   "cell_type": "code",
   "execution_count": 8,
   "id": "0085a759-06fe-4710-8911-70eb73269185",
   "metadata": {},
   "outputs": [
    {
     "name": "stdout",
     "output_type": "stream",
     "text": [
      "**********************************************************************\n",
      "File \"__main__\", line 98, in __main__.exr_decimal_round\n",
      "Failed example:\n",
      "    exr_decimal_round(np.double(4.00001), 5, rounding=decimal.ROUND_DOWN, \n",
      "                      fmt_out=True)\n",
      "Expected:\n",
      "    np.float64(4.0)\n",
      "Got:\n",
      "    4.0\n",
      "**********************************************************************\n",
      "File \"__main__\", line 101, in __main__.exr_decimal_round\n",
      "Failed example:\n",
      "    exr_decimal_round(np.double(4.00001), 5, rounding=decimal.ROUND_DOWN, \n",
      "                      fmt_out=False)\n",
      "Expected:\n",
      "    np.float64(4.00001)\n",
      "Got:\n",
      "    4.00001\n",
      "**********************************************************************\n",
      "File \"__main__\", line 118, in __main__.exr_decimal_round\n",
      "Failed example:\n",
      "    exr_decimal_round(np.longdouble(\"0.222222222222222225\"), 17,  # \n",
      "                      fmt_out=True)\n",
      "Expected:\n",
      "    np.longdouble('0.22222222222222222')\n",
      "Got:\n",
      "    0.22222222222222222\n",
      "**********************************************************************\n",
      "File \"__main__\", line 121, in __main__.exr_decimal_round\n",
      "Failed example:\n",
      "    exr_decimal_round(np.longdouble(\"0.222222222222222225\"), 17,  #  \n",
      "                      fmt_out=False)\n",
      "Expected:\n",
      "    np.longdouble('0.22222222222222223')\n",
      "Got:\n",
      "    0.22222222222222223\n",
      "**********************************************************************\n",
      "File \"__main__\", line 125, in __main__.exr_decimal_round\n",
      "Failed example:\n",
      "    exr_decimal_round(a0d, 3)                               # \n",
      "Expected:\n",
      "    np.longdouble('3156294995342131.507')\n",
      "Got:\n",
      "    3156294995342131.507\n",
      "**********************************************************************\n",
      "File \"__main__\", line 170, in __main__.exr_decimal_to_longdouble\n",
      "Failed example:\n",
      "    exr_decimal_to_longdouble(decimal.Decimal(2).sqrt())     # doctest: +ELLIPSIS\n",
      "Expected:\n",
      "    np...(...1.414213562373095...)\n",
      "Got:\n",
      "    1.4142135623730950488\n",
      "**********************************************************************\n",
      "File \"__main__\", line 172, in __main__.exr_decimal_to_longdouble\n",
      "Failed example:\n",
      "    exr_decimal_to_longdouble(decimal.Decimal('NaN'))        # doctest: +ELLIPSIS\n",
      "Expected:\n",
      "    np...(...nan...)\n",
      "Got:\n",
      "    nan\n",
      "**********************************************************************\n",
      "File \"__main__\", line 174, in __main__.exr_decimal_to_longdouble\n",
      "Failed example:\n",
      "    exr_decimal_to_longdouble(decimal.Decimal('Infinity'))   # doctest: +ELLIPSIS\n",
      "Expected:\n",
      "    np...(...inf...)\n",
      "Got:\n",
      "    inf\n",
      "**********************************************************************\n",
      "File \"__main__\", line 176, in __main__.exr_decimal_to_longdouble\n",
      "Failed example:\n",
      "    exr_decimal_to_longdouble(decimal.Decimal('-Infinity'))  # doctest: +ELLIPSIS\n",
      "Expected:\n",
      "    np...(...-inf...)\n",
      "Got:\n",
      "    -inf\n",
      "**********************************************************************\n",
      "File \"__main__\", line 104, in __main__.exr_easy_round\n",
      "Failed example:\n",
      "    exr_easy_round(np.double(4.00001), 5, rounding=decimal.ROUND_DOWN, \n",
      "                   fmt_out=True)\n",
      "Expected:\n",
      "    np.float64(4.0)\n",
      "Got:\n",
      "    4.0\n",
      "**********************************************************************\n",
      "File \"__main__\", line 107, in __main__.exr_easy_round\n",
      "Failed example:\n",
      "    exr_easy_round(np.double(4.00001), 5, rounding=decimal.ROUND_DOWN, \n",
      "                   fmt_out=False)\n",
      "Expected:\n",
      "    np.float64(4.00001)\n",
      "Got:\n",
      "    4.00001\n",
      "**********************************************************************\n",
      "3 items had failures:\n",
      "   5 of  18 in __main__.exr_decimal_round\n",
      "   4 of   5 in __main__.exr_decimal_to_longdouble\n",
      "   2 of  13 in __main__.exr_easy_round\n",
      "***Test Failed*** 11 failures.\n"
     ]
    },
    {
     "data": {
      "text/plain": [
       "TestResults(failed=11, attempted=44)"
      ]
     },
     "execution_count": 8,
     "metadata": {},
     "output_type": "execute_result"
    }
   ],
   "source": [
    "def exr_decimal_round(x: 'Union[float, decimal.Decimal, str, ' \n",
    "                               'npt.NDArray[tuple[]], np.half, ' \n",
    "                               'np.single, np.double, np.longdouble]', \n",
    "                      ndigits=None, rounding=decimal.ROUND_HALF_UP, \n",
    "                      fmt_out=None\n",
    "                     ) -> 'Union[int, type(x)]':\n",
    "    \"\"\"`Decimal` макет \"улучшения\" стандартного `round(x, ndigits=None)`.\n",
    "    \"\"\"\n",
    "    x_to = type(x)\n",
    "    if x_to == np.ndarray:\n",
    "        x_to = x.dtype.type\n",
    "        x = x_to(x)\n",
    "    if fmt_out != True:\n",
    "        pre_cvt_x = str(x)\n",
    "        if x_to == _exr_dr_float128_t:\n",
    "            x_to = exr_decimal_to_longdouble\n",
    "    elif x_to in _exr_dr_decimal_accepted_types:\n",
    "        pre_cvt_x = x\n",
    "    elif x_to == _exr_dr_float128_t:\n",
    "        pre_cvt_x = exr_decimal_from_longdouble(x)\n",
    "        x_to = exr_decimal_to_longdouble\n",
    "    else:\n",
    "        pre_cvt_x = float(x)\n",
    "    dx = decimal.Decimal(pre_cvt_x)\n",
    "    if ndigits is None:\n",
    "        return int(dx.to_integral_value(rounding=rounding))\n",
    "    return x_to(dx.scaleb(ndigits).to_integral_value(rounding=rounding).\n",
    "                   scaleb(-ndigits))\n",
    "\n",
    "\n",
    "if \"float128\" not in np.__dict__  or   _exr_debug_not_float128:\n",
    "    # Случай, когда np.longdouble == np.double \n",
    "    # (ARM, PyCharm на x86, по умолчанию, ...)\n",
    "    _exr_dr_use_float128 = False\n",
    "    _exr_doctest_longdouble = \"doctest: +SKIP\"\n",
    "else:\n",
    "    _exr_dr_use_float128 = True\n",
    "    _exr_doctest_longdouble = \"\"\n",
    "\n",
    "exr_decimal_round.__doc__ += _exr_common_round_docstring + f\"\"\"\n",
    "        В данном макете, по умолчанию, округляется человекочитаемое \n",
    "        представление, поскольку `Decimal(float(x))` почти наполовину \n",
    "        забит \"ошибками\" округления двоичного значения `float` (само \n",
    "        преобразование, конечно, точное, но 2**-52 имеет 53 знака после \n",
    "        запятой), `Decimal(str(x))` заметно эффективнее.\n",
    "\n",
    "        Для `np.array` поддерживаются только 0-мерные массивы.\n",
    "\n",
    "    >>> import decimal\n",
    "    >>> import numpy as np\n",
    "    >>>\n",
    "    >>> exr_decimal_round(2.0115, 3, fmt_out=True)\n",
    "    2.011\n",
    "    >>> exr_decimal_round(2.0115, 3, fmt_out=False)\n",
    "    2.012\n",
    "    >>> exr_decimal_round(decimal.Decimal(\"2.0115\"), 3, fmt_out=True)\n",
    "    Decimal('2.012')\n",
    "    >>> exr_decimal_round(decimal.Decimal(\"2.0115\"), 3, fmt_out=False)\n",
    "    Decimal('2.012')\n",
    "    >>> exr_decimal_round(np.double(4.00001), 5, rounding=decimal.ROUND_DOWN, \n",
    "    ...                   fmt_out=True)\n",
    "    np.float64(4.0)\n",
    "    >>> exr_decimal_round(np.double(4.00001), 5, rounding=decimal.ROUND_DOWN, \n",
    "    ...                   fmt_out=False)\n",
    "    np.float64(4.00001)\n",
    "    >>> exr_decimal_round(\"4.00001\", 5, rounding=decimal.ROUND_DOWN, \n",
    "    ...                   fmt_out=True)\n",
    "    '4.00001'\n",
    "    >>> exr_decimal_round(\"4.00001\", 5, rounding=decimal.ROUND_DOWN, \n",
    "    ...                   fmt_out=False)\n",
    "    '4.00001'\n",
    "    >>> exr_decimal_round(\"inf\", 0)\n",
    "    'Infinity'\n",
    "    >>> exr_decimal_round(\"nan\", 0)\n",
    "    'NaN'\n",
    "    >>> exr_decimal_round(2012.5, 0)\n",
    "    2013.0\n",
    "    >>> exr_decimal_round(2012.5)\n",
    "    2013\n",
    "    >>> exr_decimal_round(np.longdouble(\"0.222222222222222225\"), 17,  # {_exr_doctest_longdouble}\n",
    "    ...                   fmt_out=True)\n",
    "    np.longdouble('0.22222222222222222')\n",
    "    >>> exr_decimal_round(np.longdouble(\"0.222222222222222225\"), 17,  # {_exr_doctest_longdouble} \n",
    "    ...                   fmt_out=False)\n",
    "    np.longdouble('0.22222222222222223')\n",
    "    >>> a0d = np.array(np.longdouble('3156294995342131.5065'))\n",
    "    >>> exr_decimal_round(a0d, 3)                               # {_exr_doctest_longdouble}\n",
    "    np.longdouble('3156294995342131.507')\n",
    "    \"\"\"\n",
    "\n",
    "_exr_dr_1 = decimal.Decimal(1)\n",
    "_exr_dr_decimal_accepted_types = (float, np.double, decimal.Decimal, str)\n",
    "if not _exr_dr_use_float128:\n",
    "    _exr_dr_float128_t = type(None)\n",
    "    _exr_dr_float128_types = tuple()\n",
    "    exr_decimal_from_longdouble = decimal.Decimal.from_float\n",
    "else:\n",
    "    _exr_dr_float128_t = np.float128\n",
    "    _exr_dr_float128_types = (_exr_dr_float128_t, np.ndarray)\n",
    "    _exr_dr_max_digits10 = np.finfo(_exr_dr_float128_t).precision + 2\n",
    "    \n",
    "    def exr_decimal_from_longdouble(ld: np.longdouble, \n",
    "                                    prec=None) -> decimal.Decimal:\n",
    "        \"\"\"\n",
    "        Converts a `np.longdouble` to a decimal number, exactly.\n",
    "        Since 0.1 is not exactly representable in binary floating point,\n",
    "        `exr_decimal_from_longdouble(np.longdouble('0.1'))` is not the same \n",
    "        as `Decimal('0.1')`.\n",
    "\n",
    "        Parameters\n",
    "        ----------\n",
    "        ld\n",
    "            Input `np.longdouble`\n",
    "        prec\n",
    "            If exist, reqired binary to decimal precision. By default, \n",
    "            an accurate decimal representation is provided, which may \n",
    "            require precision up to 11514 digits\n",
    "\n",
    "        Returns\n",
    "        -------\n",
    "        decimal.Decimal\n",
    "             Decimal representation of `ld`\n",
    "             \n",
    "        >>> import numpy as np\n",
    "        >>>\n",
    "        >>> exr_decimal_from_longdouble(\n",
    "        ...     np.longdouble('0.1'))  # doctest: +ELLIPSIS\n",
    "        Decimal('0.1000000000000000000013552527156...5625')\n",
    "        >>> exr_decimal_from_longdouble(\n",
    "        ...     np.exp(np.longdouble(1000)))  # doctest: +ELLIPSIS \n",
    "        Decimal('19700711140...3200')\n",
    "        >>> exr_decimal_from_longdouble(0.0)\n",
    "        Decimal('0')\n",
    "        >>> exr_decimal_from_longdouble(-0.0)\n",
    "        Decimal('-0')\n",
    "        >>> exr_decimal_from_longdouble(np.nan)\n",
    "        Decimal('NaN')\n",
    "        >>> exr_decimal_from_longdouble(np.longdouble('Infinity'))\n",
    "        Decimal('Infinity')\n",
    "        >>> exr_decimal_from_longdouble(-np.inf)\n",
    "        Decimal('-Infinity')\n",
    "\n",
    "        See also: `decimal.Decimal.from_float`\n",
    "        \"\"\"\n",
    "        if not (np.isfinite(ld) and ld):\n",
    "            return decimal.Decimal(float(ld))\n",
    "        if prec is None:\n",
    "            # abs(np.spacing(ld))\n",
    "            aulp = abs(ld - np.nextafter(ld, 0.))\n",
    "            lfp = math.ceil(max(0, np.log10(abs(ld)) - \n",
    "                                np.log2(aulp) + 1))\n",
    "            lip = math.ceil(max(0, np.log10(abs(ld))))\n",
    "            prec = lfp + lip + 4\n",
    "        with decimal.localcontext(prec=prec):\n",
    "            ild = ld.as_integer_ratio()\n",
    "            return decimal.Decimal(ild[0])/decimal.Decimal(ild[1])\n",
    "        \n",
    "def exr_decimal_to_longdouble(d) -> np.longdouble:\n",
    "    \"\"\"\n",
    "    Преобразует `Decimal` в `np.longdouble`. \n",
    "    \n",
    "    Примечание: в зависимости от системы и/или от параметров сборки Numpy \n",
    "    тип `np.longdouble`, как может иметь точность 64-бит (x86/amd64) или \n",
    "    112-бит (IBM Power9, Sparc), так и может и совпадать с типом \n",
    "    `np.double` (ARM или сборки Numpy по умолчанию входящие в PyCharm на \n",
    "    всех платформах).\n",
    "\n",
    "    >>> import decimal\n",
    "    >>>\n",
    "    >>> exr_decimal_to_longdouble(decimal.Decimal(2).sqrt())     # doctest: +ELLIPSIS\n",
    "    np...(...1.414213562373095...)\n",
    "    >>> exr_decimal_to_longdouble(decimal.Decimal('NaN'))        # doctest: +ELLIPSIS\n",
    "    np...(...nan...)\n",
    "    >>> exr_decimal_to_longdouble(decimal.Decimal('Infinity'))   # doctest: +ELLIPSIS\n",
    "    np...(...inf...)\n",
    "    >>> exr_decimal_to_longdouble(decimal.Decimal('-Infinity'))  # doctest: +ELLIPSIS\n",
    "    np...(...-inf...)\n",
    "    \n",
    "    \"\"\"\n",
    "    return np.longdouble(str(d) if d.is_finite() else \n",
    "                         float(d))\n",
    "\n",
    "def exr_approximate_decimal_from_integer_ratio(\n",
    "                x: 'Union[tuple[int, int], Rational]', \n",
    "                prec=None) -> decimal.Decimal:\n",
    "    n, d = x if isinstance(x, tuple) else x.as_integer_ratio()\n",
    "    with decimal.localcontext(prec=(prec if prec else\n",
    "                                    decimal.getcontext().prec + 4)):\n",
    "        return decimal.Decimal(n)/decimal.Decimal(d)\n",
    "\n",
    "def exr_decimal_to_fraction(d):\n",
    "    return fractions.Fraction(*d.as_integer_ratio())\n",
    "\n",
    "doctest.testmod()"
   ]
  },
  {
   "cell_type": "code",
   "execution_count": 9,
   "id": "d4fb5731-bdef-4b98-9857-c81575a1d9b7",
   "metadata": {},
   "outputs": [
    {
     "data": {
      "text/plain": [
       "\u001b[0;31mSignature:\u001b[0m\n",
       "\u001b[0mexr_decimal_round\u001b[0m\u001b[0;34m(\u001b[0m\u001b[0;34m\u001b[0m\n",
       "\u001b[0;34m\u001b[0m    \u001b[0mx\u001b[0m\u001b[0;34m:\u001b[0m \u001b[0;34m'Union[float, decimal.Decimal, str, npt.NDArray[tuple[]], np.half, np.single, np.double, np.longdouble]'\u001b[0m\u001b[0;34m,\u001b[0m\u001b[0;34m\u001b[0m\n",
       "\u001b[0;34m\u001b[0m    \u001b[0mndigits\u001b[0m\u001b[0;34m=\u001b[0m\u001b[0;32mNone\u001b[0m\u001b[0;34m,\u001b[0m\u001b[0;34m\u001b[0m\n",
       "\u001b[0;34m\u001b[0m    \u001b[0mrounding\u001b[0m\u001b[0;34m=\u001b[0m\u001b[0;34m'ROUND_HALF_UP'\u001b[0m\u001b[0;34m,\u001b[0m\u001b[0;34m\u001b[0m\n",
       "\u001b[0;34m\u001b[0m    \u001b[0mfmt_out\u001b[0m\u001b[0;34m=\u001b[0m\u001b[0;32mNone\u001b[0m\u001b[0;34m,\u001b[0m\u001b[0;34m\u001b[0m\n",
       "\u001b[0;34m\u001b[0m\u001b[0;34m)\u001b[0m \u001b[0;34m->\u001b[0m \u001b[0;34m'Union[int, type(x)]'\u001b[0m\u001b[0;34m\u001b[0m\u001b[0;34m\u001b[0m\u001b[0m\n",
       "\u001b[0;31mDocstring:\u001b[0m\n",
       "`Decimal` макет \"улучшения\" стандартного `round(x, ndigits=None)`.\n",
       "\n",
       "Без опциональных аргументов соответствует функции C/C++/SQL/... `round()`.\n",
       "При задании аргумента `rounding=decimal.ROUND_DOWN` соответствует функции \n",
       "SQL `TRUNC(n1[, n2])`. При задании аргументов \n",
       "`rounding=decimal.ROUND_HALF_EVEN, fmt_out=True` соответствует стандартной \n",
       "функции Python `round()`.\n",
       "\n",
       "Параметры\n",
       "---------\n",
       "x:\n",
       "    Входные данные\n",
       "ndigits:\n",
       "    Требуемое число знаков после запятой (или до запятой, если <0). Для \n",
       "    стандартных двоичных типов `x` с плавающей запятой, обычно, не очень  \n",
       "    осмысленно превышать по модулю: `sys.float_info.dig` (или \n",
       "    `np.finfo(x).precision`)\n",
       "rounding:\n",
       "    ROUND_CEILING   - округление к большему, аналогично `math.ceil()`, \n",
       "                      IEEE 754: roundTowardNegative\n",
       "    ROUND_DOWN      - округление к меньшему по модулю, аналогичен \n",
       "                      `math.trunc()` и `int()`, IEEE 754: \n",
       "                      roundTowardZero (усечение к 0)\n",
       "    ROUND_FLOOR     - округление к меньшему, аналогично `math.floor()`, \n",
       "                      IEEE 754: roundTowardNegative\n",
       "    ROUND_HALF_EVEN - округление до ближайшего чётного, аналогично \n",
       "                      стандартной функции Python `round()`, \n",
       "                      IEEE 754: roundTiesToEven (округление банкира)\n",
       "    ROUND_HALF_UP   - округление до ближашего большего по модулю, \n",
       "                      аналогично функции C/C++/SQL/... `round()`, \n",
       "                      IEEE 754: roundTiesToAway (математическое \n",
       "                      округление)\n",
       "    ROUND_HALF_DOWN - округление до ближайшего меньшего по модулю, \n",
       "                      широкораспространённых аналогов не имеет, \n",
       "                      в IEEE 754 не входит\n",
       "    ROUND_UP        - округление к большему по модулю, \n",
       "                      широкораспространённых аналогов не имеет, \n",
       "                      в IEEE 754 не входит\n",
       "    ROUND_05UP      - округление к меньшему по модулю, если последняя \n",
       "                      цифра результата не получается 0 или 5, в этом \n",
       "                      случае округление к большему по модулю,\n",
       "                      широкораспространённых аналогов не имеет, \n",
       "                      в IEEE 754 не входит\n",
       "fmt_out:\n",
       "    `True` - точно округляется/усекается машинное представление, см. \n",
       "    ниже \"Возвращаемое значение\";\n",
       "    \n",
       "    `False` - требуется точное округление человекочитаемого \n",
       "    представления;\n",
       "    \n",
       "    Если не задан, используется наиболее быстрый метод, возможно, \n",
       "    неразличающий эти случаи, например, ввиду ошибок округления или \n",
       "    иных причин. Примерно аналогично функции `numpy.round(a, \n",
       "    decimals=0, out=None)`\n",
       "\n",
       "Возвращаемое значение\n",
       "---------------------\n",
       "    Если аргумент `ndigits` не задан (`None`), то выполняется \n",
       "    округление к целому (`fmt_out` игнорируется, ввиду совпадения \n",
       "    представлений), возвращается результат типа `int`\n",
       "\n",
       "    Если `fmt_out == True`, то `exr_round(...)` является машинным \n",
       "    представлением округлённого машинного представления `x`, что \n",
       "    аналогично форматному выводу большинства языков программирования, \n",
       "    а так же стандартной функции Python `round()` (машинное \n",
       "    представление зависит от типа аргумента, у `float` и `numpy.double` \n",
       "    - двоичное, а у `decimal.Decimal`, `str` - десятичное).\n",
       "\n",
       "    Если `fmt_out == False`, то `str(exr_round(...))` является \n",
       "    округлённым значением `str(x)`, т.е. округляем человекочитаемое \n",
       "    представление `x`. Может применяться, например, при округлении \n",
       "    входных данных и т.п.\n",
       "\n",
       "    Для методов ROUND_FLOOR и ROUND_DOWN гарантируется, что результат не \n",
       "    больше (абсолютно или, соответственно, по модулю) входного значения. \n",
       "    Аналогично, для методов ROUND_CEILING и ROUND_UP, не меньше.\n",
       "\n",
       "    В данном макете, по умолчанию, округляется человекочитаемое \n",
       "    представление, поскольку `Decimal(float(x))` почти наполовину \n",
       "    забит \"ошибками\" округления двоичного значения `float` (само \n",
       "    преобразование, конечно, точное, но 2**-52 имеет 53 знака после \n",
       "    запятой), `Decimal(str(x))` заметно эффективнее.\n",
       "\n",
       "    Для `np.array` поддерживаются только 0-мерные массивы.\n",
       "\n",
       ">>> import decimal\n",
       ">>> import numpy as np\n",
       ">>>\n",
       ">>> exr_decimal_round(2.0115, 3, fmt_out=True)\n",
       "2.011\n",
       ">>> exr_decimal_round(2.0115, 3, fmt_out=False)\n",
       "2.012\n",
       ">>> exr_decimal_round(decimal.Decimal(\"2.0115\"), 3, fmt_out=True)\n",
       "Decimal('2.012')\n",
       ">>> exr_decimal_round(decimal.Decimal(\"2.0115\"), 3, fmt_out=False)\n",
       "Decimal('2.012')\n",
       ">>> exr_decimal_round(np.double(4.00001), 5, rounding=decimal.ROUND_DOWN, \n",
       "...                   fmt_out=True)\n",
       "np.float64(4.0)\n",
       ">>> exr_decimal_round(np.double(4.00001), 5, rounding=decimal.ROUND_DOWN, \n",
       "...                   fmt_out=False)\n",
       "np.float64(4.00001)\n",
       ">>> exr_decimal_round(\"4.00001\", 5, rounding=decimal.ROUND_DOWN, \n",
       "...                   fmt_out=True)\n",
       "'4.00001'\n",
       ">>> exr_decimal_round(\"4.00001\", 5, rounding=decimal.ROUND_DOWN, \n",
       "...                   fmt_out=False)\n",
       "'4.00001'\n",
       ">>> exr_decimal_round(\"inf\", 0)\n",
       "'Infinity'\n",
       ">>> exr_decimal_round(\"nan\", 0)\n",
       "'NaN'\n",
       ">>> exr_decimal_round(2012.5, 0)\n",
       "2013.0\n",
       ">>> exr_decimal_round(2012.5)\n",
       "2013\n",
       ">>> exr_decimal_round(np.longdouble(\"0.222222222222222225\"), 17,  # \n",
       "...                   fmt_out=True)\n",
       "np.longdouble('0.22222222222222222')\n",
       ">>> exr_decimal_round(np.longdouble(\"0.222222222222222225\"), 17,  #  \n",
       "...                   fmt_out=False)\n",
       "np.longdouble('0.22222222222222223')\n",
       ">>> a0d = np.array(np.longdouble('3156294995342131.5065'))\n",
       ">>> exr_decimal_round(a0d, 3)                               # \n",
       "np.longdouble('3156294995342131.507')\n",
       "\u001b[0;31mFile:\u001b[0m      /var/folders/wy/z0gbkfgs7mv24ryqkdm90rm40009rh/T/ipykernel_12065/3243505575.py\n",
       "\u001b[0;31mType:\u001b[0m      function"
      ]
     },
     "metadata": {},
     "output_type": "display_data"
    }
   ],
   "source": [
    "exr_decimal_round?"
   ]
  },
  {
   "cell_type": "markdown",
   "id": "a6561aa0-892d-4a93-988e-a2d50e1fd9c2",
   "metadata": {},
   "source": [
    "##### Спойлер тестов"
   ]
  },
  {
   "cell_type": "code",
   "execution_count": 10,
   "id": "98a02da6-6054-4a45-8c35-0e11bcba6b7e",
   "metadata": {},
   "outputs": [
    {
     "data": {
      "text/plain": [
       "{'idn': True,\n",
       " 'cnt': {'total': 64976, 'except': 0, 'diff': 0, 'type': 0, 'zdiff': 0},\n",
       " 'abs_diff': exr_diff_collect(max_diff=0, max_case=None),\n",
       " 'ndigit_diff': exr_diff_collect(max_diff=0, max_case=None),\n",
       " 'ulp_diff': exr_diff_collect(max_diff=0, max_case=None)}"
      ]
     },
     "execution_count": 10,
     "metadata": {},
     "output_type": "execute_result"
    }
   ],
   "source": [
    "def _exr_nextafters(x, steps):\n",
    "    if np.isnan(x):\n",
    "        return [x]\n",
    "    t = type(x)\n",
    "    r = [ x ]\n",
    "    for _ in range(steps):\n",
    "        n = t(np.nextafter(r[0], -np.inf))\n",
    "        if n != r[0]:\n",
    "            r.insert(0, n)\n",
    "        n = t(np.nextafter(r[-1], np.inf))\n",
    "        if n != r[-1]:\n",
    "            r.append(n)\n",
    "    if x:\n",
    "        r += [-y for y in r]\n",
    "    else:\n",
    "        r += [-x]\n",
    "    return r\n",
    "\n",
    "def _exr_defaults(a, dflt):\n",
    "    if a is None:\n",
    "        return dflt  #if hasattr(a, '__iter__') else [dflt]\n",
    "    elif hasattr(a, '__iter__') and not isinstance(a, str):  # TODO\n",
    "        return a\n",
    "    return [a]\n",
    "\n",
    "def _exr_call(f, *args, **kwargs):\n",
    "    return f(*args, **{arg: val for arg, val in kwargs.items() if val is not None})\n",
    "\n",
    "class _exr_diff_collect:\n",
    "    def __init__(self):\n",
    "        self.max_diff = 0\n",
    "        self.max_case = None\n",
    "    def add(self, q, std, chk, x, args):\n",
    "        if not np.isfinite(q):\n",
    "            print(f\"exr_diff_collect.add({q=}, {std=}, {chk=}, {x=}, {args=})\")\n",
    "        diff = q*abs(std - chk)\n",
    "        if diff > self.max_diff:\n",
    "            self.max_diff = diff\n",
    "            self.max_case = dict(std=std, chk=chk, x=x, args=args)\n",
    "    def __repr__(self):\n",
    "        return f\"exr_diff_collect(max_diff={self.max_diff}, max_case={self.max_case})\"\n",
    "\n",
    "_exr_numbers_from_text = [\n",
    "    '2.675', '2.0115', '20115', '4.00001', '2013.0', \"0.222222222222222225\",\n",
    "    \"2.71828182845904523536028747135266e25\", '56294995342131.5', \n",
    "    '16.055', '16.085', \n",
    "    # Умножение?\n",
    "    '8589934591.059999', '2147483647.8799999', '536870911.96999997',\n",
    "    '268435455.76999998', '67108863.949999996',\n",
    "    # Деление\n",
    "    '524287.9999291525', '524287.9999291524', \n",
    "    '262143.99998263217', '262143.9999826321',\n",
    "    '2.654', '1.9', '0.21', '2.01', '201.0', '0.55555555555555555555555', \n",
    "    \"0.15\", \"0.145\", \"0.0000005\", \n",
    "    '249.99999999999997', '5.465', '0.00261', '0.00161', str(0.15+0.005*62),\n",
    "    '2.0125', '0.05', '0.25', '0.005', '0.015', '0.025', '0.0115'\n",
    "]\n",
    "_exr_numbers_from_text.sort()\n",
    "for x, y in zip(_exr_numbers_from_text[:-1], _exr_numbers_from_text[1:]):\n",
    "    assert x < y, f\"Duplicate {x, y=}\"\n",
    "_exr_numbers_from_text += [float(x) for x in _exr_numbers_from_text]\n",
    "\n",
    "def exr_check_floats(f, types_x=None, test_xs=None, test_ndigits=None, \n",
    "                     test_roundings=None, test_fmt_outs=None, \n",
    "                     nsteps=16, zero_diff=True, inf_nan=True, \n",
    "                     verbose=0,\n",
    "                     standard=exr_decimal_round):\n",
    "    ndigits_none_exceptions = (OverflowError, ValueError)\n",
    "    idn = True\n",
    "    cnt = {'total': 0, 'except': 0, 'diff': 0, 'type': 0, 'zdiff': 0}\n",
    "    abs_diff = _exr_diff_collect()\n",
    "    ndigit_diff = _exr_diff_collect()\n",
    "    ulp_diff = _exr_diff_collect()\n",
    "\n",
    "    def fail_verbose(label, diff):\n",
    "        nonlocal idn, verbose, chk, std, x, chk_args\n",
    "        if diff:\n",
    "            idn = False\n",
    "            cnt[label] += 1\n",
    "            if verbose:\n",
    "                print(f\"{label}: {chk, std, x=} {chk_args=}\")\n",
    "                verbose -= 1\n",
    "            \n",
    "    for t in _exr_defaults(types_x, _exr_float_types):\n",
    "        max_spacing = np.finfo(t).max\n",
    "        min_inversible = 1/np.finfo(t).max\n",
    "        for x0 in _exr_defaults(test_xs, \n",
    "                                (list(np.arange(0., 4.01, 1/16))\n",
    "                                 + [str(a) + str(b) + k*'0' + '.' \n",
    "                                    + k*'0' + str(a) + str(b)\n",
    "                                    for a in range(10)\n",
    "                                    for b in range(0, 10, 5)\n",
    "                                    for k in range(3)]\n",
    "                                 + ([np.inf, np.nan] if inf_nan else [])\n",
    "                                 #+ _exr_numbers_from_text\n",
    "                                )):\n",
    "            for x in _exr_nextafters(t(x0), nsteps):\n",
    "                for ndigits in _exr_defaults(test_ndigits, \n",
    "                                             [None] + list(range(-3, 4, 1))):\n",
    "                    for rounding in _exr_defaults(test_roundings, \n",
    "                                                  _exr_roundings):\n",
    "                        for fmt_out in _exr_defaults(test_fmt_outs,\n",
    "                                                     [None, True, False]):\n",
    "                            try:\n",
    "                                std = standard(x, ndigits=ndigits, \n",
    "                                               rounding=rounding, \n",
    "                                               fmt_out=fmt_out)\n",
    "                            except ndigits_none_exceptions as e:\n",
    "                                std = e\n",
    "                                if ndigits is not None  or  np.isfinite(x):\n",
    "                                    assert False, (\n",
    "                                        f\"{std, x=} {ndigits, rounding, fmt_out, standard=}\"\n",
    "                                    )\n",
    "                            chk_args = {\n",
    "                                'ndigits': ndigits\n",
    "                            }\n",
    "                            if not isinstance(test_roundings, str):\n",
    "                                chk_args['rounding'] = rounding\n",
    "                            if (test_fmt_outs is None or \n",
    "                                hasattr(test_fmt_outs, '__iter__')):\n",
    "                                chk_args['fmt_out'] = fmt_out\n",
    "                            try:\n",
    "                                chk = _exr_call(f, x, **chk_args)\n",
    "                            except ndigits_none_exceptions as e:\n",
    "                                chk = e\n",
    "                                if ndigits is not None  or  np.isfinite(x):\n",
    "                                    fail_verbose(\"except\", True)\n",
    "                                continue\n",
    "                            cnt[\"total\"] += 1\n",
    "                            if type(chk) != type(std):\n",
    "                                fail_verbose(\"type\", True)\n",
    "                            if (chk or std):\n",
    "                                diff = (not (chk == std) and\n",
    "                                        not (isinstance(chk, _exr_float_types) and\n",
    "                                             np.isnan(chk) and np.isnan(std)))\n",
    "                                fail_verbose(\"diff\", diff)\n",
    "                            else:\n",
    "                                diff = not ((chk == std) and \n",
    "                                            (str(chk) == str(std)))\n",
    "                                fail_verbose(\"zdiff\", diff)\n",
    "                            if diff:\n",
    "                                idn = False\n",
    "                                abs_diff.add(1, std, chk, x, chk_args)\n",
    "                                ndigit_diff.add(10**(ndigits if ndigits else 0), \n",
    "                                                std, chk, x, chk_args)\n",
    "                                if (abs(x) < max_spacing and\n",
    "                                    abs(np.spacing(x)) > min_inversible):\n",
    "                                    ulp_diff.add(t(1.)/np.spacing(x), \n",
    "                                                 std, chk, x, chk_args)\n",
    "    return dict(idn=idn, cnt=cnt, \n",
    "                abs_diff=abs_diff, ndigit_diff=ndigit_diff, ulp_diff=ulp_diff)\n",
    "\n",
    "exr_check_floats(round, test_roundings=decimal.ROUND_HALF_EVEN, \n",
    "                 test_fmt_outs=True, inf_nan=False,\n",
    "                 types_x=float,\n",
    "                 verbose=10)\n",
    "# exr_check_floats(round, test_roundings=decimal.ROUND_HALF_EVEN, test_fmt_outs=True)"
   ]
  },
  {
   "cell_type": "markdown",
   "id": "4b640139-c2dc-4d08-9d25-91587730ff29",
   "metadata": {},
   "source": [
    "## Методы округления к `int`, отсутствующие в `math`"
   ]
  },
  {
   "cell_type": "code",
   "execution_count": 1,
   "id": "95660fdc-c516-4e98-b4bb-4a485a1f20fe",
   "metadata": {},
   "outputs": [
    {
     "ename": "NameError",
     "evalue": "name 'math' is not defined",
     "output_type": "error",
     "traceback": [
      "\u001b[31m---------------------------------------------------------------------------\u001b[39m",
      "\u001b[31mNameError\u001b[39m                                 Traceback (most recent call last)",
      "\u001b[36mCell\u001b[39m\u001b[36m \u001b[39m\u001b[32mIn[1]\u001b[39m\u001b[32m, line 1\u001b[39m\n\u001b[32m----> \u001b[39m\u001b[32m1\u001b[39m _ext_sql_round_05to0 = \u001b[43mmath\u001b[49m.nextafter(\u001b[32m0.5\u001b[39m, \u001b[32m0\u001b[39m)\n\u001b[32m      3\u001b[39m \u001b[38;5;28;01mdef\u001b[39;00m\u001b[38;5;250m \u001b[39m\u001b[34mexr_sql_round_int\u001b[39m(x, domain=math):\n\u001b[32m      4\u001b[39m \u001b[38;5;250m    \u001b[39m\u001b[33;03m\"\"\"\u001b[39;00m\n\u001b[32m      5\u001b[39m \u001b[33;03m    Целая реализация округления до ближайшего большего по модулю, \u001b[39;00m\n\u001b[32m      6\u001b[39m \u001b[33;03m    аналогична функции C/C++/SQL/... `round()`, IEEE 754: roundTiesToAway \u001b[39;00m\n\u001b[32m      7\u001b[39m \u001b[33;03m    (математическое округление), ROUND_HALF_UP.\u001b[39;00m\n\u001b[32m      8\u001b[39m \u001b[33;03m    \"\"\"\u001b[39;00m\n",
      "\u001b[31mNameError\u001b[39m: name 'math' is not defined"
     ]
    }
   ],
   "source": [
    "_ext_sql_round_05to0 = math.nextafter(0.5, 0)\n",
    "\n",
    "def exr_sql_round_int(x, domain=math):\n",
    "    \"\"\"\n",
    "    Целая реализация округления до ближайшего большего по модулю, \n",
    "    аналогична функции C/C++/SQL/... `round()`, IEEE 754: roundTiesToAway \n",
    "    (математическое округление), ROUND_HALF_UP.\n",
    "    \"\"\"\n",
    "    if domain == math:\n",
    "        return (math.trunc(x + math.copysign(0.5, x)) \n",
    "                if abs(x) != _ext_sql_round_05to0 else 0)\n",
    "    xf, xi = np.modf(x)\n",
    "    return xi + domain.copysign(abs(xf) >= 0.5, x)  ## TODO np.where или что-то\n",
    "    #return domain.trunc(x + domain.copysign(0.5, x))\n",
    "    # Варианты:\n",
    "    # math.trunc(x + math.copysign(0.5, x)) if abs(x) != math.nextafter(0.5, 0)\n",
    "    # t = math.trunc(x); t + math.copysign(abs(x - t) >= 0.5, x)\n",
    "    # xf, xi = math.modf(x); xi + math.copysign((0.5 <= abs(xf)), xf)\n",
    "    # xf, xi = math.modf(x); xi + ((0.5 <= xf) if 0 <= xf else -(0.5 <= -xf))\n",
    "\n",
    "def exr_half_down_int(x, domain=math):\n",
    "    \"\"\"\n",
    "    Целая реализация округления до ближайшего меньшего по модулю, \n",
    "    ROUND_HALF_DOWN.\n",
    "    \"\"\"\n",
    "    if domain == math:\n",
    "        return math.ceil(x - 0.5) if 0 <= x else math.floor(x + 0.5)\n",
    "    return np.where(0 <= x, np.ceil(x - 0.5), np.floor(x + 0.5))\n",
    "\n",
    "def exr_up_int(x, domain=math):\n",
    "    \"\"\"\n",
    "    Целая реализация округления к большему по модулю, ROUND_UP.\n",
    "    \"\"\"        \n",
    "    if domain == math:\n",
    "        return math.ceil(x) if 0 <= x else math.floor(x)\n",
    "    return np.where(0 <= x, np.ceil(x), np.floor(x))\n",
    "\n",
    "def exr_05up_int(x, domain=math):\n",
    "    \"\"\"\n",
    "    Целая реализация округления к меньшему по модулю, если последняя \n",
    "    цифра результата не получается 0 или 5, в этом случае округление \n",
    "    к большему по модулю, ROUND_05UP.\n",
    "    \"\"\"\n",
    "    tx = domain.trunc(x)\n",
    "    ux = exr_up_int(x, domain=domain)\n",
    "    return np.where(tx%5, tx, ux)\n",
    "\n",
    "# Интерфейсы к стандартным методам округления\n",
    "\n",
    "def exr_ceil_int(x, domain=math):\n",
    "    return domain.ceil(x)\n",
    "    # Варианты:\n",
    "    # x - x%-1.\n",
    "    # -(x//-1.)\n",
    "    # math.ceil(x)\n",
    "\n",
    "def exr_trunc_int(x, domain=math):\n",
    "    return domain.trunc(x)\n",
    "    # Варианты:\n",
    "    # x - math.fmod(x, 1.)\n",
    "    # math.trunc(x)\n",
    "    # math.modf(x)[1]\n",
    "    # x - math.modf(x)[0]\n",
    "\n",
    "def exr_floor_int(x, domain=math):\n",
    "    return domain.floor(x)\n",
    "    # Варианты:\n",
    "    # x//1.\n",
    "    # x - x%1.\n",
    "    # float(math.floor(x))\n",
    "    # divmod(x, 1.)[0]\n",
    "\n",
    "def exr_np_round_int(x, domain=np):\n",
    "    return np.round(x)\n",
    "\n",
    "_exr_int_sw = {\n",
    "    decimal.ROUND_CEILING:   exr_ceil_int,\n",
    "    decimal.ROUND_DOWN:      exr_trunc_int,\n",
    "    decimal.ROUND_FLOOR:     exr_floor_int,\n",
    "    decimal.ROUND_HALF_EVEN: exr_np_round_int,\n",
    "    decimal.ROUND_HALF_UP:   exr_sql_round_int,\n",
    "    decimal.ROUND_HALF_DOWN: exr_half_down_int,\n",
    "    decimal.ROUND_UP:        exr_up_int,\n",
    "    decimal.ROUND_05UP:      exr_05up_int,\n",
    "}\n"
   ]
  },
  {
   "cell_type": "markdown",
   "id": "a3f52a75-4e6b-474d-8b64-dc3eceed39c5",
   "metadata": {},
   "source": [
    "### Спойлер тестов"
   ]
  },
  {
   "cell_type": "code",
   "execution_count": null,
   "id": "b8ab6542-257b-41b3-9c98-ed16ccf30a67",
   "metadata": {},
   "outputs": [],
   "source": []
  },
  {
   "cell_type": "code",
   "execution_count": 14,
   "id": "47e4b343-507c-412a-8e20-9adf8bdec99b",
   "metadata": {},
   "outputs": [
    {
     "name": "stderr",
     "output_type": "stream",
     "text": [
      "----------------------------------------------------------------------\n",
      "Ran 3 tests in 0.043s\n",
      "\n",
      "OK\n"
     ]
    },
    {
     "data": {
      "text/plain": [
       "<unittest.main.TestProgram at 0x11190ba70>"
      ]
     },
     "execution_count": 14,
     "metadata": {},
     "output_type": "execute_result"
    }
   ],
   "source": [
    "\n",
    "class TestRoundingsInt(unittest.TestCase):\n",
    "    def test_math_roundings(self):\n",
    "        for r, f in _exr_int_sw.items():\n",
    "            with self.subTest(r=r):\n",
    "                for x in np.arange(-2., 2., 0.25):\n",
    "                    self.assertEqual(f(x), exr_decimal_round(x, rounding=r),\n",
    "                                     msg=f\"{x=}\")\n",
    "                    for i in [-math.inf, math.inf]:\n",
    "                        y = x\n",
    "                        for _ in range(3):\n",
    "                            y = math.nextafter(y, i)\n",
    "                            self.assertEqual(f(y), \n",
    "                                             exr_decimal_round(y, rounding=r),\n",
    "                                             msg=f\"{x=} {i=} {_=} {y=}\")\n",
    "    def test_np_scalar_roundings(self):\n",
    "        for r, f in _exr_int_sw.items():\n",
    "            with self.subTest(r=r):\n",
    "                for x in np.arange(-2., 2., 0.25):\n",
    "                    self.assertEqual(f(x, domain=np), \n",
    "                                     exr_decimal_round(x, rounding=r),\n",
    "                                     msg=f\"{x=}\")\n",
    "                    for i in [-math.inf, math.inf]:\n",
    "                        y = x\n",
    "                        for _ in range(3):\n",
    "                            y = np.nextafter(y, i)\n",
    "                            self.assertEqual(f(y, domain=np), \n",
    "                                             exr_decimal_round(y, rounding=r),\n",
    "                                             msg=f\"{x=} {i=} {_=} {y=}\")\n",
    "    def test_np_array_roundings(self):\n",
    "        for r, f in _exr_int_sw.items():\n",
    "            with self.subTest(r=r):\n",
    "                x = np.arange(-2., 2., 0.25)\n",
    "                rx = np.vectorize(lambda x: exr_decimal_round(x, rounding=r)\n",
    "                                 )(x)\n",
    "                np.testing.assert_equal(f(x, domain=np), rx,\n",
    "                                               err_msg=f\"{x=}\")\n",
    "                for i in [-math.inf, math.inf]:\n",
    "                    y = x\n",
    "                    for _ in range(3):\n",
    "                        y = np.nextafter(y, i)\n",
    "                        ry = np.vectorize(\n",
    "                                lambda x: exr_decimal_round(x, rounding=r)\n",
    "                            )(y)\n",
    "                        np.testing.assert_equal(f(y, domain=np), ry,\n",
    "                                               err_msg=f\"{i=} {y=}\")\n",
    "\n",
    "unittest.main(argv=[''], verbosity=0, exit=False)"
   ]
  },
  {
   "cell_type": "markdown",
   "id": "c7dd5036-5dbd-4e84-b695-31e500eedf93",
   "metadata": {},
   "source": [
    "## Машинное и человекочитаемое представление"
   ]
  },
  {
   "cell_type": "markdown",
   "id": "72a4e5ad-afe6-4678-81f2-58fd529a7ec9",
   "metadata": {},
   "source": [
    "Python, как и многие языки программирования, определяет, во-первых, \n",
    "[представление `float`](https://docs.python.org/3/c-api/float.html) как \n",
    "`binary64` на платформах с поддержкой IEEE 754 (IEC 60559), и во-вторых, \n",
    "взаимно однозначное соответствие между подмножеством строк и значениями \n",
    "`float`: [`float(repr(x)) == x`](https://docs.python.org/3/library/sys.html#sys.float_repr_style).\n",
    "\n",
    "Для распространённых обобщённых типов: `np.half`, `np.single`, `np.double`, \n",
    "`np.longdouble`, `fractions.Fraction`, `decimal.Decimal` это соответствие \n",
    "выглядит как: `type(x)(str(x)) == x`.\n",
    "\n",
    "Но, несмотря на это взаимно однозначное соответствие значений, их \n",
    "\"естественное\" округление немного различается, что порождает сюрпризы вида: \n",
    "`5.0 == exr_easy_round(5.00001, 5, 'ROUND_DOWN', fmt_out=True)` - \"Как так? \n",
    "Вроде как, идеальное усечение до пяти знаков, уничтожает 1 в пятом знаке?!\".\n",
    "\n",
    "Таким образом, строго говоря, во фразе: \"Округление/усечение до определённой \n",
    "цифры\", семантика позиции цифры ни черта не определённая. Строго говоря, \n",
    "требуется явное указание, что это имеется ввиду позиция цифры для машинного \n",
    "представления. Хотя неформально, общепринято опускать это уточнения.\n",
    "\n",
    "Но иногда, может потребоваться иное. Вобщем, задачи округления `x` и \n",
    "`str(x)`, немного различаются, обе могут иметь некоторый смысл и имеют \n",
    "достаточно строгую постановку.\n",
    "\n",
    "Несложно показать, что задача округления `str(x)` для округления к целому \n",
    "идентична задаче округления `x` (и для `ndigits < 0` тоже экивалентна, но\n",
    "учёт ошибок округления отличается). А для `ndigits > 0` имеет решение вида:\n",
    "\n",
    "$$round\\_int\\left(\\left( x \\pm \\frac{ULP(x)}{2} \\right) \\otimes 10^{ndigits}\n",
    "                  \\right) \\oslash 10^{ndigits}$$"
   ]
  },
  {
   "cell_type": "markdown",
   "id": "1cc30dc7-6e4d-4458-b458-747b88f2f842",
   "metadata": {},
   "source": [
    "## Требования к точности вычислений при округлении/усечении\n",
    "\n"
   ]
  },
  {
   "cell_type": "code",
   "execution_count": 67,
   "id": "9469f624-c07d-4726-b1f5-1b842e915ca1",
   "metadata": {},
   "outputs": [
    {
     "name": "stdout",
     "output_type": "stream",
     "text": [
      "np.round: type(r), r=(<class 'numpy.float16'>, inf)\n",
      "np.divmod: type(r), r=(<class 'numpy.float16'>, 2.012)\n",
      "exr_decimal_round: type(rc), rc=(<class 'numpy.float16'>, 2.012)\n"
     ]
    }
   ],
   "source": [
    "x = np.half('2.0115')\n",
    "n = 5\n",
    "r = np.round(x, n)\n",
    "print(f\"np.round: {type(r), r=}\")\n",
    "t2 = type(x)(2)\n",
    "i2, f2 = np.divmod(x, t2)\n",
    "r = i2*t2 + np.round(f2, n)\n",
    "print(f\"np.divmod: {type(r), r=}\")\n",
    "rc = exr_decimal_round(x, n, 'ROUND_HALF_EVEN', fmt_out='True')\n",
    "print(f\"exr_decimal_round: {type(rc), rc=}\")"
   ]
  },
  {
   "cell_type": "code",
   "execution_count": 83,
   "id": "d47b15f1-c100-4075-834f-f84bc9ce085a",
   "metadata": {},
   "outputs": [
    {
     "name": "stdout",
     "output_type": "stream",
     "text": [
      "np.round: type(r), r=(<class 'numpy.float16'>, 210.0)\n",
      "exr_decimal_round: type(rc), rc=(<class 'numpy.float16'>, 210.0)\n"
     ]
    }
   ],
   "source": [
    "x = np.half('215')\n",
    "x = np.nextafter(np.half('215'), np.half(0))\n",
    "n = -1\n",
    "r = np.round(x, n)\n",
    "print(f\"np.round: {type(r), r=}\")\n",
    "# t2 = type(x)(2)\n",
    "# i2, f2 = np.divmod(x, t2)\n",
    "# r = i2*t2 + np.round(f2, n)\n",
    "# print(f\"np.divmod: {type(r), r=}\")\n",
    "rc = exr_decimal_round(x, n, 'ROUND_HALF_EVEN', fmt_out='True')\n",
    "print(f\"exr_decimal_round: {type(rc), rc=}\")"
   ]
  },
  {
   "cell_type": "code",
   "execution_count": 86,
   "id": "fedeef19-75a1-4c95-9f2c-8182468ee3ed",
   "metadata": {},
   "outputs": [
    {
     "name": "stdout",
     "output_type": "stream",
     "text": [
      "Machine parameters for float16\n",
      "---------------------------------------------------------------\n",
      "precision =   3   resolution = 1.00040e-03\n",
      "machep =    -10   eps =        9.76562e-04\n",
      "negep =     -11   epsneg =     4.88281e-04\n",
      "minexp =    -14   tiny =       6.10352e-05\n",
      "maxexp =     16   max =        6.55040e+04\n",
      "nexp =        5   min =        -max\n",
      "smallest_normal = 6.10352e-05   smallest_subnormal = 5.96046e-08\n",
      "---------------------------------------------------------------\n",
      "\n"
     ]
    }
   ],
   "source": [
    "print(np.finfo(x))"
   ]
  },
  {
   "cell_type": "code",
   "execution_count": 105,
   "id": "45c20969-77ef-488a-a886-ab3484a9a3a9",
   "metadata": {},
   "outputs": [
    {
     "name": "stdout",
     "output_type": "stream",
     "text": [
      "2044.0 2045.0 2046.0\n",
      "2045.0 2045.0\n",
      "2045.0 2045.0 2045.0\n"
     ]
    }
   ],
   "source": [
    "x = np.half('2045')\n",
    "print(np.nextafter(x, type(x)(-np.inf)), x, np.nextafter(x, type(x)(np.inf)))\n",
    "print(np.round(x), type(x)(exr_sql_round_int(x)))\n",
    "print(np.floor(x), np.trunc(x), np.ceil(x))"
   ]
  },
  {
   "cell_type": "code",
   "execution_count": 160,
   "id": "d4da97ac-e2ae-4944-a541-d158c75b49c6",
   "metadata": {
    "scrolled": true
   },
   "outputs": [
    {
     "name": "stdout",
     "output_type": "stream",
     "text": [
      "x, xmax=(0.05, inf)\n"
     ]
    },
    {
     "name": "stderr",
     "output_type": "stream",
     "text": [
      "/var/folders/wy/z0gbkfgs7mv24ryqkdm90rm40009rh/T/ipykernel_12065/3978451147.py:15: RuntimeWarning: overflow encountered in nextafter\n",
      "  x = np.nextafter(x, qinf)\n"
     ]
    },
    {
     "data": {
      "text/plain": [
       "20891"
      ]
     },
     "execution_count": 160,
     "metadata": {},
     "output_type": "execute_result"
    }
   ],
   "source": [
    "n = 0\n",
    "q = np.half(10**-n)\n",
    "lim = type(q)(4)\n",
    "qinf = type(q)(np.inf)\n",
    "x = type(q)(0.05)\n",
    "xmax = type(q)(np.inf)\n",
    "print(f\"{x, xmax=}\")\n",
    "cnt = 1\n",
    "while x < qinf:\n",
    "    r = np.round(x, n)\n",
    "    rc = exr_decimal_round(x, n, 'ROUND_HALF_EVEN', fmt_out='True')\n",
    "    if r != rc:\n",
    "        print(f\"{x, n=}, {r, rc=}\")\n",
    "        break\n",
    "    x = np.nextafter(x, qinf)\n",
    "    cnt += 1\n",
    "cnt"
   ]
  },
  {
   "cell_type": "code",
   "execution_count": 156,
   "id": "36d2967d-e5c4-424d-9550-e4567a9a0c3b",
   "metadata": {},
   "outputs": [
    {
     "data": {
      "text/plain": [
       "(6400.0, 6500.0, 6500.0)"
      ]
     },
     "execution_count": 156,
     "metadata": {},
     "output_type": "execute_result"
    }
   ],
   "source": [
    "r, rc, exr_decimal_round(x, n, 'ROUND_HALF_EVEN', fmt_out='False')"
   ]
  },
  {
   "cell_type": "code",
   "execution_count": 157,
   "id": "2e65695c-425a-4cc5-a448-5efbeaed0771",
   "metadata": {},
   "outputs": [
    {
     "data": {
      "text/plain": [
       "6500.0"
      ]
     },
     "execution_count": 157,
     "metadata": {},
     "output_type": "execute_result"
    }
   ],
   "source": [
    "exr_decimal_round(x, n, 'ROUND_HALF_EVEN', fmt_out='True')"
   ]
  },
  {
   "cell_type": "code",
   "execution_count": null,
   "id": "166f1394-f58c-4817-a774-46faaba16be4",
   "metadata": {},
   "outputs": [],
   "source": []
  },
  {
   "cell_type": "code",
   "execution_count": 158,
   "id": "3cf5e214-a7b5-4b09-b24f-129f5f46d972",
   "metadata": {},
   "outputs": [
    {
     "data": {
      "text/plain": [
       "(64.44, 64.5, 64.56)"
      ]
     },
     "execution_count": 158,
     "metadata": {},
     "output_type": "execute_result"
    }
   ],
   "source": [
    "x10=x/q\n",
    "np.nextafter(x10, -qinf), x10, np.nextafter(x10, qinf)"
   ]
  },
  {
   "cell_type": "code",
   "execution_count": 154,
   "id": "f003afc3-0a86-4d08-adba-312bde84bb20",
   "metadata": {},
   "outputs": [
    {
     "data": {
      "text/plain": [
       "Decimal('256.5')"
      ]
     },
     "execution_count": 154,
     "metadata": {},
     "output_type": "execute_result"
    }
   ],
   "source": [
    "decimal.Decimal(float(x10))"
   ]
  },
  {
   "cell_type": "code",
   "execution_count": null,
   "id": "7bc063c5-087c-4b37-8235-8f2cdc7f9bda",
   "metadata": {},
   "outputs": [],
   "source": []
  },
  {
   "cell_type": "code",
   "execution_count": null,
   "id": "1ddfe247-863c-495a-ba89-3e7cbe53aad7",
   "metadata": {},
   "outputs": [],
   "source": []
  },
  {
   "cell_type": "code",
   "execution_count": 142,
   "id": "4939ffc5-312b-4313-8de7-133942478ae9",
   "metadata": {},
   "outputs": [
    {
     "data": {
      "text/plain": [
       "(2566.0, '2566.0')"
      ]
     },
     "execution_count": 142,
     "metadata": {},
     "output_type": "execute_result"
    }
   ],
   "source": []
  },
  {
   "cell_type": "code",
   "execution_count": null,
   "id": "a50ea1e0-b380-48e9-b886-c6530f6a9391",
   "metadata": {},
   "outputs": [],
   "source": []
  },
  {
   "cell_type": "markdown",
   "id": "d268c682-371b-4e68-8a8d-d1b4b92df46b",
   "metadata": {},
   "source": [
    "В случае $ndigits \\lt 0$"
   ]
  },
  {
   "cell_type": "code",
   "execution_count": 29,
   "id": "48cd0cd3-1c64-4525-a688-2d07de8a4606",
   "metadata": {},
   "outputs": [
    {
     "data": {
      "text/plain": [
       "0.01172"
      ]
     },
     "execution_count": 29,
     "metadata": {},
     "output_type": "execute_result"
    }
   ],
   "source": []
  },
  {
   "cell_type": "markdown",
   "id": "ddde2f76-2da4-42b1-8391-0abbe9f6be13",
   "metadata": {},
   "source": [
    "### Вычисление на точности входного аргумента"
   ]
  },
  {
   "cell_type": "markdown",
   "id": "416e91e2-bf7c-454b-b347-3339bc1b154f",
   "metadata": {},
   "source": [
    "В случае $ndigits = 0$ выражение `type(x)(round_int(x))` всегда точно, \n",
    "поскольку, в худшем случае, минимального $ULP(round\\_int(x)) = 1$ ближайшее \n",
    "нецелое $x_{err} = x - 0.5$.\n",
    "\n",
    "В случае $ndigits \\gt 0$, если вычислять \n",
    "$round\\_int(x \\otimes 10^{ndigits}) \\oslash 10^{ndigits}$ на точности \n",
    "входного аргумента, как это делает функция Numpy [`np.round(a, decimals=0, out=None)`](https://numpy.org/doc/stable/reference/generated/numpy.round.html)\n",
    "то результат округления/усечения будет неточен. Пример \n",
    "из документации `np.round(56294995342131.5, 3) == 56294995342131.51` немного \n",
    "искусственный, т.к. округляют до трёх знаков, число с \n",
    "наименьшим значащим разрядом `0.0078125`, но тем не менее, \n",
    "поскольку стандартный `round(56294995342131.5, 3) == 56294995342131.5`, то \n",
    "можно же получить корректный ответ. Для небольших чисел, \n",
    "к примеру, в выражении `round(16.055*10**2)/10**2`, иногда ошибки округления \n",
    "приводят к получению вместо нормального округления машинного представления,\n",
    "для которого дано выражение, округления человекочитаемого представления.\n",
    "\n",
    "Более неприятные грабли могут возникать при неточном усечении до заданного \n",
    "знака, если предыдущие случаи, типа, неточное округление - ну, бывает. Но, \n",
    "к примеру, когда при `x=67108863.949999996`, `math.trunc(x*100)/100 > x`, \n",
    "то это может быть немного более неприятно.\n",
    "\n",
    "Зато шустро, наверное, при реализации усечений (ceil, trunc, floor или \n",
    "ROUND_UP) стоит добавить min()/max().\n",
    "\n",
    "Точность вычисления: $10^{-ndigits}$ для $ndigits \\gt 0$ и \n",
    "$0.5 \\times ULP(x)$ для $ndigits \\le 0$."
   ]
  },
  {
   "cell_type": "code",
   "execution_count": 13,
   "id": "cc95082d-1500-409a-a65c-b2d193efc5ed",
   "metadata": {},
   "outputs": [
    {
     "name": "stdout",
     "output_type": "stream",
     "text": [
      "x, n=(56294995342131.5, 3)\n",
      "round(x, n)=56294995342131.5\n",
      "np.round(x, n)=np.float64(56294995342131.51), np.round(x, n) == round(x, n)=np.False_\n",
      "round(x*10**n)/10**n=56294995342131.51, round(x*10**n)/10**n == round(x, n)=False\n",
      "x, n=(16.055, 2)\n",
      "round(x, n)=16.05\n",
      "np.round(x, n)=np.float64(16.06), np.round(x, n) == round(x, n)=np.False_\n",
      "round(x*10**n)/10**n=16.06, round(x*10**n)/10**n == round(x, n)=False\n",
      "round(x*10**n)/10**n == exr_decimal_round(x, n, 'ROUND_HALF_EVEN', fmt_out=True) =False\n",
      "round(x*10**n)/10**n == exr_decimal_round(x, n, 'ROUND_HALF_EVEN', fmt_out=False) =True\n",
      "---\n",
      "x, n=(67108863.949999996, 2)\n",
      "math.trunc(x*100)/100=67108863.95 math.trunc(x*100)/100 <= x =False\n"
     ]
    }
   ],
   "source": [
    "for x, n in [(56294995342131.5, 3), (16.055, 2)]:\n",
    "    print(f\"{x, n=}\")\n",
    "    print(f\"{round(x, n)=}\")\n",
    "    print(f\"{np.round(x, n)=}, {np.round(x, n) == round(x, n)=}\")\n",
    "    print(f\"{round(x*10**n)/10**n=}, {round(x*10**n)/10**n == round(x, n)=}\")\n",
    "\n",
    "print(f\"{round(x*10**n)/10**n == exr_decimal_round(x, n, 'ROUND_HALF_EVEN', fmt_out=True) =}\")\n",
    "print(f\"{round(x*10**n)/10**n == exr_decimal_round(x, n, 'ROUND_HALF_EVEN', fmt_out=False) =}\")\n",
    "print(\"---\")\n",
    "x, n = 67108863.949999996, 2\n",
    "print(f\"{x, n=}\")\n",
    "print(f\"{math.trunc(x*100)/100=} {math.trunc(x*100)/100 <= x =}\")\n"
   ]
  },
  {
   "cell_type": "markdown",
   "id": "dfad4826-2628-46f3-94a7-9bc38e6d0c79",
   "metadata": {},
   "source": [
    "### Вычисление путём преобразования в строку"
   ]
  },
  {
   "cell_type": "markdown",
   "id": "4d43d06c-95d7-497d-bd2b-324d059982a7",
   "metadata": {},
   "source": [
    "Для случая, неограниченного значения `ndigits` и произвольного значения `x`.\n",
    "\n",
    "Метод Python `float.__round__(self, ndigits=None, /)` как раз именно так и \n",
    "реализован, через функцию `_Py_dg_dtoa()`, что эквивалентно \n",
    "`f\"{x:.{ndigits}f}\"`. Возможно, это наиболее простой, если не единственный \n",
    "способ гарантировать соответствие функции округления и форматного \n",
    "преобразования в жизненном цикле разработки Python. Худший случай - 310 \n",
    "символов, конечно, немного удручает, но зато сильные гарантии корректности \n",
    "и совместимости.\n",
    "\n",
    "При реализации иных методов округления этим способом, представляется три \n",
    "потенциально возможные пути использования стандартного алгоритма форматного \n",
    "преобразования:\n",
    "\n",
    "- Использовать преобразование типа `f\"{x:.1074f}\"`, а округлять эту строку\n",
    "  уже самостоятельно, по требуемым правилам. Собственно, где 310,\n",
    "  там и 1384, т.к. в худшем случае будет 309 знаков целой части и 1074 `0` в\n",
    "  дробной. Кроме того, возможно, 1384 можно превратить в функцию от ndigits;\n",
    "- Использовать преобразование `f\"{x:.768g}\"`;\n",
    "- Изменить метод округления процессора на время вызова форматного\n",
    "  преобразования.\n",
    "\n",
    "Впрочем, на фоне, форматного преобразования, и \n",
    "`exr_easy_round()`/`exr_decimal_round()` не так уж плохо выглядят. С \n",
    "гарантиями соответствия форматным преобразованиям по-хуже, зато гарантии \n",
    "корректности методов округления по-лучше.\n",
    "\n",
    "[1] Guy L. Steele, Jr. and Jon L. White, \"How to Print Floating-Point \n",
    "    Numbers Accurately\", [Proc. ACM SIGPLAN '90, pp. 112-126];\n",
    "    \n",
    "[2] David M. Gay, \"Correctly Rounded Binary-Decimal and Decimal-Binary \n",
    "    Conversions\", 1990\n"
   ]
  },
  {
   "cell_type": "code",
   "execution_count": 61,
   "id": "96c1a6af-36ec-4a63-9e04-f55d4e0eabd6",
   "metadata": {},
   "outputs": [
    {
     "name": "stdout",
     "output_type": "stream",
     "text": [
      "float         767 lens=[767, 715, 767, 750, 751, 1, 309, 309, 53, 1, 54]\n",
      "float16        20 lens=[20, 10, 20, 17, 17, 1, 5, 5, 11, 1, 12]\n",
      "float32       112 lens=[112, 89, 112, 104, 105, 1, 39, 39, 24, 1, 25]\n",
      "float64       767 lens=[767, 715, 767, 750, 751, 1, 309, 309, 53, 1, 54]\n",
      "longdouble  11514 lens=[11514, 11451, 11514, 11494, 11495, 1, 4933, 4933, 64, 1, 65]\n"
     ]
    }
   ],
   "source": [
    "for t in [float, np.half, np.single, np.double, np.longdouble]:\n",
    "    bs = [np.finfo(t).smallest_normal, np.finfo(t).smallest_subnormal, \n",
    "          np.finfo(t).max, t(0.5)]\n",
    "    xs = [t(np.nextafter(b, d)) for b in bs\n",
    "          for d in ([np.inf, b, 0] if abs(b) < np.finfo(b).max else\n",
    "                    [b, 0])]\n",
    "    cvt = exr_decimal_from_longdouble if t == np.longdouble else float\n",
    "    lens = [len(decimal.Decimal(cvt(x)).as_tuple().digits)\n",
    "            for x in xs]\n",
    "    print(f\"{xs[0].__class__.__name__:10} {max(lens):6d} {lens=}\")"
   ]
  },
  {
   "cell_type": "code",
   "execution_count": 62,
   "id": "b2335cb5-c944-4826-a471-3d44fa6a4334",
   "metadata": {},
   "outputs": [
    {
     "name": "stdout",
     "output_type": "stream",
     "text": [
      "Хорь\n"
     ]
    }
   ],
   "source": [
    "# Реализация float.__round__(self, ndigits=None, /)\n",
    "# cpython/Objects/floatobject.c:double_round\n",
    "# При отсутствии ndigits использует round(x) или round(x/2.)*2.\n",
    "# При наличии ndigits использует _Py_dg_dtoa(x, 3, ndigits, ...),\n",
    "# Что соответствует: PyOS_double_to_string(val=x, format_code='f', precision=ndigits, ...)\n",
    "# x.__format__(f'.{ndigits}f')\n",
    "if 0:\n",
    "    python_compare = [(\"True\", \"x.__round__(n)\"),\n",
    "                      (\"fn is not None\", \"x.__format__(fn)\")]\n",
    "    exr_compare = [(cnd, f\"{f}(x, n, fmt_out={fo})\")\n",
    "                   for cnd, f in [(\"n is not None\", \"exr_easy_round\"), \n",
    "                                  (\"True\", \"exr_decimal_round\")]\n",
    "                   for fo in [None, True]]\n",
    "    compare = python_compare  + exr_compare\n",
    "    r = 4\n",
    "    for n in [None, 0, 3, -3]:\n",
    "        fn = f'.0f' if n is None else None if n < 0 else f'.{n}f'\n",
    "        for x in [2.0115, 2.0115e150, 2.0115e300, 2.0115e-300]:\n",
    "            print(f\"{x, n, fn=}\")\n",
    "            maxstnt = max([len(stmt) for cnd, stmt in compare])\n",
    "            for cnd, stmt in compare:\n",
    "                print(f\"{stmt :{maxstnt}} \", end=\"\")\n",
    "                if eval(cnd):\n",
    "                    get_ipython().run_line_magic(\"timeit\", f\"-r {r} {stmt}\")\n",
    "                else:\n",
    "                    print(\"Недоступно\")\n",
    "print(\"Хорь\")"
   ]
  },
  {
   "cell_type": "markdown",
   "id": "601901c9-56d9-43d4-85c8-d7b5d00a454a",
   "metadata": {},
   "source": [
    "### Вычисление с использванием `fma()`"
   ]
  },
  {
   "cell_type": "markdown",
   "id": "cadb5897-f545-415a-bf00-6e96582a9664",
   "metadata": {},
   "source": [
    "Возможно этот вариант можно назвать вычислением с удвоенной точностью в \n",
    "технике 'double-double', но в нём, для типа Python `float`, используется \n",
    "только одна базовая операция. \n",
    "\n",
    "Вариант применим в предположении, что $10^{ndigits}$ имеет точное \n",
    "представление и что умножение на него не вызовет переполнения \n",
    "($\\left| ndigits \\right| \\le mant\\_dig \\times log_{2}{5} \\ \\wedge \\ \\left| x \\right| \\le \\frac{max}{10^{ndigits}}$)."
   ]
  },
  {
   "cell_type": "markdown",
   "id": "ff2699da-b3cd-4956-9ab0-89bd65325411",
   "metadata": {},
   "source": [
    "#### `int` неограниченной разрядности и `math.fma()`"
   ]
  },
  {
   "cell_type": "code",
   "execution_count": 63,
   "id": "c0816eef-4019-4c0e-97db-132ca0be765d",
   "metadata": {},
   "outputs": [
    {
     "data": {
      "text/plain": [
       "-0.0"
      ]
     },
     "execution_count": 63,
     "metadata": {},
     "output_type": "execute_result"
    }
   ],
   "source": [
    "round(-0., 0)"
   ]
  },
  {
   "cell_type": "code",
   "execution_count": 64,
   "id": "40560b83-41a6-42d1-b280-2fadab533ba4",
   "metadata": {},
   "outputs": [
    {
     "data": {
      "text/plain": [
       "(-0.0, -0.0)"
      ]
     },
     "execution_count": 64,
     "metadata": {},
     "output_type": "execute_result"
    }
   ],
   "source": [
    "exr_easy_round(-0., 0), exr_decimal_round(-0., 0)"
   ]
  },
  {
   "cell_type": "code",
   "execution_count": 65,
   "id": "74e88ec7-0179-4250-9ab9-b58e432eb811",
   "metadata": {},
   "outputs": [
    {
     "data": {
      "text/plain": [
       "(True, -0.0)"
      ]
     },
     "execution_count": 65,
     "metadata": {},
     "output_type": "execute_result"
    }
   ],
   "source": [
    "x = 0.\n",
    "-0.0 == 0.0, -x"
   ]
  },
  {
   "cell_type": "code",
   "execution_count": 285,
   "id": "7e80aa7d-23c5-49f3-b3b2-60904652189b",
   "metadata": {
    "scrolled": true
   },
   "outputs": [
    {
     "name": "stdout",
     "output_type": "stream",
     "text": [
      "diff: chk, std, x=(np.float32(5.0), np.float32(5.1), np.float32(5.05)) chk_args={'ndigits': 1}\n",
      "diff: chk, std, x=(np.float32(-5.0), np.float32(-5.1), np.float32(-5.05)) chk_args={'ndigits': 1}\n",
      "diff: chk, std, x=(np.float32(50.0), np.float32(50.01), np.float32(50.005)) chk_args={'ndigits': 2}\n",
      "diff: chk, std, x=(np.float32(-50.0), np.float32(-50.01), np.float32(-50.005)) chk_args={'ndigits': 2}\n",
      "diff: chk, std, x=(np.float32(15.2), np.float32(15.1), np.float32(15.15)) chk_args={'ndigits': 1}\n",
      "diff: chk, std, x=(np.float32(-15.2), np.float32(-15.1), np.float32(-15.15)) chk_args={'ndigits': 1}\n",
      "diff: chk, std, x=(np.float32(150.02), np.float32(150.01), np.float32(150.015)) chk_args={'ndigits': 2}\n",
      "diff: chk, std, x=(np.float32(-150.02), np.float32(-150.01), np.float32(-150.015)) chk_args={'ndigits': 2}\n",
      "diff: chk, std, x=(np.float32(1500.002), np.float32(1500.001), np.float32(1500.0015)) chk_args={'ndigits': 3}\n",
      "diff: chk, std, x=(np.float32(-1500.002), np.float32(-1500.001), np.float32(-1500.0015)) chk_args={'ndigits': 3}\n"
     ]
    },
    {
     "data": {
      "text/plain": [
       "{'idn': False,\n",
       " 'cnt': {'total': 64976, 'except': 0, 'diff': 216, 'type': 0, 'zdiff': 0},\n",
       " 'abs_diff': exr_diff_collect(max_diff=0.100006103515625, max_case={'std': np.float32(500.1), 'chk': np.float32(500.0), 'x': np.float32(500.05002), 'args': {'ndigits': 1}}),\n",
       " 'ndigit_diff': exr_diff_collect(max_diff=1.46484375, max_case={'std': np.float32(4500.011), 'chk': np.float32(4500.01), 'x': np.float32(4500.0107), 'args': {'ndigits': 3}}),\n",
       " 'ulp_diff': exr_diff_collect(max_diff=209715.0, max_case={'std': np.float32(5.1), 'chk': np.float32(5.0), 'x': np.float32(5.05), 'args': {'ndigits': 1}})}"
      ]
     },
     "execution_count": 285,
     "metadata": {},
     "output_type": "execute_result"
    }
   ],
   "source": [
    "def _exr_nextafters(x, steps):\n",
    "    if np.isnan(x):\n",
    "        return [x]\n",
    "    t = type(x)\n",
    "    r = [ x ]\n",
    "    for _ in range(steps):\n",
    "        n = t(np.nextafter(r[0], -np.inf))\n",
    "        if n != r[0]:\n",
    "            r.insert(0, n)\n",
    "        n = t(np.nextafter(r[-1], np.inf))\n",
    "        if n != r[-1]:\n",
    "            r.append(n)\n",
    "    if x:\n",
    "        r += [-y for y in r]\n",
    "    else:\n",
    "        r += [-x]\n",
    "    return r\n",
    "\n",
    "def _exr_defaults(a, dflt):\n",
    "    if a is None:\n",
    "        return dflt  #if hasattr(a, '__iter__') else [dflt]\n",
    "    elif hasattr(a, '__iter__') and not isinstance(a, str):  # TODO\n",
    "        return a\n",
    "    return [a]\n",
    "\n",
    "def _exr_call(f, *args, **kwargs):\n",
    "    return f(*args, **{arg: val for arg, val in kwargs.items() if val is not None})\n",
    "\n",
    "class _exr_diff_collect:\n",
    "    def __init__(self):\n",
    "        self.max_diff = 0\n",
    "        self.max_case = None\n",
    "    def add(self, q, std, chk, x, args):\n",
    "        if not np.isfinite(q):\n",
    "            print(f\"exr_diff_collect.add({q=}, {std=}, {chk=}, {x=}, {args=})\")\n",
    "        diff = q*abs(std - chk)\n",
    "        if diff > self.max_diff:\n",
    "            self.max_diff = diff\n",
    "            self.max_case = dict(std=std, chk=chk, x=x, args=args)\n",
    "    def __repr__(self):\n",
    "        return f\"exr_diff_collect(max_diff={self.max_diff}, max_case={self.max_case})\"\n",
    "\n",
    "_exr_numbers_from_text = [\n",
    "    '2.675', '2.0115', '20115', '4.00001', '2013.0', \"0.222222222222222225\",\n",
    "    \"2.71828182845904523536028747135266e25\", '56294995342131.5', \n",
    "    '16.055', '16.085', \n",
    "    # Умножение?\n",
    "    '8589934591.059999', '2147483647.8799999', '536870911.96999997',\n",
    "    '268435455.76999998', '67108863.949999996',\n",
    "    # Деление\n",
    "    '524287.9999291525', '524287.9999291524', \n",
    "    '262143.99998263217', '262143.9999826321',\n",
    "    '2.654', '1.9', '0.21', '2.01', '201.0', '0.55555555555555555555555', \n",
    "    \"0.15\", \"0.145\", \"0.0000005\", \n",
    "    '249.99999999999997', '5.465', '0.00261', '0.00161', str(0.15+0.005*62),\n",
    "    '2.0125', '0.05', '0.25', '0.005', '0.015', '0.025', '0.0115'\n",
    "]\n",
    "_exr_numbers_from_text.sort()\n",
    "for x, y in zip(_exr_numbers_from_text[:-1], _exr_numbers_from_text[1:]):\n",
    "    assert x < y, f\"Duplicate {x, y=}\"\n",
    "_exr_numbers_from_text += [float(x) for x in _exr_numbers_from_text]\n",
    "\n",
    "def exr_check_floats(f, types_x=None, test_xs=None, test_ndigits=None, \n",
    "                     test_roundings=None, test_fmt_outs=None, \n",
    "                     nsteps=16, zero_diff=True, inf_nan=True, \n",
    "                     verbose=0,\n",
    "                     standard=exr_decimal_round):\n",
    "    ndigits_none_exceptions = (OverflowError, ValueError)\n",
    "    idn = True\n",
    "    cnt = {'total': 0, 'except': 0, 'diff': 0, 'type': 0, 'zdiff': 0}\n",
    "    abs_diff = _exr_diff_collect()\n",
    "    ndigit_diff = _exr_diff_collect()\n",
    "    ulp_diff = _exr_diff_collect()\n",
    "\n",
    "    def fail_verbose(label, diff):\n",
    "        nonlocal idn, verbose, chk, std, x, chk_args\n",
    "        if diff:\n",
    "            idn = False\n",
    "            cnt[label] += 1\n",
    "            if verbose:\n",
    "                print(f\"{label}: {chk, std, x=} {chk_args=}\")\n",
    "                verbose -= 1\n",
    "            \n",
    "    for t in _exr_defaults(types_x, _exr_float_types):\n",
    "        max_spacing = np.finfo(t).max\n",
    "        min_inversible = 1/np.finfo(t).max\n",
    "        for x0 in _exr_defaults(test_xs, \n",
    "                                (list(np.arange(0., 4.01, 1/16))\n",
    "                                 + [str(a) + str(b) + k*'0' + '.' \n",
    "                                    + k*'0' + str(a) + str(b)\n",
    "                                    for a in range(10)\n",
    "                                    for b in range(0, 10, 5)\n",
    "                                    for k in range(3)]\n",
    "                                 + ([np.inf, np.nan] if inf_nan else [])\n",
    "                                 #+ _exr_numbers_from_text\n",
    "                                )):\n",
    "            for x in _exr_nextafters(t(x0), nsteps):\n",
    "                for ndigits in _exr_defaults(test_ndigits, \n",
    "                                             [None] + list(range(-3, 4, 1))):\n",
    "                    for rounding in _exr_defaults(test_roundings, \n",
    "                                                  _exr_roundings):\n",
    "                        for fmt_out in _exr_defaults(test_fmt_outs,\n",
    "                                                     [None, True, False]):\n",
    "                            try:\n",
    "                                std = standard(x, ndigits=ndigits, \n",
    "                                               rounding=rounding, \n",
    "                                               fmt_out=fmt_out)\n",
    "                            except ndigits_none_exceptions as e:\n",
    "                                std = e\n",
    "                                if ndigits is not None  or  np.isfinite(x):\n",
    "                                    assert False, (\n",
    "                                        f\"{std, x=} {ndigits, rounding, fmt_out, standard=}\"\n",
    "                                    )\n",
    "                            chk_args = {\n",
    "                                'ndigits': ndigits\n",
    "                            }\n",
    "                            if not isinstance(test_roundings, str):\n",
    "                                chk_args['rounding'] = rounding\n",
    "                            if (test_fmt_outs is None or \n",
    "                                hasattr(test_fmt_outs, '__iter__')):\n",
    "                                chk_args['fmt_out'] = fmt_out\n",
    "                            try:\n",
    "                                chk = _exr_call(f, x, **chk_args)\n",
    "                            except ndigits_none_exceptions as e:\n",
    "                                chk = e\n",
    "                                if ndigits is not None  or  np.isfinite(x):\n",
    "                                    fail_verbose(\"except\", True)\n",
    "                                continue\n",
    "                            cnt[\"total\"] += 1\n",
    "                            if type(chk) != type(std):\n",
    "                                fail_verbose(\"type\", True)\n",
    "                            if (chk or std):\n",
    "                                diff = (not (chk == std) and\n",
    "                                        not (isinstance(chk, _exr_float_types) and\n",
    "                                             np.isnan(chk) and np.isnan(std)))\n",
    "                                fail_verbose(\"diff\", diff)\n",
    "                            else:\n",
    "                                diff = not ((chk == std) and \n",
    "                                            (str(chk) == str(std)))\n",
    "                                fail_verbose(\"zdiff\", diff)\n",
    "                            if diff:\n",
    "                                idn = False\n",
    "                                abs_diff.add(1, std, chk, x, chk_args)\n",
    "                                ndigit_diff.add(10**(ndigits if ndigits else 0), \n",
    "                                                std, chk, x, chk_args)\n",
    "                                if (abs(x) < max_spacing and\n",
    "                                    abs(np.spacing(x)) > min_inversible):\n",
    "                                    ulp_diff.add(t(1.)/np.spacing(x), \n",
    "                                                 std, chk, x, chk_args)\n",
    "    return dict(idn=idn, cnt=cnt, \n",
    "                abs_diff=abs_diff, ndigit_diff=ndigit_diff, ulp_diff=ulp_diff)\n",
    "\n",
    "exr_check_floats(round, test_roundings=decimal.ROUND_HALF_EVEN, \n",
    "                 test_fmt_outs=True, inf_nan=False,\n",
    "                 types_x=np.single, #np.single, #float,\n",
    "                 verbose=10)\n",
    "# exr_check_floats(round, test_roundings=decimal.ROUND_HALF_EVEN, test_fmt_outs=True)"
   ]
  },
  {
   "cell_type": "code",
   "execution_count": 278,
   "id": "08eef510-c468-458e-945e-6f20c06105fd",
   "metadata": {},
   "outputs": [
    {
     "data": {
      "text/plain": [
       "np.float32(-0.001953125)"
      ]
     },
     "execution_count": 278,
     "metadata": {},
     "output_type": "execute_result"
    }
   ],
   "source": [
    "np.float32(19000.041) - np.float32(19000.043)"
   ]
  },
  {
   "cell_type": "code",
   "execution_count": 279,
   "id": "827e33b0-07ff-4156-8f01-05fc5067a524",
   "metadata": {},
   "outputs": [
    {
     "data": {
      "text/plain": [
       "np.float32(-1.9531249)"
      ]
     },
     "execution_count": 279,
     "metadata": {},
     "output_type": "execute_result"
    }
   ],
   "source": [
    "(np.float32(19000.041) - np.float32(19000.043))/0.001"
   ]
  },
  {
   "cell_type": "code",
   "execution_count": 280,
   "id": "0bc2ce68-e41f-4816-8c20-18780a4ea214",
   "metadata": {},
   "outputs": [
    {
     "data": {
      "text/plain": [
       "np.float32(-1.0)"
      ]
     },
     "execution_count": 280,
     "metadata": {},
     "output_type": "execute_result"
    }
   ],
   "source": [
    "(np.float32(19000.041) - np.float32(19000.043))/np.spacing(np.float32(19000.041))"
   ]
  },
  {
   "cell_type": "code",
   "execution_count": 254,
   "id": "8f137132-830e-4389-ba29-30a057110e00",
   "metadata": {},
   "outputs": [
    {
     "name": "stderr",
     "output_type": "stream",
     "text": [
      "/var/folders/wy/z0gbkfgs7mv24ryqkdm90rm40009rh/T/ipykernel_22131/2716139783.py:27: RuntimeWarning: overflow encountered in cast\n",
      "  return x_to(dx.scaleb(ndigits).to_integral_value(rounding=rounding).\n"
     ]
    },
    {
     "data": {
      "text/plain": [
       "(np.float16(65500.0), np.float16(inf))"
      ]
     },
     "execution_count": 254,
     "metadata": {},
     "output_type": "execute_result"
    }
   ],
   "source": [
    "r = exr_decimal_round(x, -3, fmt_out=True, rounding=decimal.ROUND_HALF_EVEN)\n",
    "x, r"
   ]
  },
  {
   "cell_type": "code",
   "execution_count": 255,
   "id": "359b4ba6-b26c-4f6c-abbf-de81b53f29b8",
   "metadata": {},
   "outputs": [
    {
     "name": "stderr",
     "output_type": "stream",
     "text": [
      "/var/folders/wy/z0gbkfgs7mv24ryqkdm90rm40009rh/T/ipykernel_22131/4148338072.py:1: RuntimeWarning: overflow encountered in multiply\n",
      "  round(x, -3)\n"
     ]
    },
    {
     "data": {
      "text/plain": [
       "np.float16(inf)"
      ]
     },
     "execution_count": 255,
     "metadata": {},
     "output_type": "execute_result"
    }
   ],
   "source": [
    "round(x, -3)"
   ]
  },
  {
   "cell_type": "code",
   "execution_count": 220,
   "id": "263318d7-bb5c-4342-98a8-3d95f19e5b5c",
   "metadata": {
    "scrolled": true
   },
   "outputs": [
    {
     "name": "stderr",
     "output_type": "stream",
     "text": [
      "/var/folders/wy/z0gbkfgs7mv24ryqkdm90rm40009rh/T/ipykernel_22131/4124263464.py:3: RuntimeWarning: invalid value encountered in spacing\n",
      "  np.spacing(x)\n"
     ]
    },
    {
     "data": {
      "text/plain": [
       "np.longdouble('nan')"
      ]
     },
     "execution_count": 220,
     "metadata": {},
     "output_type": "execute_result"
    }
   ],
   "source": [
    "t = np.longdouble\n",
    "x = np.nextafter(t(1), 0)\n",
    "np.spacing(x)"
   ]
  },
  {
   "cell_type": "code",
   "execution_count": 163,
   "id": "b75cef8b-e50c-4de6-a23e-edb053ee5b57",
   "metadata": {},
   "outputs": [
    {
     "data": {
      "text/plain": [
       "np.float16(0.125)"
      ]
     },
     "execution_count": 163,
     "metadata": {},
     "output_type": "execute_result"
    }
   ],
   "source": [
    "exr_decimal_round(np.float16(0.1245), 3, fmt_out=True, rounding=decimal.ROUND_HALF_EVEN)"
   ]
  },
  {
   "cell_type": "code",
   "execution_count": 179,
   "id": "e430197f-a0ad-466f-b5d5-c5cc8292f53e",
   "metadata": {},
   "outputs": [
    {
     "data": {
      "text/plain": [
       "np.longdouble('123050.01')"
      ]
     },
     "execution_count": 179,
     "metadata": {},
     "output_type": "execute_result"
    }
   ],
   "source": [
    "x = np.longdouble(123050.005)\n",
    "x.__round__(2)"
   ]
  },
  {
   "cell_type": "code",
   "execution_count": null,
   "id": "d08388e5-b7a1-43b2-9749-58523ecc8004",
   "metadata": {},
   "outputs": [],
   "source": []
  },
  {
   "cell_type": "code",
   "execution_count": 166,
   "id": "b45379ed-1d14-49c9-ba59-f1a201bf7ff9",
   "metadata": {},
   "outputs": [
    {
     "data": {
      "text/plain": [
       "((255, 2048), (255, 2048))"
      ]
     },
     "execution_count": 166,
     "metadata": {},
     "output_type": "execute_result"
    }
   ],
   "source": [
    "x = np.float16(0.1245)\n",
    "x.as_integer_ratio(), float(x).as_integer_ratio()"
   ]
  },
  {
   "cell_type": "code",
   "execution_count": 165,
   "id": "9e0158c2-5342-45a3-b081-8bb5db2c5d36",
   "metadata": {},
   "outputs": [
    {
     "data": {
      "text/plain": [
       "0.12451171875"
      ]
     },
     "execution_count": 165,
     "metadata": {},
     "output_type": "execute_result"
    }
   ],
   "source": [
    "255/2048"
   ]
  },
  {
   "cell_type": "code",
   "execution_count": 168,
   "id": "5734bb37-8921-4a42-88e4-f0a0adee33bf",
   "metadata": {},
   "outputs": [
    {
     "data": {
      "text/plain": [
       "(0.124, np.float16(0.124))"
      ]
     },
     "execution_count": 168,
     "metadata": {},
     "output_type": "execute_result"
    }
   ],
   "source": [
    "round(0.1245, 3), round(np.float16(0.1245), 3)"
   ]
  },
  {
   "cell_type": "code",
   "execution_count": 154,
   "id": "a459040a-f19e-478c-89f5-1bf1c369b03f",
   "metadata": {},
   "outputs": [
    {
     "data": {
      "text/plain": [
       "(60,\n",
       " ['12300.00',\n",
       "  '123000.000',\n",
       "  '1230000.0000',\n",
       "  '12305.05',\n",
       "  '123050.005',\n",
       "  '1230500.0005',\n",
       "  '12310.10',\n",
       "  '123100.010',\n",
       "  '1231000.0010',\n",
       "  '12315.15',\n",
       "  '123150.015',\n",
       "  '1231500.0015',\n",
       "  '12320.20',\n",
       "  '123200.020',\n",
       "  '1232000.0020',\n",
       "  '12325.25',\n",
       "  '123250.025',\n",
       "  '1232500.0025',\n",
       "  '12330.30',\n",
       "  '123300.030',\n",
       "  '1233000.0030',\n",
       "  '12335.35',\n",
       "  '123350.035',\n",
       "  '1233500.0035',\n",
       "  '12340.40',\n",
       "  '123400.040',\n",
       "  '1234000.0040',\n",
       "  '12345.45',\n",
       "  '123450.045',\n",
       "  '1234500.0045',\n",
       "  '12350.50',\n",
       "  '123500.050',\n",
       "  '1235000.0050',\n",
       "  '12355.55',\n",
       "  '123550.055',\n",
       "  '1235500.0055',\n",
       "  '12360.60',\n",
       "  '123600.060',\n",
       "  '1236000.0060',\n",
       "  '12365.65',\n",
       "  '123650.065',\n",
       "  '1236500.0065',\n",
       "  '12370.70',\n",
       "  '123700.070',\n",
       "  '1237000.0070',\n",
       "  '12375.75',\n",
       "  '123750.075',\n",
       "  '1237500.0075',\n",
       "  '12380.80',\n",
       "  '123800.080',\n",
       "  '1238000.0080',\n",
       "  '12385.85',\n",
       "  '123850.085',\n",
       "  '1238500.0085',\n",
       "  '12390.90',\n",
       "  '123900.090',\n",
       "  '1239000.0090',\n",
       "  '12395.95',\n",
       "  '123950.095',\n",
       "  '1239500.0095'])"
      ]
     },
     "execution_count": 154,
     "metadata": {},
     "output_type": "execute_result"
    }
   ],
   "source": [
    "l = ['123' + str(a) + str(b) + k*'0' + '.' + k*'0' + str(a) + str(b)\n",
    " for a in range(10) \n",
    " for b in range(0, 10, 5)\n",
    " for k in range(3)]\n",
    "len(l), l"
   ]
  },
  {
   "cell_type": "code",
   "execution_count": 75,
   "id": "48434ca0-e1f7-4d93-a34d-3a6ef3d07939",
   "metadata": {},
   "outputs": [
    {
     "data": {
      "text/plain": [
       "True"
      ]
     },
     "execution_count": 75,
     "metadata": {},
     "output_type": "execute_result"
    }
   ],
   "source": [
    "isinstance(np.single(1), tuple(_exr_float_types))"
   ]
  },
  {
   "cell_type": "code",
   "execution_count": 53,
   "id": "c7f5fd2b-34aa-4573-9117-082b1b633eb2",
   "metadata": {},
   "outputs": [
    {
     "ename": "TypeError",
     "evalue": "'<=' not supported between instances of 'NoneType' and 'int'",
     "output_type": "error",
     "traceback": [
      "\u001b[31m---------------------------------------------------------------------------\u001b[39m",
      "\u001b[31mTypeError\u001b[39m                                 Traceback (most recent call last)",
      "\u001b[36mCell\u001b[39m\u001b[36m \u001b[39m\u001b[32mIn[53]\u001b[39m\u001b[32m, line 1\u001b[39m\n\u001b[32m----> \u001b[39m\u001b[32m1\u001b[39m \u001b[43mexr_decimal_round\u001b[49m\u001b[43m(\u001b[49m\u001b[43mmath\u001b[49m\u001b[43m.\u001b[49m\u001b[43minf\u001b[49m\u001b[43m,\u001b[49m\u001b[43m \u001b[49m\u001b[43mfmt_out\u001b[49m\u001b[43m=\u001b[49m\u001b[38;5;28;43;01mTrue\u001b[39;49;00m\u001b[43m)\u001b[49m\n",
      "\u001b[36mCell\u001b[39m\u001b[36m \u001b[39m\u001b[32mIn[37]\u001b[39m\u001b[32m, line 13\u001b[39m, in \u001b[36mexr_decimal_round\u001b[39m\u001b[34m(x, ndigits, rounding, fmt_out)\u001b[39m\n\u001b[32m     11\u001b[39m     x_to = x.dtype.type\n\u001b[32m     12\u001b[39m     x = x_to(x)\n\u001b[32m---> \u001b[39m\u001b[32m13\u001b[39m \u001b[38;5;28;01mif\u001b[39;00m fmt_out != \u001b[38;5;28;01mTrue\u001b[39;00m \u001b[38;5;129;01mor\u001b[39;00m \u001b[43mndigits\u001b[49m\u001b[43m \u001b[49m\u001b[43m<\u001b[49m\u001b[43m=\u001b[49m\u001b[43m \u001b[49m\u001b[32;43m0\u001b[39;49m:\n\u001b[32m     14\u001b[39m     pre_cvt_x = \u001b[38;5;28mstr\u001b[39m(x)\n\u001b[32m     15\u001b[39m     \u001b[38;5;28;01mif\u001b[39;00m x_to == _exr_dr_float128_t:\n",
      "\u001b[31mTypeError\u001b[39m: '<=' not supported between instances of 'NoneType' and 'int'"
     ]
    }
   ],
   "source": [
    "exr_decimal_round(math.inf, fmt_out=True)"
   ]
  },
  {
   "cell_type": "code",
   "execution_count": 35,
   "id": "24d761f9-43a1-47d7-80a2-95efdde72f57",
   "metadata": {},
   "outputs": [
    {
     "data": {
      "text/plain": [
       "179769313486231530000000000000000000000000000000000000000000000000000000000000000000000000000000000000000000000000000000000000000000000000000000000000000000000000000000000000000000000000000000000000000000000000000000000000000000000000000000000000000000000000000000000000000000000000000000000000000000000000000"
      ]
     },
     "execution_count": 35,
     "metadata": {},
     "output_type": "execute_result"
    }
   ],
   "source": [
    "exr_decimal_round(math.nextafter(math.inf, 0, steps=3), fmt_out=True)"
   ]
  },
  {
   "cell_type": "code",
   "execution_count": 36,
   "id": "b3ba1e8f-fcea-4930-ad0f-13b4a264cc8f",
   "metadata": {},
   "outputs": [
    {
     "data": {
      "text/plain": [
       "Decimal('179769313486231530897721233037308123670616306789073675249892268094006430729083690016351721253485562472381149100800360677385384443039559303319707778831664302202613944879922875676132031068675798593321439621195390289237448346024743081549599456914715570497692457243261573026320039665798467034080499419303926300672')"
      ]
     },
     "execution_count": 36,
     "metadata": {},
     "output_type": "execute_result"
    }
   ],
   "source": [
    "exr_decimal_from_longdouble(math.nextafter(math.inf, 0, steps=3))"
   ]
  },
  {
   "cell_type": "code",
   "execution_count": 24,
   "id": "0a0a9844-c9c0-4cf2-8047-b76831b063d4",
   "metadata": {},
   "outputs": [
    {
     "name": "stdout",
     "output_type": "stream",
     "text": [
      "zdiff: chk, std, x=(0.0, -0.0, -8e-323) chk_args={'ndigits': -3}\n",
      "zdiff: chk, std, x=(0.0, -0.0, -8e-323) chk_args={'ndigits': -2}\n",
      "zdiff: chk, std, x=(0.0, -0.0, -8e-323) chk_args={'ndigits': -1}\n",
      "zdiff: chk, std, x=(0.0, -0.0, -8e-323) chk_args={'ndigits': 0}\n",
      "zdiff: chk, std, x=(0.0, -0.0, -8e-323) chk_args={'ndigits': 1}\n",
      "zdiff: chk, std, x=(0.0, -0.0, -8e-323) chk_args={'ndigits': 2}\n",
      "zdiff: chk, std, x=(0.0, -0.0, -8e-323) chk_args={'ndigits': 3}\n",
      "zdiff: chk, std, x=(0.0, -0.0, -7.4e-323) chk_args={'ndigits': -3}\n",
      "zdiff: chk, std, x=(0.0, -0.0, -7.4e-323) chk_args={'ndigits': -2}\n",
      "zdiff: chk, std, x=(0.0, -0.0, -7.4e-323) chk_args={'ndigits': -1}\n",
      "cnt=34064 idn=False cnt_diff=0 cnt_zdiff=6703\n",
      "abs_diff=exr_diff_collect(max_diff=0, max_case=None)\n",
      "ndigit_diff=exr_diff_collect(max_diff=0, max_case=None)\n",
      "ulp_diff=exr_diff_collect(max_diff=0, max_case=None)\n"
     ]
    }
   ],
   "source": [
    "def nzround(number, ndigits=None):\n",
    "    return 0 + round(number, ndigits=ndigits)\n",
    "exr_check_floats(nzround, test_roundings=decimal.ROUND_HALF_EVEN, test_fmt_outs=False, \n",
    "                 types_x=float, verbose=10)"
   ]
  },
  {
   "cell_type": "code",
   "execution_count": 20,
   "id": "13d7f412-977b-4fae-b3e4-527dc821cb4f",
   "metadata": {},
   "outputs": [
    {
     "data": {
      "text/plain": [
       "((0.0, -0.0), (0.0, 0.0))"
      ]
     },
     "execution_count": 20,
     "metadata": {},
     "output_type": "execute_result"
    }
   ],
   "source": [
    "(-0. + 0., -0. + (-0.)), (0. + 0., 0. + (-0.))"
   ]
  },
  {
   "cell_type": "code",
   "execution_count": null,
   "id": "ad729086-d28e-4c8b-9f87-88e5496bc766",
   "metadata": {},
   "outputs": [],
   "source": []
  },
  {
   "cell_type": "code",
   "execution_count": null,
   "id": "413b1641-71d8-468f-a258-b0064703ea10",
   "metadata": {},
   "outputs": [],
   "source": [
    "class exr_diff_collect:\n",
    "    def __init__(self):\n",
    "        self.max_diff = 0\n",
    "        self.max_case = None\n",
    "    def check(self, std, chk, x, args):\n",
    "        diff = abs(std - chk)\n",
    "        if diff > self.max_diff:\n",
    "            self.max_case = dict(std=std, chk=chk, x=x, args=args)"
   ]
  },
  {
   "cell_type": "code",
   "execution_count": 330,
   "id": "8fdfd045-86d2-4477-937a-51ebb843277b",
   "metadata": {},
   "outputs": [
    {
     "data": {
      "text/plain": [
       "[float, numpy.float16, numpy.float32, numpy.float64, [...]]"
      ]
     },
     "execution_count": 330,
     "metadata": {},
     "output_type": "execute_result"
    }
   ],
   "source": [
    "exr_defaults(None, _exr_float_types)"
   ]
  },
  {
   "cell_type": "code",
   "execution_count": 293,
   "id": "ae7af3fa-42ee-44dc-9b72-2ee5e6649c5b",
   "metadata": {},
   "outputs": [
    {
     "name": "stdout",
     "output_type": "stream",
     "text": [
      "kwargs={'b': 1}\n"
     ]
    }
   ],
   "source": [
    "def test(**kwargs):\n",
    "    print(f\"{kwargs=}\")\n",
    "\n",
    "def exr_call(f, **kwargs):\n",
    "    kwa = dict()\n",
    "    for arg, val in kwargs.items():\n",
    "        if val is not None:\n",
    "            kwa[arg] = val\n",
    "    return f(**kwa)\n",
    "\n",
    "def exr_call(f, **kwargs):\n",
    "    kwa = {arg: val for arg, val in kwargs.items() if val is not None}\n",
    "    return f(**kwa)\n",
    "\n",
    "def exr_call(f, **kwargs):\n",
    "    return f(**{arg: val for arg, val in kwargs.items() if val is not None})\n",
    "\n",
    "exr_call(test, a=None, b=1)"
   ]
  },
  {
   "cell_type": "code",
   "execution_count": 249,
   "id": "659558a3-c7d9-4ec4-a762-d875a8358ff4",
   "metadata": {},
   "outputs": [
    {
     "data": {
      "text/plain": [
       "\u001b[31mSignature:\u001b[39m sum(iterable, /, start=\u001b[32m0\u001b[39m)\n",
       "\u001b[31mDocstring:\u001b[39m\n",
       "Return the sum of a 'start' value (default: 0) plus an iterable of numbers\n",
       "\n",
       "When the iterable is empty, return the start value.\n",
       "This function is intended specifically for use with numeric values and may\n",
       "reject non-numeric types.\n",
       "\u001b[31mType:\u001b[39m      builtin_function_or_method"
      ]
     },
     "metadata": {},
     "output_type": "display_data"
    }
   ],
   "source": [
    "type "
   ]
  },
  {
   "cell_type": "code",
   "execution_count": 245,
   "id": "ac8755f0-77a8-4cab-bc93-b4b2fb064dd3",
   "metadata": {},
   "outputs": [
    {
     "name": "stdout",
     "output_type": "stream",
     "text": [
      "xql=0.0\n",
      "xql=0.0\n"
     ]
    },
    {
     "data": {
      "text/plain": [
       "(6294995342131.5, -6294995342131.5)"
      ]
     },
     "execution_count": 245,
     "metadata": {},
     "output_type": "execute_result"
    }
   ],
   "source": [
    "def sql_round_python(x: 'Uninon[float, np.double]', ndigits):\n",
    "    assert ndigits >= 0, \"Не реализовано\"\n",
    "    q = 10**ndigits\n",
    "    xq = x*q\n",
    "    rxq = exr_sql_round_int(xq)\n",
    "    if xq%0.5 == 0.:  # варианты xq.is_integer(), xq == rxq, для усечений\n",
    "        xql = math.fma(x, q, -xq)\n",
    "        print(f\"{xql=}\")\n",
    "        rxq += exr_sql_round_int(xql)\n",
    "    return rxq/q\n",
    "\n",
    "x"
   ]
  },
  {
   "cell_type": "code",
   "execution_count": null,
   "id": "49a460e7-5832-4a9d-a472-a1f7831c5846",
   "metadata": {},
   "outputs": [],
   "source": []
  },
  {
   "cell_type": "markdown",
   "id": "b7636563-34e7-46a4-b8da-42fd5932fc91",
   "metadata": {},
   "source": [
    "Возможно этот вариант можно назвать вычислением с удвоенной точностью в \n",
    "технике 'double-double', но в нём, для типа Python `float`, используется \n",
    "только одна базовая операция. \n",
    "\n",
    "Вариант применим в предположении, что $10^{ndigits}$ имеет точное \n",
    "представление и что умножение на него не вызовет переполнения \n",
    "($\\left| ndigits \\right| \\le mant\\_dig \\times log_{2}{5} \\ \\wedge \\ \\left| x \\right| \\le \\frac{max}{10^{ndigits}}$).\n",
    "\n",
    "```\n",
    "q = 10**ndigits\n",
    "xq = x\n",
    "rxq = round_int(xq)\n",
    "if xq%0.5 == 0.:  # варианты xq.is_integer(), xq == rxq, для усечений\n",
    "    xql = math.fma(x, q, -xq)\n",
    "    rqx += round_int_low(xq, xql)\n",
    "return rxq/q\n",
    "```\n",
    "\n",
    "Поскольку `abs(xql) <= 0.5*math.ulp(xq)`, `xql` влияет на результат лишь \n",
    "в некоторых случаях. Ещё пара моментов. Во-первых, этот код, в операции \n",
    "сложения использует неограниченную разрядность `int`. Во-вторых, в операции \n",
    "деления использует тот факт, что `rxq.__truediv__(q)` имеет ошибку не более \n",
    "половины последнего разряда (т.е. получает точное значениие, если оно \n",
    "представимо).\n",
    "\n",
    "В этих случаях для типов Numpy требуется, либо выполнить деление с \n",
    "точностью `0.5*ULP(x)`:\n",
    "\n",
    "```\n",
    "q = numpy_type(10**ndigits)\n",
    "xq = x\n",
    "rxq = round_int(xq)\n",
    "rxqq = rxq/q\n",
    "adxq = np.abs(xq - rxq)\n",
    "need_xql = np.where((adxq == 0.5) | (adxq == 0.))  # np.where(xq == rxq), для усечений\n",
    "if len(need_xql[0]):\n",
    "    xql = low_mul_or_fma(x[need_xql], q, xq[need_xql])\n",
    "    rqxl = round_int_low(x[need_xql], xql)\n",
    "    rxq0 = rxqq[need_xql]*q\n",
    "    rxql0 = low_mul_or_fma(rxqq[need_xql], q, rxq0)\n",
    "    s = rxq[need_xql] - rxq0\n",
    "    e = (rxq[need_xql] - s) - rxq0  # Нужен ли? Член порядка ULP(ULP(x))\n",
    "    e += rqxl\n",
    "    e -= rxql0\n",
    "    rxqq[need_xql] += (s + e)/q\n",
    "return rxqq\n",
    "```\n",
    "\n",
    "Либо удовлетворится точностью `1.0*ULP(x)`, возможно, с коррекцией для усечений:\n",
    "```\n",
    "q = numpy_type(10**ndigits)\n",
    "xq = x\n",
    "rxq = round_int(xq)\n",
    "adxq = np.abs(xq - rxq)\n",
    "need_xql = np.where((adxq == 0.5) | (adxq == 0.))  # np.where(xq == rxq), для усечений\n",
    "if len(need_xql[0]):\n",
    "    xql = low_mul_or_fma(x[need_xql], q, xq[need_xql])\n",
    "    rxql = round_int_low(x[need_xql], xql)\n",
    "    if no_correction:\n",
    "        rxq[need_xql] += rxql\n",
    "    else:\n",
    "        s = rxq[need_xql] + rxql\n",
    "        e = rxql - (s - rxq[need_xql])\n",
    "        need_correct = np.where(e < 0)  # TODO correction\n",
    "        s[need_correct] = np.nextafter(s[need_correct], np.inf)  # TODO correction\n",
    "        rxq[need_xql] = s\n",
    "return rxq/q\n",
    "```\n",
    "\n"
   ]
  },
  {
   "cell_type": "code",
   "execution_count": 233,
   "id": "5a968e1d-a70c-4407-b799-64ce2182f4ed",
   "metadata": {},
   "outputs": [
    {
     "name": "stdout",
     "output_type": "stream",
     "text": [
      "x, n, q=(56294995342131.5, 3, 1000)\n",
      "math.trunc(x*100)/100=56294995342131.5 math.trunc(x*100)/100 <= x =True\n",
      "rxq=56294995342131504 rxq == xq =True\n",
      "xql=-4.0\n",
      "rxq_p=56294995342131500\n",
      "rxq_p/q=56294995342131.5 rxq_p/q <= x =True\n",
      "---\n",
      "rxq_n0=5.62949953421315e+16 rxq_n0 == xq =True\n",
      "rxq_n0/q=56294995342131.51 rxq_n0/q <= x =False\n",
      "---\n",
      "rxq_n1, rxql_n1=(5.62949953421315e+16, -4.0)\n",
      "rxq_n1, rxql_n1=(5.62949953421315e+16, -4.0)\n",
      "rxq_n1, rxql_n1=(5.6294995342131496e+16, -4.0)\n",
      "rxq_n1/q=56294995342131.49 rxq_n1/q <= x =True\n",
      "---\n",
      "rxq_n2, rxql_n2=(5.62949953421315e+16, -4.0)\n",
      "rxqq_n2=56294995342131.51\n",
      "a s, e=(0.0, 0.0)\n",
      "s, e=(0.0, -3.8125)\n",
      "s, e=(0.0, -7.8125)\n",
      "rxqq_n2=56294995342131.5 rxqq_n2 <= x =True\n"
     ]
    }
   ],
   "source": [
    "#x, n = 67108863.949999996, 2\n",
    "x, n=(56294995342131.5, 3)\n",
    "q = 10**n\n",
    "print(f\"{x, n, q=}\")\n",
    "print(f\"{math.trunc(x*100)/100=} {math.trunc(x*100)/100 <= x =}\")\n",
    "xq = x*q\n",
    "rxq = math.trunc(xq)\n",
    "print(f\"{rxq=} {rxq == xq =}\")\n",
    "xql = math.fma(x, q, -xq)\n",
    "print(f\"{xql=}\")\n",
    "rxq_p = rxq + math.floor(xql) if 0 <= xq else math.ceil(xql)\n",
    "print(f\"{rxq_p=}\")\n",
    "print(f\"{rxq_p/q=} {rxq_p/q <= x =}\")\n",
    "print(\"---\")\n",
    "\n",
    "q = float(10**n)\n",
    "xq = x*q\n",
    "rxq_n0 = float(math.trunc(xq))\n",
    "print(f\"{rxq_n0=} {rxq_n0 == xq =}\")\n",
    "rxq_n0 += float(math.floor(xql) if 0 <= xq else math.ceil(xql))\n",
    "print(f\"{rxq_n0/q=} {rxq_n0/q <= x =}\")\n",
    "print(\"---\")\n",
    "rxq_n1 = float(rxq)\n",
    "rxql_n1 = float(math.floor(xql) if 0 <= xq else math.ceil(xql))\n",
    "print(f\"{rxq_n1, rxql_n1=}\")\n",
    "t = rxq_n1\n",
    "rxq_n1 = rxq_n1 + rxql_n1\n",
    "rxql_n1 = rxql_n1 - (rxq_n1 - t)\n",
    "print(f\"{rxq_n1, rxql_n1=}\")\n",
    "if rxql_n1 < 0.:\n",
    "    rxq_n1 = math.nextafter(rxq_n1, 0.)\n",
    "print(f\"{rxq_n1, rxql_n1=}\")\n",
    "print(f\"{rxq_n1/q=} {rxq_n1/q <= x =}\")\n",
    "print(\"---\")\n",
    "rxq_n2 = float(rxq)\n",
    "rxql_n2 = float(math.floor(xql) if 0 <= xq else math.ceil(xql))\n",
    "print(f\"{rxq_n2, rxql_n2=}\")\n",
    "rxqq_n2 = rxq_n2/q\n",
    "print(f\"{rxqq_n2=}\")\n",
    "rxq0 = rxqq_n2*q\n",
    "rxql0 = math.fma(rxqq_n2, q, -rxq0)\n",
    "s = rxq_n2 - rxq0\n",
    "e = (rxq_n2 - s) - rxq0 \n",
    "print(f\"a {s, e=}\")\n",
    "e -= rxql0\n",
    "print(f\"{s, e=}\")\n",
    "e += rxql_n2\n",
    "print(f\"{s, e=}\")\n",
    "rxqq_n2 += (s + e)/q\n",
    "print(f\"{rxqq_n2=} {rxqq_n2 <= x =}\")"
   ]
  },
  {
   "cell_type": "code",
   "execution_count": 228,
   "id": "27dccc7c-3e06-4358-8c45-8a4e5850a4f7",
   "metadata": {},
   "outputs": [
    {
     "name": "stdout",
     "output_type": "stream",
     "text": [
      "cnt=1002064\n",
      "minab, minabab=(0.6756756756756733, (506.82828282828285, 1023.9999999999975))\n",
      "maxab, maxabab=(100.00000000000934, (506.82828282828285, -527.5151515151496))\n"
     ]
    }
   ],
   "source": [
    "def quick_two_diff(a, b):\n",
    "    #assert abs(a) >= abs(b)\n",
    "    s = a - b\n",
    "    return s, (a - s) - b\n",
    "\n",
    "def two_diff(a, b):\n",
    "    s = a - b\n",
    "    bb = s - a\n",
    "    return s, (a - (s - bb)) - (b + bb)\n",
    "\n",
    "def two_diff1(a, b):\n",
    "    s = a - b\n",
    "    return s, (((a - s) - b) if abs(a) >= abs(b) else\n",
    "               (a - (b + s)))\n",
    "\n",
    "cnt = 0\n",
    "maxab = 0 \n",
    "maxabab = (None, None)\n",
    "minab = np.inf\n",
    "minabab = (None, None)\n",
    "\n",
    "n = 100\n",
    "ns = 11\n",
    "rng = math.nextafter(2**10, 0., steps=ns + 1)\n",
    "for a0 in np.linspace(-rng, rng, n):\n",
    "    for a in [math.nextafter(a0, (np.inf if s >= 0 else \n",
    "                                  -np.inf), steps=abs(s)) \n",
    "              for s in range(-ns, ns + 1)]:\n",
    "        for b0 in np.linspace(-rng, rng, n):\n",
    "            for b in [math.nextafter(b0, (np.inf if s >= 0 else \n",
    "                                          -np.inf), steps=abs(s)) \n",
    "                      for s in range(-ns, ns + 1)]:\n",
    "                t = two_diff(a, b)\n",
    "                assert t == two_diff1(a, b)\n",
    "                if True or abs(a) >= abs(b):\n",
    "                    #assert t == quick_two_diff(a, b)\n",
    "                    if t != quick_two_diff(a, b):\n",
    "                        cnt += 1\n",
    "                        aab = 2*abs(a - b)/abs(a + b)\n",
    "                        if aab > maxab:\n",
    "                            maxab = aab\n",
    "                            maxabab = (a, b)\n",
    "                        if aab < minab:\n",
    "                            minab = aab\n",
    "                            minabab = (a, b)\n",
    "\n",
    "print(f\"{cnt=}\")\n",
    "print(f\"{minab, minabab=}\")\n",
    "print(f\"{maxab, maxabab=}\")"
   ]
  },
  {
   "cell_type": "code",
   "execution_count": 224,
   "id": "7013b972-ad23-476b-9563-0761dcb8d6f3",
   "metadata": {},
   "outputs": [
    {
     "data": {
      "text/plain": [
       "(-0.0004780170795795785, 0.0006676598473473468)"
      ]
     },
     "execution_count": 224,
     "metadata": {},
     "output_type": "execute_result"
    }
   ],
   "source": [
    "a, b"
   ]
  },
  {
   "cell_type": "code",
   "execution_count": 194,
   "id": "0cc7dee0-a74d-4d69-b0af-50a479f15893",
   "metadata": {},
   "outputs": [
    {
     "data": {
      "text/plain": [
       "\u001b[31mSignature:\u001b[39m math.nextafter(x, y, /, *, steps=\u001b[38;5;28;01mNone\u001b[39;00m)\n",
       "\u001b[31mDocstring:\u001b[39m\n",
       "Return the floating-point value the given number of steps after x towards y.\n",
       "\n",
       "If steps is not specified or is None, it defaults to 1.\n",
       "\n",
       "Raises a TypeError, if x or y is not a double, or if steps is not an integer.\n",
       "Raises ValueError if steps is negative.\n",
       "\u001b[31mType:\u001b[39m      builtin_function_or_method"
      ]
     },
     "metadata": {},
     "output_type": "display_data"
    }
   ],
   "source": [
    "math.nextafter?"
   ]
  },
  {
   "cell_type": "code",
   "execution_count": 165,
   "id": "31b66cd2-4b13-4479-9e9a-952aaaa43e8a",
   "metadata": {},
   "outputs": [
    {
     "data": {
      "text/plain": [
       "((np.float64(0.0), np.float64(0.0)),\n",
       " (np.float64(0.0), np.float64(0.1)),\n",
       " False,\n",
       " False,\n",
       " np.float64(0.0))"
      ]
     },
     "execution_count": 165,
     "metadata": {},
     "output_type": "execute_result"
    }
   ],
   "source": [
    "t, quick_two_diff(a, b), t == quick_two_diff(a, b), t == quick_two_diff(a, b), a - b"
   ]
  },
  {
   "cell_type": "code",
   "execution_count": 134,
   "id": "3557a07a-1600-4654-81ba-71422ac5cfb4",
   "metadata": {},
   "outputs": [
    {
     "data": {
      "text/plain": [
       "(2, 2)"
      ]
     },
     "execution_count": 134,
     "metadata": {},
     "output_type": "execute_result"
    }
   ],
   "source": [
    "a = 3\n",
    "b = 1\n",
    "a - b, (-b) - (-a)"
   ]
  },
  {
   "cell_type": "code",
   "execution_count": 86,
   "id": "2b24f677-ac7e-4cb6-a72e-59a7fa7dffd5",
   "metadata": {},
   "outputs": [],
   "source": [
    "xq = np.linspace(-2., 2., 1001)\n",
    "rxq = np.trunc(xq)\n",
    "adxq = np.abs(xq - rxq)\n",
    "need_xql = np.where((adxq == 0.5) | (adxq == 0.)) # np.where(xq == rxq)\n",
    "z = xq[need_xql]\n",
    "rxq[need_xql] = z"
   ]
  },
  {
   "cell_type": "code",
   "execution_count": 58,
   "id": "b5dfb2e1-ba8a-4b82-b888-02bd0213aa1e",
   "metadata": {},
   "outputs": [
    {
     "name": "stdout",
     "output_type": "stream",
     "text": [
      "3.69 μs ± 154 ns per loop (mean ± std. dev. of 7 runs, 100,000 loops each)\n",
      "12.6 μs ± 177 ns per loop (mean ± std. dev. of 7 runs, 100,000 loops each)\n",
      "11.6 μs ± 191 ns per loop (mean ± std. dev. of 7 runs, 100,000 loops each)\n"
     ]
    }
   ],
   "source": [
    "xq = np.linspace(-2., 2., 1001)\n",
    "rxq = np.trunc(xq)\n",
    "# %timeit xqok = np.where(xq%1. == 0.)\n",
    "# %timeit xqok1 = np.where(xq == rxq)\n",
    "\n",
    "%timeit xqok0 = np.where(np.abs(xq - rxq) == 0.5)\n",
    "%timeit xqok = np.where(xq%0.5 == 0.)\n",
    "%timeit xqok1 = (xq%0.5 == 0.)\n",
    "# %timeit xq[xqok] += 1.\n",
    "# %timeit xq[xqok1] += 1."
   ]
  },
  {
   "cell_type": "code",
   "execution_count": 76,
   "id": "51d5f45b-ffe5-4de1-a8bb-bf3328e36846",
   "metadata": {},
   "outputs": [
    {
     "name": "stdout",
     "output_type": "stream",
     "text": [
      "12.6 μs ± 38.6 ns per loop (mean ± std. dev. of 7 runs, 100,000 loops each)\n",
      "11.2 μs ± 35.6 ns per loop (mean ± std. dev. of 7 runs, 100,000 loops each)\n",
      "8.65 μs ± 34 ns per loop (mean ± std. dev. of 7 runs, 100,000 loops each)\n",
      "9.65 μs ± 28 ns per loop (mean ± std. dev. of 7 runs, 100,000 loops each)\n",
      "13.5 μs ± 46.9 ns per loop (mean ± std. dev. of 7 runs, 100,000 loops each)\n"
     ]
    }
   ],
   "source": [
    "%timeit xf, xi = np.modf(xq); xqok0 = np.where((xf == 0.5) | (xf == 0.))\n",
    "%timeit xqok = np.where(np.fmod(xq, 1.) == 0.)\n",
    "%timeit adxq = np.abs(xq - rxq); xqok0 = np.where((adxq == 0.5) | (adxq == 0.))\n",
    "%timeit dxq = (xq - rxq); xqok1 = np.where((dxq == 0.5) | (dxq == -0.5) | (dxq == 0.))\n",
    "a_min = np.nextafter(0., 0.5)\n",
    "a_max = np.nextafter(0.5, 0.)\n",
    "%timeit adxq = np.abs(xq - rxq); xqok2 = np.where(adxq == np.clip(adxq, a_min=a_min, a_max=a_max))"
   ]
  },
  {
   "cell_type": "code",
   "execution_count": 75,
   "id": "6f772b11-fedc-41cf-82f8-757e009fe728",
   "metadata": {},
   "outputs": [
    {
     "data": {
      "text/plain": [
       "array([-0.   , -0.996, -0.992, ...,  0.992,  0.996,  0.   ], shape=(1001,))"
      ]
     },
     "execution_count": 75,
     "metadata": {},
     "output_type": "execute_result"
    }
   ],
   "source": [
    "xf, xi = np.modf(xq)\n",
    "xf"
   ]
  },
  {
   "cell_type": "code",
   "execution_count": 66,
   "id": "ea1ef264-6ecf-4700-b71a-a2c71df805d9",
   "metadata": {},
   "outputs": [
    {
     "data": {
      "text/plain": [
       "np.float64(0.49999999999999994)"
      ]
     },
     "execution_count": 66,
     "metadata": {},
     "output_type": "execute_result"
    }
   ],
   "source": [
    "a_min = np.nextafter(0., 0.5)\n",
    "a_max = np.nextafter(0.5, 0.)\n",
    "np.clip(0.5, a_min=a_min, a_max=a_max)"
   ]
  },
  {
   "cell_type": "code",
   "execution_count": 40,
   "id": "48aa4e66-4f2a-4275-91e8-dd3002e0476f",
   "metadata": {},
   "outputs": [
    {
     "name": "stdout",
     "output_type": "stream",
     "text": [
      "36.5 ns ± 1.33 ns per loop (mean ± std. dev. of 7 runs, 10,000,000 loops each)\n",
      "24.3 ns ± 1.01 ns per loop (mean ± std. dev. of 7 runs, 10,000,000 loops each)\n",
      "27.1 ns ± 0.862 ns per loop (mean ± std. dev. of 7 runs, 10,000,000 loops each)\n"
     ]
    }
   ],
   "source": [
    "xq = 1.5\n",
    "rxq = math.trunc(xq)\n",
    "%timeit xq%0.5 == 0.\n",
    "%timeit xq.is_integer()\n",
    "%timeit xq == rxq"
   ]
  },
  {
   "cell_type": "code",
   "execution_count": 43,
   "id": "5837dc89-d3d5-46e7-b1fd-37c31712f5df",
   "metadata": {},
   "outputs": [
    {
     "data": {
      "text/plain": [
       "\u001b[31mSignature:\u001b[39m      rxq.__truediv__(value, /)\n",
       "\u001b[31mCall signature:\u001b[39m rxq.__truediv__(*args, **kwargs)\n",
       "\u001b[31mType:\u001b[39m           method-wrapper\n",
       "\u001b[31mString form:\u001b[39m    <method-wrapper '__truediv__' of int object at 0x10fc28a98>\n",
       "\u001b[31mDocstring:\u001b[39m      Return self/value."
      ]
     },
     "metadata": {},
     "output_type": "display_data"
    }
   ],
   "source": [
    "rxq.__truediv__(q)"
   ]
  },
  {
   "cell_type": "code",
   "execution_count": 14,
   "id": "ae78d0e1-cbed-4f97-b59c-449c8e5203ea",
   "metadata": {},
   "outputs": [
    {
     "data": {
      "text/plain": [
       "('float(10**22):.5f', 'float(10**23):.5f')"
      ]
     },
     "execution_count": 14,
     "metadata": {},
     "output_type": "execute_result"
    }
   ],
   "source": [
    "f\"float(10**22):.5f\",f\"float(10**23):.5fо"
   ]
  },
  {
   "cell_type": "code",
   "execution_count": 32,
   "id": "4e16ce99-1c3a-4d3c-8d7d-cc908fbb055b",
   "metadata": {},
   "outputs": [
    {
     "name": "stdout",
     "output_type": "stream",
     "text": [
      "22 1.7976931348623158e+286\n",
      " 4 np.float16(6.55)\n",
      "10 np.float32(3.4028235e+28)\n",
      "22 np.float64(1.7976931348623158e+286)\n",
      "27 np.longdouble('1.189731495357231765e+4905')\n"
     ]
    }
   ],
   "source": [
    "for t in [float, np.half, np.single, np.double, np.longdouble]:\n",
    "    max_ndigits = int(-np.finfo(t).negep/math.log2(5))\n",
    "    max_abs_x = t(np.finfo(t).max/10**max_ndigits)\n",
    "    print(f\"{max_ndigits:2} {repr(max_abs_x)}\")"
   ]
  },
  {
   "cell_type": "code",
   "execution_count": 36,
   "id": "97b2d559-98bb-4a75-9417-b5d3f31dacb1",
   "metadata": {},
   "outputs": [
    {
     "name": "stdout",
     "output_type": "stream",
     "text": [
      "Machine parameters for float16\n",
      "---------------------------------------------------------------\n",
      "precision =   3   resolution = 1.00040e-03\n",
      "machep =    -10   eps =        9.76562e-04\n",
      "negep =     -11   epsneg =     4.88281e-04\n",
      "minexp =    -14   tiny =       6.10352e-05\n",
      "maxexp =     16   max =        6.55040e+04\n",
      "nexp =        5   min =        -max\n",
      "smallest_normal = 6.10352e-05   smallest_subnormal = 5.96046e-08\n",
      "---------------------------------------------------------------\n",
      " 0.125\n"
     ]
    }
   ],
   "source": [
    "print(np.finfo(np.half), np.finfo(np.half).smallest_normal/np.finfo(np.half).epsneg)"
   ]
  },
  {
   "cell_type": "code",
   "execution_count": 26,
   "id": "52e1ff45-f605-4ea6-bd05-9e050c24b5a0",
   "metadata": {},
   "outputs": [
    {
     "data": {
      "text/plain": [
       "'longdouble'"
      ]
     },
     "execution_count": 26,
     "metadata": {},
     "output_type": "execute_result"
    }
   ],
   "source": [
    "t(1).__class__.__name__"
   ]
  },
  {
   "cell_type": "markdown",
   "id": "d7f6b92e-695a-4680-a0cb-a97b617efd61",
   "metadata": {},
   "source": [
    "53/math.log2(5)"
   ]
  },
  {
   "cell_type": "code",
   "execution_count": null,
   "id": "199cb7ba-ddab-473c-97da-dd323aa3dfdc",
   "metadata": {},
   "outputs": [],
   "source": [
    "int(10.**11), 10.**11)**2"
   ]
  },
  {
   "cell_type": "markdown",
   "id": "c022028b-037a-4519-af66-fe6913d42cd3",
   "metadata": {},
   "source": [
    "## Требования к точности вычислений при округлении/усечении\n",
    "\n",
    "Если вычислять \n",
    "$round\\_int(x \\otimes 10^{ndigits}) \\oslash 10^{ndigits}$ на точности \n",
    "входного аргумента, как это делает функция Numpy [`np.round(a, decimals=0, out=None)`](https://numpy.org/doc/stable/reference/generated/numpy.round.html)\n",
    "то результат округления/усечения будет неточен. Пример \n",
    "из документации `np.round(56294995342131.5, 3) == 56294995342131.51` немного \n",
    "искуственный, т.к. округляют до трёх знаков, число с \n",
    "наименьшим значащим разрядом `0.0078125`, но тем не менее, \n",
    "поскольку стандартный `round(56294995342131.5, 3) == 56294995342131.5`, то \n",
    "можно же получить корректный ответ. Для небольших чисел, \n",
    "к примеру, в выражении `round(16.055*10**2)/10**2`, ошибки округления \n",
    "приводят к получению округления человекочитаемого представления, хотя \n",
    "выражение дано для нормального округления машинного представления.\n",
    "\n",
    "Более неприятные грабли могут возникать при неточном усечениии до заданного \n",
    "знака, если предыдущие случаи, типа, неточное округление - ну, бывает. Но, \n",
    "к примеру, когда при `x=67108863.949999996`, `math.trunc(x*100)/100 > x`, \n",
    "то это может быть немного более неприятно.\n",
    "\n",
    "Конечно, если честно использовать наивное округление/усечение вида \n",
    "\"распечатать в формате с фиксированной запятой и взять нужный кусочек \n",
    "от строки\", то, в типичном случае, потребуется под сотню десятичных знаков. \n",
    "Но, если вычислять согласно определений методов округления, то такая \n",
    "высокая точность необязательна.\n",
    "\n",
    "\n",
    "\n",
    "Для ограничения необходимой точности вычислений разумными значениями \n",
    "необходимо ввести ограничения на входные данные:\n",
    "\n",
    "В выражении $round\\_int(x \\otimes 10^{ndigits}) \\oslash 10^{ndigits}$ \n",
    "ошибка деления $\\le 0.5 \\times ULP(x)$ не влияет на результат, в том смысле, \n",
    "что если оба аргумента $round\\_int(x \\otimes 10^{ndigits})$ и $10^{ndigits}$\n",
    "точно представимы, то и в результате получится представление точного \n",
    "результата в заданом формате. \n",
    "\n",
    "Таким образом, необходима точность вычислений, \n",
    "которая позволит точно вычислить $x \\otimes 10^{ndigits}$ и точно его \n",
    "округлить до целого. При естественном ограничении \n",
    "`abs(ndigits) <= np.finfo(x).precision` для этого достаточно использовать \n",
    "удвоенную точность аргумента.\n",
    "\n",
    "Варианты точного вычисления $x \\otimes 10^{ndigits}$:\n",
    "\n",
    "1. Python, как большинство современных языков, предоставляет функцию\n",
    "   `math.fma()` (для Python 3.13 и выше), т.е. можно вычислять примерно так:\n",
    "   ```\n",
    "   q = 10**ndigits\n",
    "   # Точное умножение x*q == xq + xql (abs(xql) <= 0.5*ULP(xq))\n",
    "   xq = x*q\n",
    "   xql = math.fma(x, q, -xq)\n",
    "   # Точное вычисление round_int(xq + xql) == rxq + rxql (abs(rxql) <= 0.5*ULP(rxq))\n",
    "   rxq, rxql = round_int(xq), 0\n",
    "   if (rxq - xq)%0.5 == 0:  # или rxq == xq для ceil/trunc/floor/ROUND_UP\n",
    "       rxq, rxql = round_int_low(rxq, xq, xql)\n",
    "   # Точное вычисление (rxq, rxql)/q, если оно представимо\n",
    "   rx = rxq/q\n",
    "   if not isinstance(rxq, int):\n",
    "       # Для int, __truediv__() выдаёт точный результат, если он представим\n",
    "       # А для типов Numpy (np.ndarray или np.longdouble)\n",
    "       # rxq имеет точность x, поэтому rxql может быть не равен 0\n",
    "       rxql += math.fma(rx0, q, -rxq)\n",
    "       rx = (rxq + rxql1)/q\n",
    "   return rx\n",
    "   ```\n",
    "   <br/>\n",
    "\n",
    "2. Для типов `np.half` и `np.single` более эффективным вариантом будет\n",
    "   вычисление на типах удвоенной точности или на типе `float`, т.е.\n",
    "   примерно так:\n",
    "   ```\n",
    "   q = 10**ndigits\n",
    "   type(x)(round_int(ext_type(x)*q)/q)\n",
    "   ````\n",
    "   <br/>\n",
    "   При `ndigits <= 3` и доступности `np.float128` c 64-бит мантиссой, в \n",
    "   принципе, при необходимости, возможно использовать вариант 2 для типов \n",
    "   `float` и `np.double`\n",
    "   <br/><br/>\n",
    "\n",
    "3. Преобразовать аргумент в отношение целых чисел и округлить в рациональной\n",
    "   арифметике. В случае если `math.fma()` недоступна, для некоторых типов\n",
    "   и некоторых методов округления, этот вариант может оказаться\n",
    "   кокурентноспособным по сравнению со старым добрым алгоритмом умножения\n",
    "   Деккера (double-double без fma())"
   ]
  },
  {
   "cell_type": "code",
   "execution_count": null,
   "id": "ca0af12d-7226-455a-a396-af39219836ed",
   "metadata": {},
   "outputs": [],
   "source": [
    "# Сравнение деления int, float, np.longdouble\n",
    "# Реализация int.__truediv__(self, value, /)\n",
    "# cpython/Objects/longobject.c:long_true_divide\n",
    "#\n",
    "sx = '56294995342131500'\n",
    "sq = '1000'\n",
    "for t in [int, float, np.longdouble]:\n",
    "    x = t(sx)\n",
    "    q = t(sq)\n",
    "    print(f\"{str(x/q)} {t}\")\n",
    "    if t != int:\n",
    "        x0 = t(np.nextafter(x, 0))\n",
    "        xi = t(np.nextafter(x, np.inf))\n",
    "        print(f\"\\t{str(x0)} {str(x)} {str(xi)}\")"
   ]
  },
  {
   "cell_type": "code",
   "execution_count": null,
   "id": "0cb0c143-c498-41b6-9882-021bb6dd66c3",
   "metadata": {},
   "outputs": [],
   "source": [
    "15*53**4"
   ]
  },
  {
   "cell_type": "code",
   "execution_count": null,
   "id": "b6513916-5049-4930-9a14-71c57f5acb90",
   "metadata": {},
   "outputs": [],
   "source": [
    "9.999999999999999e22, 1e23"
   ]
  },
  {
   "cell_type": "code",
   "execution_count": null,
   "id": "c51caa88-bf86-4167-94a6-18170d422965",
   "metadata": {},
   "outputs": [],
   "source": [
    "for x in np.arange(-2, 2.1, 0.25):\n",
    "    print(f\"{x:5} {x%0.5}\")"
   ]
  },
  {
   "cell_type": "markdown",
   "id": "eba7327b-2840-48d1-9822-b2b717beed99",
   "metadata": {},
   "source": [
    "### А что там у стандартного `round()`"
   ]
  },
  {
   "cell_type": "code",
   "execution_count": null,
   "id": "c3f870d6-836e-458a-9417-494248010d82",
   "metadata": {},
   "outputs": [],
   "source": [
    "len(\"exr_decimal_round(x, n, fmt_out=None)\")"
   ]
  },
  {
   "cell_type": "code",
   "execution_count": null,
   "id": "ba6d3bac-c997-423c-b7c4-9304306ee1af",
   "metadata": {},
   "outputs": [],
   "source": [
    "\".{}f\".format(3)"
   ]
  },
  {
   "cell_type": "code",
   "execution_count": null,
   "id": "9db51a2b-4b28-4ff1-ae35-b8aad2cee84e",
   "metadata": {},
   "outputs": [],
   "source": [
    "# get_ipython().magic(f\"timeit -r {r} {cmd}\"),\n",
    "x, n = 11., 22\n",
    "s = \"x.__format__(f'.{n}f')\"\n",
    "x, n = 1.e100, 2\n",
    "get_ipython().run_line_magic(\"timeit\", s)"
   ]
  },
  {
   "cell_type": "code",
   "execution_count": null,
   "id": "64a7b17a-8154-4881-b2d8-fe945e85a468",
   "metadata": {},
   "outputs": [],
   "source": [
    "(len(np.finfo(float).max.__format__('.3f')) - 3,\n",
    " len(np.finfo(np.longdouble).max.__format__('.3f')) - 3)"
   ]
  },
  {
   "cell_type": "code",
   "execution_count": null,
   "id": "82b1f023-2a46-4e57-9e7f-ad5676da04f0",
   "metadata": {},
   "outputs": [],
   "source": []
  },
  {
   "cell_type": "code",
   "execution_count": null,
   "id": "6fb9acb6-cb1e-42c9-936c-4c567a70768d",
   "metadata": {},
   "outputs": [],
   "source": [
    "r = '4'\n",
    "print('x: ', end='')\n",
    "%timeit -r f\"{r}\" None"
   ]
  },
  {
   "cell_type": "code",
   "execution_count": null,
   "id": "1f3d6de4-34f5-4236-a099-347af4c2ff27",
   "metadata": {},
   "outputs": [],
   "source": [
    "print?"
   ]
  },
  {
   "cell_type": "code",
   "execution_count": null,
   "id": "a6be4785-24e5-4e53-94b7-28f6a935919b",
   "metadata": {},
   "outputs": [],
   "source": [
    "for n in range(1, 300):\n",
    "    a = float(\"1.\" + (n-1)*\"0\" + \"1\")\n",
    "    b = float(\"1.\" + (n-1)*\"0\" + \"049999\")\n",
    "    # a = float(\"1.\" + (n-1)*\"0\" + \"1\")\n",
    "    # b = float(\"1.\" + (n-1)*\"0\" + \"150001\")    \n",
    "    if a == b:\n",
    "        break\n",
    "    #b = math.nextafter(b, 0)\n",
    "    ra = round(a, n)\n",
    "    rb = round(b, n)\n",
    "    if ra == rb:\n",
    "        print(f\"{n=} {a, b=} {ra, rb=}\")\n",
    "print(f\"{n=} {a, b=} {ra, rb=}\")\n"
   ]
  },
  {
   "cell_type": "code",
   "execution_count": null,
   "id": "7c764498-2981-41e8-8c9e-bd9aec38f76a",
   "metadata": {},
   "outputs": [],
   "source": [
    "for n in range(309):\n",
    "    q = 10**n\n",
    "    fq = float(q)\n",
    "    iq = int(q)\n",
    "    rq = round(q)\n",
    "    if iq != q:\n",
    "        print(f\"{n=} iq != q {q, fq, iq, rq=}\")\n",
    "    if rq != q:\n",
    "        print(f\"{n=} rq != q {q, fq, iq, rq=}\")\n",
    "    "
   ]
  },
  {
   "cell_type": "markdown",
   "id": "ecca996b-0dfe-443c-9f20-a38f2153bb1a",
   "metadata": {},
   "source": [
    "# Разное"
   ]
  },
  {
   "cell_type": "code",
   "execution_count": null,
   "id": "c6026ec5-b571-4899-8f86-093a522d484f",
   "metadata": {},
   "outputs": [],
   "source": [
    "assert Fale"
   ]
  },
  {
   "cell_type": "code",
   "execution_count": null,
   "id": "d8fb9dc9-52f7-4f23-9e33-d550bac427e0",
   "metadata": {},
   "outputs": [],
   "source": [
    "# sx = '56294995342131.5'\n",
    "# n = 3\n",
    "sx = ''\n",
    "for u in range(1000):\n",
    "    x = float(str(u) + sx)\n",
    "    rx = round(x, n)\n",
    "    erx = exr_easy_round(x, n, 'ROUND_HALF_EVEN', fmt_out=True)\n",
    "    erx1 = exr_easy_round(x, n, 'ROUND_HALF_EVEN', fmt_out=False)\n",
    "    if rx != erx:\n",
    "        print(f\"{x=} {x == erx1 =} : {rx=} {erx=} {erx1=}\")\n",
    "print(f\"{x=} {x == erx1 =} : {rx=} {erx=} {erx1=}\")"
   ]
  },
  {
   "cell_type": "code",
   "execution_count": null,
   "id": "889293bf-d0aa-483b-a58c-f5208209f867",
   "metadata": {},
   "outputs": [],
   "source": [
    "z = 56294995342131.5/10**9\n",
    "z, decimal.Decimal(z)"
   ]
  },
  {
   "cell_type": "code",
   "execution_count": null,
   "id": "dd949504-affe-4f14-8dda-741fcbee22a3",
   "metadata": {},
   "outputs": [],
   "source": [
    "with decimal.localcontext():  #prec=130):\n",
    "    for n in range(100):\n",
    "        x = z\n",
    "        rx = round(x, n)\n",
    "        erx = exr_easy_round(x, n, 'ROUND_HALF_EVEN', fmt_out=True)\n",
    "        erx1 = exr_easy_round(x, n, 'ROUND_HALF_EVEN', fmt_out=False)\n",
    "        if rx != erx:\n",
    "            print(f\"{n=} {x=} {x == erx1 =} : {rx=} {erx=} {erx1=}\")\n",
    "print(f\"{n=} {x=} {x == erx1 =} : {rx=} {erx=} {erx1=}\")    "
   ]
  },
  {
   "cell_type": "code",
   "execution_count": null,
   "id": "4fa8016a-fbed-4897-9e8e-f5beafbec5c8",
   "metadata": {},
   "outputs": [],
   "source": [
    "print(f\"{n=} {x=} {x == erx1 =} : {rx=} {erx=} {erx1=}\")    "
   ]
  },
  {
   "cell_type": "code",
   "execution_count": null,
   "id": "834f0cf2-c2ed-4dbf-8466-400a23f8ddc9",
   "metadata": {},
   "outputs": [],
   "source": [
    "decimal.Decimal(x).as_tuple().exponent + len(decimal.Decimal(x).as_tuple().digits) + n"
   ]
  },
  {
   "cell_type": "code",
   "execution_count": null,
   "id": "10e8a479-c8e0-4538-a913-4d669a5f5c6a",
   "metadata": {},
   "outputs": [],
   "source": []
  },
  {
   "cell_type": "code",
   "execution_count": null,
   "id": "93f82a68-98ba-46a1-8609-1ca0818023db",
   "metadata": {},
   "outputs": [],
   "source": []
  },
  {
   "cell_type": "code",
   "execution_count": null,
   "id": "7d48ff24-54d2-4def-bafd-78bebace2a6a",
   "metadata": {},
   "outputs": [],
   "source": []
  },
  {
   "cell_type": "code",
   "execution_count": null,
   "id": "dd02187c-4b19-4503-8079-2d20b486c956",
   "metadata": {},
   "outputs": [],
   "source": [
    "decimal.Decimal(x), decimal.Decimal(f\"1e-{n}\")"
   ]
  },
  {
   "cell_type": "code",
   "execution_count": null,
   "id": "13e0b27b-d1cd-437c-a117-9b6b81badb43",
   "metadata": {},
   "outputs": [],
   "source": [
    "decimal.Decimal(x).quantize(decimal.Decimal(\"0.\" + (n-2)*\"0\" + \"1\")) # f\"1e-{n-1}\"))"
   ]
  },
  {
   "cell_type": "code",
   "execution_count": null,
   "id": "66320894-f311-48df-948f-69db2b0e95e3",
   "metadata": {},
   "outputs": [],
   "source": [
    "len('95342131494544446468353271484375')"
   ]
  },
  {
   "cell_type": "code",
   "execution_count": null,
   "id": "a0141293-f3ff-4245-875c-ddfc854bf03a",
   "metadata": {},
   "outputs": [],
   "source": [
    "decimal"
   ]
  },
  {
   "cell_type": "code",
   "execution_count": null,
   "id": "d4380088-b16a-48ed-bd2d-1bb1be7e8460",
   "metadata": {},
   "outputs": [],
   "source": [
    "len(decimal.Decimal('1E-23').as_tuple().digits)"
   ]
  },
  {
   "cell_type": "code",
   "execution_count": null,
   "id": "a2858029-3529-4144-b374-fce3d334076e",
   "metadata": {},
   "outputs": [],
   "source": [
    "x = 67108863.949999996\n",
    "q = 100\n",
    "xq = x*q\n",
    "xql = math.fma(x, q, -x*q)\n",
    "txq = math.trunc(xq)\n",
    "if txq == xq:\n",
    "    txq += math.floor(xql)\n",
    "txq, txq/q, txq/q < x"
   ]
  },
  {
   "cell_type": "code",
   "execution_count": null,
   "id": "ce3dcbda-60f6-416d-a702-453002af176c",
   "metadata": {},
   "outputs": [],
   "source": [
    "x = 56294995342131.5\n",
    "q = 10**3\n",
    "xq = x*q\n",
    "xql = math.fma(x, q, -x*q)\n",
    "print(f\"{xq=} {xql=}\")\n",
    "txq = round(xq)\n",
    "if txq == xq:\n",
    "    txq += round(xql)\n",
    "txq, txq/q"
   ]
  },
  {
   "cell_type": "code",
   "execution_count": null,
   "id": "07872bde-9d49-4442-8a10-0255b82017db",
   "metadata": {},
   "outputs": [],
   "source": [
    "math.ldexp()"
   ]
  },
  {
   "cell_type": "code",
   "execution_count": null,
   "id": "c4bb3cc5-4f6f-40ef-9fe8-ba4b666452c3",
   "metadata": {},
   "outputs": [],
   "source": [
    "x = 56294995342131.5\n",
    "q = 10**3\n",
    "xq = x*q\n",
    "xql = math.fma(x, q, -x*q)\n",
    "print(f\"{xq=} {xql=}\")\n",
    "txq = round(xq)\n",
    "if txq == xq:\n",
    "    txq += round(xql)\n",
    "txq, txq/q"
   ]
  },
  {
   "cell_type": "code",
   "execution_count": 235,
   "id": "43186bdf-0776-429c-bcd0-3689ef2cf557",
   "metadata": {},
   "outputs": [
    {
     "name": "stdout",
     "output_type": "stream",
     "text": [
      "xq=1605.5 xql=-2.842170943040401e-14\n",
      "abs(xq - txq)=0.5 math.fmod(xq, 2.) + xql=1.4999999999999716\n",
      "txq=1605, txq/q=16.05 round(x, 2)=16.05\n",
      "xq=1608.5 xql=8.526512829121202e-14\n",
      "abs(xq - txq)=0.5 math.fmod(xq, 2.) + xql=0.5000000000000853\n",
      "txq=1609, txq/q=16.09 round(x, 2)=16.09\n",
      "xq=-1605.5 xql=2.842170943040401e-14\n",
      "abs(xq - txq)=0.5 math.fmod(xq, 2.) + xql=-1.4999999999999716\n",
      "txq=-1605, txq/q=-16.05 round(x, 2)=-16.05\n",
      "xq=-1608.5 xql=-8.526512829121202e-14\n",
      "abs(xq - txq)=0.5 math.fmod(xq, 2.) + xql=-0.5000000000000853\n",
      "txq=-1609, txq/q=-16.09 round(x, 2)=-16.09\n"
     ]
    }
   ],
   "source": [
    "for x in [16.055, 16.085, -16.055, -16.085]:\n",
    "    q = 10**2\n",
    "    xq = x*q\n",
    "    xql = math.fma(x, q, -x*q)\n",
    "    print(f\"{xq=} {xql=}\")\n",
    "    txq = round(xq)\n",
    "    if txq == xq or abs(xq - txq) == 0.5:\n",
    "        print(f\"{abs(xq - txq)=} {math.fmod(xq, 2.) + xql=}\")\n",
    "        txq = math.trunc(xq/2)*2 + round(math.fmod(xq, 2.) + xql)\n",
    "    print(f\"{txq=}, {txq/q=} {round(x, 2)=}\")"
   ]
  },
  {
   "cell_type": "code",
   "execution_count": null,
   "id": "f80dd408-b963-4167-9bde-254f9290f2a2",
   "metadata": {},
   "outputs": [],
   "source": []
  },
  {
   "cell_type": "code",
   "execution_count": null,
   "id": "123d8413-5261-434c-a7bc-4440aeb55ca7",
   "metadata": {},
   "outputs": [],
   "source": [
    "np.round(56294995342131.5, 2)"
   ]
  },
  {
   "cell_type": "code",
   "execution_count": null,
   "id": "6b09c172-a999-413d-a1b6-67b7176fa17f",
   "metadata": {},
   "outputs": [],
   "source": [
    "for t in [float, np.half, np.single, np.double, np.longdouble]:\n",
    "    bs = [np.finfo(t).smallest_normal, np.finfo(t).smallest_subnormal, \n",
    "          np.finfo(t).max, t(0.5)]\n",
    "    xs = [t(np.nextafter(b, d)) for b in bs\n",
    "          for d in ([np.inf, b, 0] if abs(b) < np.finfo(b).max else\n",
    "                    [b, 0])]\n",
    "    cvt = exr_decimal_from_longdouble if t == np.longdouble else float\n",
    "    lens = [len(decimal.Decimal(cvt(x)).as_tuple().digits)\n",
    "            for x in xs]\n",
    "    print(f\"{xs[0].__class__.__name__:10} {max(lens):6d} {lens=}\")\n",
    "print(\"---\")\n",
    "print(f\"{np.round(56294995342131.5, 3) == 56294995342131.51 =}\")\n",
    "print(f\"{round(56294995342131.5, 3) == 56294995342131.5 =}\")\n",
    "x = 16.055\n",
    "print(f\"{x=}\")\n",
    "print(f\"{round(x*10**2)/10**2 == round(x, 2) =}\")\n",
    "print(f\"{round(x*10**2)/10**2 == exr_easy_round(x, 2, 'ROUND_HALF_EVEN', fmt_out=False) =}\")\n",
    "print(f\"{x=}\")\n",
    "print(f\"{math.trunc(x*100)/100 > x =}\")\n",
    "print(\"--- fma() ---\")\n",
    "for x, n in [(56294995342131.5, 3), (156294995342131.5, 3), (16.055, 2)]:\n",
    "    print(f\"{x=}; {n=}\")\n",
    "    q = 10**n\n",
    "    xq = x*q\n",
    "    xql = math.fma(x, q, -x*q)\n",
    "    print(f\"{xq=} {xql=}\")\n",
    "    txq, txql = round(xq), 0\n",
    "    if txq == xq or abs(xq - txq) == 0.5:\n",
    "        txq, txql = math.trunc(xq/2)*2, round(math.fmod(xq, 2.) + xql)\n",
    "    txq, txql = float(txq), float(txql)\n",
    "    print(f\"{(txq + txql)/q=} {(txq + txql)/q == round(x, n)  =}  ({xq=} {xql=})\")\n",
    "    print(f\"{txq/q + txql/q=} {txq/q + txql/q == round(x, n)  =}\")\n",
    "    # print(f\"{txq=}\")\n",
    "    # print(f\"txq={txq :.17f}\")\n",
    "if \"float128\" in np.__dict__:\n",
    "    print(\"--- np.float128() for ndigits <= 3 ---\")\n",
    "    for x, n in [(56294995342131.5, 3), (156294995342131.5, 3), (16.055, 2)]:\n",
    "        print(f\"{x=}; {n=}\")\n",
    "        q = 10**n\n",
    "        print(f\"{float(np.round(np.float128(x)*q)/q) =}\")\n",
    "        # ldxq = np.float128(x)*q\n",
    "        # xq = float(ldxq)\n",
    "        # xql = float(ldxq - np.float128(xq))\n",
    "        # assert np.float128(xq) + np.float128(xql) == ldxq\n",
    "        # print(f\"np.float128(x)*q={ldxq}\")\n",
    "        # print(f\"{xq=} {xql=}\")\n",
    "        # print(f\"txq={(np.round(np.float128(x)*q)) :.17f}\")\n"
   ]
  },
  {
   "cell_type": "code",
   "execution_count": null,
   "id": "b4214029-35dd-4643-b01e-6193bc8fc656",
   "metadata": {},
   "outputs": [],
   "source": [
    "round(x, 2), x, round(x, 2), round(xq)"
   ]
  },
  {
   "cell_type": "code",
   "execution_count": null,
   "id": "b61b4f05-7723-4e95-ac78-fe4c227d0564",
   "metadata": {},
   "outputs": [],
   "source": [
    "round(56294995342131.5, 3)"
   ]
  },
  {
   "cell_type": "code",
   "execution_count": null,
   "id": "84502ca9-fbb1-4ad7-a438-adee5fd7d3c7",
   "metadata": {},
   "outputs": [],
   "source": [
    "round(156294995342131.5, 3)"
   ]
  },
  {
   "cell_type": "code",
   "execution_count": null,
   "id": "65f8c18f-42a0-481f-b371-eaafcb4a7d9a",
   "metadata": {},
   "outputs": [],
   "source": []
  },
  {
   "cell_type": "code",
   "execution_count": null,
   "id": "82e725d6-87d2-4109-bda4-cd0f5e0949ce",
   "metadata": {},
   "outputs": [],
   "source": [
    "# К сожалению, пока Numpy не выдаёт интерфейс к fma(), поэтому точное \n",
    "# округление массивов npt.NDArray[np.double] и npt.NDArray[np.longdouble]\n",
    "# требует техник прошлого века.\n",
    "\n",
    "# В принципе, для скалярных величин (np.longdouble, ...) можно пробовать \n",
    "# округлить результат метода as_integer_ratio(), но это ж как повезёт, с \n",
    "# переменным успехом. Плюс, зависит от метода округления.\n",
    "\n",
    "# T. J. Dekker, A Floating-Point Technique for Extending the Available \n",
    "# Precision, 1971\n",
    "# (6.3) Theorem.\n",
    "# Jonathan Richard Shewchuk, Adaptive Precision Floating-Point Arithmetic \n",
    "# and Fast Robust Geometric Predicates, 1997\n",
    "# Theorem 17\n",
    "#\n",
    "# Значение p-бит плавающего типа (обычно ULP(0.5) = 2**-p или \n",
    "# np.finfo(t).negep == p)\n",
    "# Разделяем на два числа x = hx + hl размерностями: p - s (ahi), \n",
    "# 1 (знак) и s - 1 (alo)\n",
    "\n",
    "_exr_qd_splitter = {\n",
    "    float:           2**27 + 1,  # negep=53 s=27 -> 26, 1, 26 (4.6e-277..1.3e+300)\n",
    "    np.float64:      2**27 + 1,  # negep=53 s=27 -> 26, 1, 26 (4.6e-277..1.3e+300)\n",
    "}\n",
    "if \"float128\" in np.__dict__:    # Случай, когда np.longdouble != np.double\n",
    "    _exr_qd_splitter = { **_exr_qd_splitter,\n",
    "        np.float128: 2**33 + 1,  # negep=64 s=33 -> 31, 1, 32 (2.9e-4894..1.3e+4922)\n",
    "    }\n",
    "if _exr_debug_small_dd:\n",
    "    _exr_qd_splitter = { **_exr_qd_splitter,\n",
    "        np.float32:  2**13 + 1,  # negep=24 s=13 -> 11, 1, 12 (8.3e-25..4.1e+34)\n",
    "        np.float16:  2**6 + 1,   # negep=11 s=6 -> 5, 1, 5 (64.0..1008.0)\n",
    "                                 # Для np.float16 double-double операции \n",
    "                                 # затруднены, поскольку только для \n",
    "                                 # t1 = np.float16(64)\n",
    "                                 # np.finfo(t1).smallest_normal == \n",
    "                                 # np.spacing(np.spacing(t1))\n",
    "                                 # При операциях с меньшими числами могут\n",
    "                                 # возникать ненормализованные числа\n",
    "    }\n",
    "\n",
    "def _exr_np_two_prod(a, b, type_x):\n",
    "    x = a*b\n",
    "    # Замена fma(a, b, -x)\n",
    "    return x, _exr_np_low_dd_mul(a, b, -x)\n",
    "\n",
    "def _exr_np_low_dd_mul(a, b, mab, type_x):  \n",
    "    \"\"\"\n",
    "    Часть умножения Деккера, которая может быть заменена на `fma(a, b, -a*b)`\n",
    "    (Предупреждение, это не `fma()`, честнная реализация `fma()` несколько \n",
    "    сложнее)\n",
    "    \"\"\"\n",
    "    splitter = _exr_qd_splitter[type_x]\n",
    "    abig = a*splitter\n",
    "    bbig = b*splitter\n",
    "    ahi = (a - abig) + abig\n",
    "    bhi = (b - bbig) + bbig\n",
    "    alo = a - ahi\n",
    "    blo = b - bhi\n",
    "    return alo*blo + (((mab + ahi*bhi) + alo*bhi) + ahi*blo)\n",
    "\n",
    "if 'fma' in math.__dict__  and  not _exr_debug_not_fma:\n",
    "    _exr_math_low_dd_mul = math.fma\n",
    "else:\n",
    "    _exr_math_low_dd_mul = _exr_np_low_dd_mul\n",
    "\n",
    "def _exr_ratio_fma(x, y, z):\n",
    "    xn, xd = x.as_integer_ratio()\n",
    "    yn, yd = y.as_integer_ratio()\n",
    "    zn, zd = z.as_integer_ratio()\n",
    "    xyd = xd*yd\n",
    "    return (type(x)((xn*yn*zd + xyd*zn)/(xyd*zd)) \n",
    "            if type(x) != _exr_dr_float128_t else\n",
    "            type(x)(xn*yn*zd + xyd*zn)/type(x)(xyd*zd))\n",
    "\n",
    "assert _exr_ratio_fma(math.nextafter(1., 0), \n",
    "                      math.nextafter(1., 0), \n",
    "                      -(1. - math.ulp(1.))) == math.ulp(math.ulp(0.25))\n",
    "sa, sb = \"0.1\", \"0.2\"\n",
    "for t, sabl in [(float, '-1.6653345369377347e-18'),\n",
    "                   (np.half, '1.2e-06'),\n",
    "                   (np.single, '-8.1956386e-10'),\n",
    "                   (np.double, '-1.6653345369377347e-18'),\n",
    "                   (np.longdouble, '-7.4538899358378429838e-22')]:\n",
    "    t1 = t(1.)\n",
    "    r = _exr_ratio_fma(t(np.nextafter(t1, np.inf)), \n",
    "                       t(np.nextafter(t1, np.inf)), \n",
    "                       t(-(t1 + 2*np.spacing(t1))))\n",
    "    assert r == np.spacing(np.spacing(t1))\n",
    "    assert type(r) == t\n",
    "    ta, tb = t(sa), t(sb)\n",
    "    assert t(sabl) == _exr_ratio_fma(ta, tb, -ta*tb)\n",
    "    if t != np.longdouble:\n",
    "        assert t(math.fma(ta, tb, -ta*tb)) == _exr_ratio_fma(ta, tb, -ta*tb)\n",
    "        if _exr_math_low_dd_mul != _exr_np_low_dd_mul or t in _exr_qd_splitter:\n",
    "            assert t(sabl) == t(_exr_math_low_dd_mul(ta, tb, -ta*tb))\n",
    "    if t in _exr_qd_splitter:\n",
    "        assert t(sabl) == _exr_np_low_dd_mul(ta, tb, -ta*tb, type_x=t)"
   ]
  },
  {
   "cell_type": "code",
   "execution_count": null,
   "id": "863cee7e-7b23-47a8-9373-73906284af41",
   "metadata": {},
   "outputs": [],
   "source": [
    "def _exr_fmt_out_ratio_trunc(x, ndigits, type_x):\n",
    "    q = 10**ndigits\n",
    "    n, d = x.as_integer_ratio()\n",
    "    return type_x(math.trunc((q*n)/d))/q\n",
    "\n",
    "def _exr_fmt_out_math_trunc(x, ndigits, type_x):\n",
    "    q = float(10**ndigits)\n",
    "    xq = x*q\n",
    "    xql = _exr_math_low_dd_mul(x, q, -xq)\n",
    "    txq = math.trunc(xq)\n",
    "    if txq == xq:\n",
    "        txq += math.ceil(xql) if 0 <= xq else math.trunc(xql)\n",
    "    return txq/q\n",
    "\n",
    "def nocvt(x):\n",
    "    return x\n",
    "\n",
    "def _exr_fmt_out_np_trunc(x, ndigits, type_x):\n",
    "    if type_x == np.longdouble:\n",
    "        domain = np\n",
    "        type_i = type_x\n",
    "        cvt = nocvt\n",
    "    else:\n",
    "        domain = math\n",
    "        type_i = float\n",
    "        cvt = type_x\n",
    "        x = type_i(x)\n",
    "\n",
    "    q = type_i(10**ndigits)\n",
    "    xq = x*q\n",
    "    xql = _exr_np_low_dd_mul(x, q, -xq, type_x=type_x)\n",
    "    txq = domain.trunc(xq)\n",
    "    if txq == xq:\n",
    "        txq += domain.ceil(xql) if 0 <= xq else domain.trunc(xql)\n",
    "    return cvt(txq/q)\n",
    "\n",
    "(_exr_fmt_out_ratio_trunc(4.00001, 5, type_x=float),\n",
    " _exr_fmt_out_math_trunc(4.00001, 5, type_x=float),\n",
    " _exr_fmt_out_np_trunc(4.00001, 5, type_x=float)\n",
    ")\n",
    "sx = 4.00001\n",
    "n = 5\n",
    "for t in [float, np.double, np.longdouble]:\n",
    "    print(t)\n",
    "    x = t(sx)\n",
    "    print(t.__class__.__name__, \n",
    "          [f(x, n, type_x=t) \n",
    "           for f in ([_exr_fmt_out_ratio_trunc, \n",
    "                      _exr_fmt_out_np_trunc, \n",
    "                     ] +\n",
    "                     ([_exr_fmt_out_math_trunc] if t != np.longdouble else []))\n",
    "          ])\n"
   ]
  },
  {
   "cell_type": "code",
   "execution_count": null,
   "id": "cc787620-aeaa-45fa-813d-82e57a709e1c",
   "metadata": {},
   "outputs": [],
   "source": [
    "\n",
    "# t = np.double\n",
    "# for t in [float, np.double, np.longdouble]:\n",
    "#     print(t)\n",
    "#     x = t('4.00001')\n",
    "#     %timeit t(t(x))\n",
    "#     %timeit t(t(t(x)))\n",
    "#     %timeit nocvt(nocvt(x))\n",
    "#     %timeit nocvt(nocvt(nocvt(x)))"
   ]
  },
  {
   "cell_type": "code",
   "execution_count": null,
   "id": "9b151035-1ba2-41b0-b70b-1e0f0cb9a574",
   "metadata": {},
   "outputs": [],
   "source": [
    "sx = 4.00001\n",
    "n = 5\n",
    "for t in [float, np.double, np.longdouble]:\n",
    "    print(t)\n",
    "    x = t(sx)\n",
    "    for f in ([_exr_fmt_out_ratio_trunc, \n",
    "               _exr_fmt_out_np_trunc, \n",
    "              ] +\n",
    "              ([_exr_fmt_out_math_trunc] if t != np.longdouble else [])):\n",
    "        print(f)\n",
    "        %timeit f(x, n, type_x=t)\n",
    "print('Хорь')"
   ]
  },
  {
   "cell_type": "code",
   "execution_count": null,
   "id": "9fb2522b-7cb7-4c03-b596-bc6973aa96e1",
   "metadata": {},
   "outputs": [],
   "source": [
    "x = float(3.3)\n",
    "%timeit _exr_qd_splitter[type(x)]\n",
    "x = np.double(3.3)\n",
    "%timeit _exr_qd_splitter[type(x)]\n",
    "x = np.longdouble(3.3)\n",
    "%timeit _exr_qd_splitter[type(x)]"
   ]
  },
  {
   "cell_type": "code",
   "execution_count": null,
   "id": "78a962c2-bf7a-4b4a-a57f-ee708199d17f",
   "metadata": {},
   "outputs": [],
   "source": [
    "_exr_qd_splitter[float]"
   ]
  },
  {
   "cell_type": "code",
   "execution_count": null,
   "id": "f5c5e544-6337-4a8e-828f-b110501c9fb6",
   "metadata": {},
   "outputs": [],
   "source": []
  },
  {
   "cell_type": "code",
   "execution_count": null,
   "id": "6c96f022-465b-4d17-b6c8-c025aeaa58b0",
   "metadata": {},
   "outputs": [],
   "source": []
  },
  {
   "cell_type": "code",
   "execution_count": null,
   "id": "4493945f-66da-4ec9-bee4-5e52a3fbc736",
   "metadata": {},
   "outputs": [],
   "source": [
    "_exr_ratio_fma(math.nextafter(1., 0), \n",
    "                      math.nextafter(1., 0), \n",
    "                      -(1. - math.ulp(1.)))"
   ]
  },
  {
   "cell_type": "code",
   "execution_count": null,
   "id": "b0058d6a-c3bd-4e15-9bf0-7bdfdfbe9731",
   "metadata": {},
   "outputs": [],
   "source": [
    "for t in [float, np.single, np.double, np.longdouble]:\n",
    "    a, b = t('0.1'), t('0.2')\n",
    "    mab = -a*b\n",
    "    print(t)\n",
    "    if t in _exr_qd_splitter:\n",
    "        %timeit _exr_np_low_dd_mul(a, b, mab, type_x=t)\n",
    "    %timeit _exr_ratio_fma(a, b, mab)\n",
    "    if t != np.longdouble:\n",
    "        %timeit _exr_math_low_dd_mul(a, b, mab)\n",
    "print('Хорь')"
   ]
  },
  {
   "cell_type": "code",
   "execution_count": null,
   "id": "b5b52ace-54da-4afc-aa9d-9de3875ee3cf",
   "metadata": {},
   "outputs": [],
   "source": []
  },
  {
   "cell_type": "code",
   "execution_count": null,
   "id": "33b3137b-3669-4129-8a34-7b66ebec400d",
   "metadata": {},
   "outputs": [],
   "source": [
    "cnt = 0\n",
    "# minx = np.float16(0.25)  # np.float16(0)\n",
    "# maxx = np.float16(4)  # np.float16(1008.0)\n",
    "minx = np.float16(2)  # np.float16(0)\n",
    "maxx = np.float16(4)  # np.float16(1008.0)\n",
    "x0 = minx\n",
    "while x0 < maxx:\n",
    "    for x in [x0, -x0]:\n",
    "        split(x, type(x))\n",
    "    x0 = np.nextafter(x0, np.inf)\n",
    "    cnt += 1\n",
    "cntx0 = cnt\n",
    "print(cntx0)"
   ]
  },
  {
   "cell_type": "code",
   "execution_count": null,
   "id": "446f9db1-607b-4081-aeda-1ac05f849467",
   "metadata": {},
   "outputs": [],
   "source": [
    "import tqdm "
   ]
  },
  {
   "cell_type": "code",
   "execution_count": null,
   "id": "231e15c2-a8ed-4475-8ac5-c4158fdc6fc4",
   "metadata": {},
   "outputs": [],
   "source": [
    "cnt = 0\n",
    "x0 = minx\n",
    "type_x = type(x)\n",
    "with tqdm.tqdm(total=cntx0) as pbar:\n",
    "    while x0 < maxx:\n",
    "        y0 = minx\n",
    "        while y0 < maxx:\n",
    "            z0 = minx\n",
    "            while z0 < maxx:\n",
    "                # for x, y in [(x0, y0), (x0, -y0), (-x0, y0)]:\n",
    "                x, y, z = x0, y0, z0\n",
    "                xyl = fma_nofma(x, y, z, type_x=type_x)\n",
    "                #assert xyl == type_x(math.fma(x, y, z))\n",
    "                if xyl != type_x(math.fma(x, y, z)):\n",
    "                    print(f\"{x=}, {y=}, {z=}, {xyl=}\")\n",
    "                    break\n",
    "                # xyh = x*y\n",
    "                # xyl = _exr_np_low_dd_mul(x, y, -xyh, type_x=type_x)\n",
    "                # assert xyl == type_x(math.fma(x, y, -xyh))\n",
    "                # xyh, xyl = two_prod(x, y, type_x=type_x)\n",
    "                # assert type_x == type(xyh) and type_x == type(xyl)\n",
    "                # assert xyh == xyh + xyl  and  abs(xyl) < np.spacing(xyh)\n",
    "                # assert float(xyh) + float(xyl) == float(x)*float(y)\n",
    "                z0 = np.nextafter(z0, np.inf)\n",
    "                cnt += 1\n",
    "            y0 = np.nextafter(y0, np.inf)\n",
    "        # assert type_x == type(xyh) and type_x == type(xyl)\n",
    "        x0 = np.nextafter(x0, np.inf)\n",
    "        pbar.update()\n",
    "print(cnt)"
   ]
  },
  {
   "cell_type": "code",
   "execution_count": null,
   "id": "718f29b4-6fa9-4e25-8fbd-4433df0ab68c",
   "metadata": {},
   "outputs": [],
   "source": [
    "x, y, z, fma_nofma(x, y, z, type_x=type_x), type_x(math.fma(x, y, z)), math.fma(x, y, z), type_x(float(x)*float(y) + float(z))"
   ]
  },
  {
   "cell_type": "code",
   "execution_count": null,
   "id": "7944aaff-b0c0-4644-92e8-3c7f0a82567b",
   "metadata": {},
   "outputs": [],
   "source": [
    "_two_prod(np.float16(0.5083), np.float16(0.6177), type_x=type_x)"
   ]
  },
  {
   "cell_type": "code",
   "execution_count": null,
   "id": "9b3a47a7-7e8d-4403-a56b-91bb758063aa",
   "metadata": {},
   "outputs": [],
   "source": [
    "np.spacing(np.float16(0.314)), np.spacing(np.spacing(np.float16(0.314)))"
   ]
  },
  {
   "cell_type": "code",
   "execution_count": null,
   "id": "fa0e6166-a4fa-43b9-997b-db10e4c59775",
   "metadata": {},
   "outputs": [],
   "source": [
    "mh, ml = _two_prod(x, y, type_x=type_x)\n",
    "mh, ml, (float(x)*float(y) - (float(mh) + float(ml)))"
   ]
  },
  {
   "cell_type": "code",
   "execution_count": null,
   "id": "1b9d1460-fc8c-409b-a622-07f34d842101",
   "metadata": {},
   "outputs": [],
   "source": [
    "fh, fl = _two_sum(z, mh)\n",
    "fh, fl, float(fh) + float(fl), type_x(float(fh) + float(fl)), type_x(float(fh) + float(fl) + float(ml))"
   ]
  },
  {
   "cell_type": "code",
   "execution_count": null,
   "id": "12e9b287-8774-491d-b701-00963f8644c6",
   "metadata": {},
   "outputs": [],
   "source": [
    "float(fl + ml), float(fl) + float(ml), type_x(float(fl) + float(ml))"
   ]
  },
  {
   "cell_type": "code",
   "execution_count": null,
   "id": "a3205fa2-deb0-439b-81c7-c6d04739ed48",
   "metadata": {},
   "outputs": [],
   "source": [
    "fl += ml\n",
    "fh, fl"
   ]
  },
  {
   "cell_type": "code",
   "execution_count": null,
   "id": "ef7179e1-d9e8-4ab1-b51c-5e06a389befc",
   "metadata": {},
   "outputs": [],
   "source": [
    "fh, fl = _two_sum_quick(fh, fl)\n",
    "fh, fl"
   ]
  },
  {
   "cell_type": "code",
   "execution_count": null,
   "id": "0324a545-5e8b-46d3-9d08-b4c637a99fa0",
   "metadata": {},
   "outputs": [],
   "source": [
    "0.2505 + 2.4e-07 + float(z)"
   ]
  },
  {
   "cell_type": "code",
   "execution_count": null,
   "id": "90eb9627-da0d-4c9d-a6d0-9cd044f89e9b",
   "metadata": {},
   "outputs": [],
   "source": [
    "x, y, xyh, xyl, abs(xyl)/np.spacing(xyh)"
   ]
  },
  {
   "cell_type": "code",
   "execution_count": null,
   "id": "e9398262-252f-4235-a63a-36959b902923",
   "metadata": {},
   "outputs": [],
   "source": [
    "xyh, xyh + xyl "
   ]
  },
  {
   "cell_type": "code",
   "execution_count": null,
   "id": "07789890-6bde-404d-b246-c70fdaebb63a",
   "metadata": {},
   "outputs": [],
   "source": [
    "(float(xyh) - float(xyl)) - float(x)*float(y)"
   ]
  },
  {
   "cell_type": "code",
   "execution_count": null,
   "id": "ffde504d-d514-4fa6-a603-7ae0a24c30e5",
   "metadata": {},
   "outputs": [],
   "source": []
  },
  {
   "cell_type": "code",
   "execution_count": null,
   "id": "a3dc3e34-e2f9-4d46-87ac-5a659d0397cc",
   "metadata": {},
   "outputs": [],
   "source": [
    "xyl, type_x(math.fma(x, y, -xyh))"
   ]
  },
  {
   "cell_type": "code",
   "execution_count": null,
   "id": "f84f9079-b931-455e-89b4-541b123b248b",
   "metadata": {},
   "outputs": [],
   "source": [
    "_exr_np_low_dd_mul(x, y, -xyh, type_x=type_x)"
   ]
  },
  {
   "cell_type": "code",
   "execution_count": null,
   "id": "3ba916a7-acdd-46d9-92fb-e3442d0cec4e",
   "metadata": {},
   "outputs": [],
   "source": [
    "_exr_int_sw = dict()  # Таблица функций целого округления\n",
    "_exr_v0r_round_accepted_types = (float,  # decimal.Decimal, fractions.Fraction,\n",
    "                                 np.half, np.single, np.double)\n",
    "_exr_v0r_np_domain_types = (np.ndarray, _exr_dr_float128_t)\n",
    "_exr_v0r_ext_types = {np.half: np.single, np.single: np.double}\n",
    "# Методы округления для которых гарантируется определённый порядок\n",
    "_exr_v0r_strict_roundings = set((decimal.ROUND_CEILING, decimal.ROUND_DOWN, \n",
    "                                 decimal.ROUND_FLOOR, decimal.ROUND_UP))\n",
    "\n",
    "def exr_v0_round(x, ndigits=None, fmt_out=None, \n",
    "                 rounding=decimal.ROUND_HALF_UP):\n",
    "    type_x = type(x)\n",
    "    if type_x == np.ndarray:\n",
    "        type_x = x.dtype.type\n",
    "        if not x.shape:\n",
    "            x = type_x(x)\n",
    "    if (rounding == decimal.ROUND_HALF_UP and fmt_out != False and \n",
    "        isinstance(x, _exr_v0r_round_accepted_types)):\n",
    "        return round(x, ndigits=ndigits)\n",
    "    domain = np if isinstance(x, _exr_v0r_np_domain_types) else math\n",
    "    round_int = _exr_int_sw[rounding]\n",
    "    if ndigits is None:\n",
    "        return round_int(x, domain=domain)\n",
    "    if not math.isfinite(x):\n",
    "        return x\n",
    "    if ndigits <= 0:\n",
    "        q = type_x(10**-ndigits)\n",
    "        return round_int(x/q, domain=domain)*q\n",
    "    q = type_x(10**ndigits)\n",
    "    if fmt_out is None  and  roundings not in _exr_v0r_strict_roundings:\n",
    "        # В принципе, для обеспечения гарантии упорядочености, можно было бы\n",
    "        # использовать:\n",
    "        # xf, xi = modf(x)\n",
    "        # return (xi*q + round_int(xf*q, domain=domain))/q\n",
    "        # \n",
    "        # Что увеличило бы точность, как при больших x, так и для \n",
    "        # ndigits <= 8, но fma() использует столько же сложений и \n",
    "        # умножений, и делает это немного быстрее, кроме того обеспечивает \n",
    "        # абсолютно точный результат.\n",
    "\n",
    "        return round_int(x*q, domain=domain)/q\n",
    "    if domain == math:\n",
    "        # two_product(x, q)\n",
    "        xqh = x*q\n",
    "        xql = _exr_math_low_dd_mul(x, q, -xq)  # math.fma(x, q, -xq)\n",
    "        assert xqh = xqh + xql  and  abs(xql) < 0.5*math.ulp(xqh)\n",
    "        if fmt_out == False:\n",
    "            # xql сравним с (q/2)*math.ulp(x) <= math.ulp(xq)\n",
    "            xql += math.copysign((q/2)*math.ulp(x), x)\n",
    "            # two_sum_quick\n",
    "            t = xqh\n",
    "            xqh += xql\n",
    "            xql = xql - (xqh - t)\n",
    "            assert xqh = xqh + xql  and  abs(xql) < 0.5*math.ulp(xqh)\n",
    "        rxq = round_int(xqh)\n",
    "        if rxq == xq:\n",
    "            rxq += round_int(xql)\n",
    "        return rxq/q\n",
    "    ext_t = _exr_v0r_ext_types.get(type_x)\n",
    "    if ext_t is None:\n",
    "        # two_product(x, q)\n",
    "        xqh = x*q\n",
    "        xql = _exr_np_low_dd_mul(x, q, -xq, type_x=type_x)  # Грядущий np.fma(x, q, -xq)\n",
    "        np.testing.assert_array_equal(xqh, xqh + xql)\n",
    "        np.testing.assert_array_less(xql, 0.5*np.spacing(xqh))\n",
    "        if fmt_out == False:\n",
    "            # xql сравним с (q/2)*math.ulp(x) <= math.ulp(xq)\n",
    "            xql += np.copysign((q/2)*np.spacing(x), x)\n",
    "            # two_sum_quick\n",
    "            t = xqh\n",
    "            xqh += xql\n",
    "            xql = xql - (xqh - t)\n",
    "            np.testing.assert_array_equal(xqh, xqh + xql)\n",
    "            np.testing.assert_array_less(xql, 0.5*np.spacing(xqh))\n",
    "        rxq = round_int(xqh, domain=np)\n",
    "        return np.where(rxq == xq, rxq + round_int(xql, domain=np), rxq)/q\n",
    "    # Для np.half, np.single и массивов на их основе\n",
    "    ex = ext_t(x)\n",
    "    if fmt_out == False:\n",
    "        ex += np.copysign((q/2)*np.spacing(x), x)\n",
    "    return round_int(x*q, domain=domain)/q\n"
   ]
  },
  {
   "cell_type": "code",
   "execution_count": null,
   "id": "baa5ddf3-62ab-452f-8638-91927fc7723c",
   "metadata": {},
   "outputs": [],
   "source": [
    "x = {3: 4}\n",
    "x.get(3) is None"
   ]
  },
  {
   "cell_type": "code",
   "execution_count": null,
   "id": "5e36dcb9-09a0-447b-899c-1a19b0688827",
   "metadata": {},
   "outputs": [],
   "source": [
    "decimal.ROUND_HALF_EVEN not in _exr_v0r_strict_roundings"
   ]
  },
  {
   "cell_type": "code",
   "execution_count": null,
   "id": "10df9e7e-db34-4ca4-aa34-1c8084c3a29b",
   "metadata": {},
   "outputs": [],
   "source": [
    "x = np.array(np.single(1.23))\n",
    "x.dtype, x.dtype.type"
   ]
  },
  {
   "cell_type": "code",
   "execution_count": null,
   "id": "ce5bdd13-75ac-4f8c-b3e5-0f5e14114739",
   "metadata": {},
   "outputs": [],
   "source": [
    "f = 1.23\n",
    "%timeit round(f)\n",
    "%timeit round(float(f))\n",
    "%timeit round(float(x))"
   ]
  },
  {
   "cell_type": "code",
   "execution_count": null,
   "id": "7d1bfab5-4c39-40b8-b29d-fa0ec251acab",
   "metadata": {},
   "outputs": [],
   "source": [
    "bool(x.shape)"
   ]
  },
  {
   "cell_type": "code",
   "execution_count": null,
   "id": "8b47e352-01d7-468f-900d-dc4a35988e05",
   "metadata": {},
   "outputs": [],
   "source": []
  },
  {
   "cell_type": "code",
   "execution_count": null,
   "id": "8e877520-4684-4c3f-8c59-9c26216b124d",
   "metadata": {},
   "outputs": [],
   "source": [
    "        # \n",
    "        # Причины использования modf() или почему не стоит \n",
    "        # использовать math.trunc(x*q)/q\n",
    "        # q = 100\n",
    "        # for x in [8589934591.059999, 2147483647.8799999, 536870911.96999997,\n",
    "        #           268435455.76999998, 67108863.949999996]:\n",
    "        #     txqq = math.trunc(x*q)/q\n",
    "        #     xqq = x*q/q\n",
    "        #     print(f\"{txqq < x=} {x=} {txqq=} {xqq=}\")\n",
    "        # \n",
    "        # TODO: Обосновать, что для xf < 1, math.trunc(xf*q)/q <= xf\n",
    "        # или это я просто не нашёл контрпримера?\n",
    "        #\n",
    "        # Проблема xi + math.trunc(xf*q)/q, для n=10, q=10**10\n",
    "        # for n, x, hm in [(10, 524287.9999291525, 524287.9999291524),\n",
    "        #                  (10, 262143.99998263217, 262143.9999826321)]:\n",
    "        #     q = 10**n\n",
    "        #     xf, xi = math.modf(x)\n",
    "        #     r = xi + math.trunc(xf*q)/q\n",
    "        #     print(math.trunc(xf*q), math.trunc(xf*q)/q, r)\n",
    "        #     print(math.modf(r))\n",
    "        #     print(math.modf(hm))\n",
    "        #     print((x - hm)/math.ulp(hm))\n",
    "        #\n",
    "        # TODO: гипотеза, что для ndigits <= sys.float_info.dig//2 \n",
    "        # такого быть не может \n",
    "        #\n",
    "        # np.round(56294995342131.5, 3)\n"
   ]
  },
  {
   "cell_type": "code",
   "execution_count": null,
   "id": "e62dd35a-baad-43f7-a03a-9ee671e53b66",
   "metadata": {},
   "outputs": [],
   "source": [
    "x=67108863.949999996; math.trunc(x*100)/100 > x"
   ]
  },
  {
   "cell_type": "code",
   "execution_count": null,
   "id": "992f315e-ed67-4b72-b066-2f6e0809ee03",
   "metadata": {},
   "outputs": [],
   "source": [
    "x=67108863.949999996\n",
    "print(f\"{x=}; {math.trunc(x*100)/100 > x =}\")"
   ]
  },
  {
   "cell_type": "code",
   "execution_count": null,
   "id": "fcb08249-af48-41a2-8624-7f7e1f7c8518",
   "metadata": {},
   "outputs": [],
   "source": [
    "q = 100\n",
    "for x in [8589934591.059999, 2147483647.8799999, 536870911.96999997,\n",
    "          268435455.76999998, 67108863.949999996]:\n",
    "    txqq = math.trunc(x*q)/q\n",
    "    xqq = x*q/q\n",
    "    print(f\"{txqq < x=} {x=} {txqq=} {xqq=}\")\n"
   ]
  },
  {
   "cell_type": "code",
   "execution_count": null,
   "id": "b26dbe6b-0d56-48b9-9564-e91af11e5883",
   "metadata": {},
   "outputs": [],
   "source": []
  },
  {
   "cell_type": "code",
   "execution_count": null,
   "id": "d79ba44e-7da9-48d5-8039-86ba32337302",
   "metadata": {},
   "outputs": [],
   "source": [
    "import math \n",
    "\n",
    "def exr_ceil_base(x):\n",
    "    \"\"\"\n",
    "    Базовая реализация округления к большему, аналогичного `math.ceil()`, \n",
    "    IEEE 754: roundTowardNegative, ROUND_CEILING.\n",
    "    \"\"\"\n",
    "    return x - x%-1.\n",
    "    # Варианты:\n",
    "    # x - x%-1.\n",
    "    # -(x//-1.)\n",
    "    # float(math.ceil(x))\n",
    "\n",
    "def exr_trunc_base(x):\n",
    "    \"\"\"\n",
    "    Базовая реализация округления к меньшему по модулю, аналогична \n",
    "    `math.trunc()` и `int()`, IEEE 754: roundTowardZero (усечение к 0);, \n",
    "    ROUND_DOWN.\n",
    "    \"\"\"\n",
    "    return x - math.fmod(x, 1.)\n",
    "    # Варианты:\n",
    "    # x - math.fmod(x, 1.)\n",
    "    # float(math.trunc(x))\n",
    "    # math.modf(x)[1]\n",
    "    # x - math.modf(x)[0]\n",
    "\n",
    "def exr_floor_base(x):\n",
    "    \"\"\"\n",
    "    Базовая реализация округление к меньшему, аналогична `math.floor()`, \n",
    "    IEEE 754: roundTowardNegative, ROUND_FLOOR.\n",
    "    \"\"\"\n",
    "    return x//1.\n",
    "    # Варианты:\n",
    "    # x//1.\n",
    "    # x - x%1.\n",
    "    # float(math.floor(x))\n",
    "    # divmod(x, 1.)[0]\n",
    "\n",
    "def exr_sql_round_base(x):\n",
    "    \"\"\"\n",
    "    Базовая реализация округления до ближашего большего по модулю, \n",
    "    аналогична функции C/C++/SQL/... `round()`, IEEE 754: roundTiesToAway \n",
    "    (математическое округление), ROUND_HALF_UP.\n",
    "    \"\"\"\n",
    "    return float(math.trunc(x + math.copysign(0.5, x)))\n",
    "    # float(math.trunc(x + math.copysign(0.5, x)))\n",
    "    # xf, xi = math.modf(x); xi + ((0.5 <= xf) if 0 <= xf else -(0.5 <= -xf))\n",
    "    # xf, xi = math.modf(x); xi + math.copysign((0.5 <= abs(xf)), xf)\n",
    "\n",
    "def exr_half_down_base(x):\n",
    "    \"\"\"\n",
    "    Базовая реализация округления до ближашего меньшего по модулю, \n",
    "    ROUND_HALF_DOWN.\n",
    "    \"\"\"        \n",
    "    return float(math.ceil(x - 0.5)) if 0 <= x else float(math.floor(x + 0.5))\n",
    "    # Варианты:\n",
    "    # float(math.ceil(x - 0.5)) if 0 <= x else float(math.floor(x + 0.5))\n",
    "\n",
    "\n",
    "\n",
    "\"\"\"\n",
    "        ROUND_HALF_DOWN - округление до ближашего меньшего по модулю, \n",
    "                          широкораспространённых аналогов не имеет, \n",
    "                          в IEEE 754 не входит;\n",
    "        ROUND_UP        - округление к большему по модулю, \n",
    "                          широкораспространённых аналогов не имеет, \n",
    "                          в IEEE 754 не входит;\n",
    "        ROUND_05UP      - округление к меньшему по модулю, если последняя \n",
    "                          цифра результата не получается 0 или 5, в этом \n",
    "                          случае округление к большему по модулю,\n",
    "                          широкораспространённых аналогов не имеет, \n",
    "                          в IEEE 754 не входит;\n",
    "\"\"\"\n",
    "for f, r in [(exr_ceil_base, decimal.ROUND_CEILING),\n",
    "             (exr_trunc_base, decimal.ROUND_DOWN),\n",
    "             (exr_floor_base, decimal.ROUND_FLOOR),\n",
    "             (exr_sql_round_base, decimal.ROUND_HALF_UP), \n",
    "             (exr_half_down_base, decimal.ROUND_HALF_DOWN),\n",
    "             #(exr_up_int, decimal.ROUND_UP),\n",
    "             #(exr_05up_int, decimal.ROUND_05UP),\n",
    "            ]:\n",
    "    for x in np.arange(-2., 2., 0.25):\n",
    "        assert f(x) == exr_decimal_round(x, rounding=r), f\"{f=} {r=} {x=} {f(x)=}\"\n",
    "        for i in [-math.inf, math.inf]:\n",
    "            y = x\n",
    "            for _ in range(3):\n",
    "                y = math.nextafter(y, i)\n",
    "                assert f(x) == exr_decimal_round(x, rounding=r), f\"{f=} {r=} {x=} {f(x)=}\"\n",
    "print(\"Хорь\")"
   ]
  },
  {
   "cell_type": "code",
   "execution_count": null,
   "id": "532f7a29-64c5-4799-bffc-f4a9696a6cff",
   "metadata": {},
   "outputs": [],
   "source": [
    "def exr_floor_base(x):\n",
    "    return x//1.\n",
    "\n",
    "def exr_sql_round_base(x):\n",
    "    return float(math.trunc(x + math.copysign(0.5, x)))\n",
    "\n",
    "def exr_floor_(x, ndigits=0):\n",
    "    if ndigits <= 0:\n",
    "        q = 10**(-ndigits)\n",
    "        return ((x/q)//1.)*q\n",
    "    q = 10**ndigits\n",
    "    return ((x*q)//1.)/q\n",
    "\n",
    "def exr_sql_round_(x, ndigits=0):\n",
    "    if ndigits <= 0:\n",
    "        q = 10**(-ndigits)\n",
    "        return math.trunc(x/q + math.copysign(0.5, x))*q\n",
    "    q = 10**ndigits\n",
    "    return float(math.trunc(x*q + math.copysign(0.5, x)))/q\n",
    "\n",
    "\n",
    "\n",
    "exr_sw = {decimal.ROUND_HALF_UP: exr_sql_round_base,\n",
    "          decimal.ROUND_FLOOR: exr_floor_base\n",
    "         }\n",
    "def exr_basetest(x, ndigits=0, rounding=decimal.ROUND_HALF_UP):\n",
    "    if ndigits <= 0:\n",
    "        q = 10**(-ndigits)\n",
    "        return exr_sw[rounding](x/q)*q\n",
    "    q = 10**ndigits\n",
    "    return exr_sw[rounding](x*q)/q\n"
   ]
  },
  {
   "cell_type": "code",
   "execution_count": null,
   "id": "a5b827eb-c80e-405a-a936-81ef22c36b4a",
   "metadata": {},
   "outputs": [],
   "source": [
    "%timeit exr_basetest(2.0115, 3, rounding=decimal.ROUND_HALF_UP)\n",
    "%timeit exr_sql_round_(2.0115, 3)"
   ]
  },
  {
   "cell_type": "code",
   "execution_count": null,
   "id": "15fc321b-5eea-4f96-88ac-a166f341663e",
   "metadata": {},
   "outputs": [],
   "source": [
    "%timeit exr_basetest(2.0115, 3, rounding=decimal.ROUND_FLOOR)\n",
    "%timeit exr_floor_(2.0115, 3)"
   ]
  },
  {
   "cell_type": "code",
   "execution_count": null,
   "id": "9c722264-e740-494a-86cb-5ccf08f2f582",
   "metadata": {},
   "outputs": [],
   "source": []
  },
  {
   "cell_type": "code",
   "execution_count": null,
   "id": "96fe925b-b779-4259-88c7-f44e7bcb90af",
   "metadata": {},
   "outputs": [],
   "source": []
  },
  {
   "cell_type": "code",
   "execution_count": null,
   "id": "6695007c-83a7-4101-b46e-a211391fa3c3",
   "metadata": {},
   "outputs": [],
   "source": [
    "x, f(x), exr_decimal_round(x, rounding=r)"
   ]
  },
  {
   "cell_type": "code",
   "execution_count": null,
   "id": "fb9ac0fd-00b4-48a0-a060-2746cd6a3d55",
   "metadata": {},
   "outputs": [],
   "source": [
    "divmod(x, 1.), x//1."
   ]
  },
  {
   "cell_type": "code",
   "execution_count": null,
   "id": "27d3473c-5ccf-472c-9b8a-58b127ab2ce6",
   "metadata": {},
   "outputs": [],
   "source": [
    "x = -3.75\n",
    "math.modf(x), divmod(x, 1), x - math.ceil(x)"
   ]
  },
  {
   "cell_type": "code",
   "execution_count": null,
   "id": "92ff2b3d-eb37-442a-a699-5262f37424af",
   "metadata": {},
   "outputs": [],
   "source": [
    "np.round(56294995342131.5, 3)"
   ]
  },
  {
   "cell_type": "code",
   "execution_count": null,
   "id": "aea4baa7-f1b3-4376-9560-fe24f4ed3bda",
   "metadata": {},
   "outputs": [],
   "source": [
    "xf, xi = np.modf(56294995342131.5)\n",
    "xi + np.round(xf, 3)"
   ]
  },
  {
   "cell_type": "code",
   "execution_count": null,
   "id": "2932ae92-8e55-4222-b910-b72ae7adf1a1",
   "metadata": {},
   "outputs": [],
   "source": [
    "x = 56294995342131.5\n",
    "q = 10**3\n",
    "math.ceil(x*q)/q"
   ]
  },
  {
   "cell_type": "code",
   "execution_count": null,
   "id": "858cad66-9c29-4d43-9f86-e36c9c74a6eb",
   "metadata": {},
   "outputs": [],
   "source": [
    "np.log2(x) + np.log2(q)"
   ]
  },
  {
   "cell_type": "code",
   "execution_count": null,
   "id": "e3886756-a58d-46dd-928b-dd9630122e2e",
   "metadata": {},
   "outputs": [],
   "source": [
    "np.round?"
   ]
  },
  {
   "cell_type": "code",
   "execution_count": null,
   "id": "63280d54-ea90-45a6-8f38-15f327cf323d",
   "metadata": {},
   "outputs": [],
   "source": [
    "np.fix([2.1, 2.9, -2.1, -2.9])"
   ]
  },
  {
   "cell_type": "code",
   "execution_count": null,
   "id": "5288058f-6d1e-4158-8d5e-9c9baef5ee8b",
   "metadata": {},
   "outputs": [],
   "source": [
    "np.trunc([2.1, 2.9, -2.1, -2.9])"
   ]
  },
  {
   "cell_type": "code",
   "execution_count": null,
   "id": "a8a02480-d8b7-4616-a3d1-bae2b1d77f25",
   "metadata": {},
   "outputs": [],
   "source": [
    "x = 2.654\n",
    "\n",
    "%timeit x - math.fmod(x, 1.)\n",
    "%timeit math.modf(x)[1]\n",
    "%timeit float(math.trunc(x))\n",
    "%timeit x - math.modf(x)[0]\n"
   ]
  },
  {
   "cell_type": "code",
   "execution_count": null,
   "id": "038deb07-06b9-4030-9f30-68947ca596e7",
   "metadata": {},
   "outputs": [],
   "source": [
    "%timeit x - math.modf(x)[0]\n",
    "%timeit float(math.trunc(x))\n",
    "%timeit x - math.fmod(x, 1.)"
   ]
  },
  {
   "cell_type": "code",
   "execution_count": null,
   "id": "d03e4dca-4785-4ad3-91d4-21791fe4bdc4",
   "metadata": {},
   "outputs": [],
   "source": [
    "math.modf(x)"
   ]
  },
  {
   "cell_type": "code",
   "execution_count": null,
   "id": "258e8ec1-43cc-4f4a-bf24-b72d63177aec",
   "metadata": {},
   "outputs": [],
   "source": [
    "import dis\n",
    "dis.dis(lambda x: x//1.)"
   ]
  },
  {
   "cell_type": "code",
   "execution_count": null,
   "id": "4aded769-3901-43b2-84b8-5c895a395991",
   "metadata": {},
   "outputs": [],
   "source": [
    "dis.dis(lambda x: (-(x//-1.)))"
   ]
  },
  {
   "cell_type": "code",
   "execution_count": null,
   "id": "fab5f0b5-4f82-453e-b9b8-a8d40e83bebc",
   "metadata": {},
   "outputs": [],
   "source": [
    "x = 2.654\n",
    "\n",
    "%timeit x - x%-1.\n",
    "%timeit (-(x//-1.))\n",
    "%timeit float(math.ceil(x))\n",
    "%timeit x - math.remainder(x, -1.)\n"
   ]
  },
  {
   "cell_type": "code",
   "execution_count": null,
   "id": "ba7ce2d8-7668-461f-a4c7-411a55faf1af",
   "metadata": {},
   "outputs": [],
   "source": []
  },
  {
   "cell_type": "code",
   "execution_count": null,
   "id": "2370fcf7-ece4-4d68-9984-b0847fbff63e",
   "metadata": {},
   "outputs": [],
   "source": []
  },
  {
   "cell_type": "code",
   "execution_count": null,
   "id": "3d2733b6-d8d4-4ab6-9a00-f81faa5fa132",
   "metadata": {},
   "outputs": [],
   "source": [
    "xf, xi = math.modf(x)\n",
    "xf, xi"
   ]
  },
  {
   "cell_type": "code",
   "execution_count": null,
   "id": "20dafbe4-f73c-4123-8258-f8961e175ee3",
   "metadata": {},
   "outputs": [],
   "source": [
    "x = 2.654\n",
    "%timeit math.modf(x)[1]\n",
    "%timeit x//1.\n",
    "%timeit float(math.trunc(x))"
   ]
  },
  {
   "cell_type": "code",
   "execution_count": null,
   "id": "c10d2a24-1f15-48d1-9430-e0b0d680701c",
   "metadata": {},
   "outputs": [],
   "source": [
    "x = 2.654\n",
    "%timeit x//1. if 0 <= x else x//-1.\n",
    "%timeit float(math.trunc(x)) if math.isfinite(x) else x"
   ]
  },
  {
   "cell_type": "code",
   "execution_count": null,
   "id": "23481f24-1631-48cd-bd3e-886ea6eb4877",
   "metadata": {},
   "outputs": [],
   "source": [
    "math.isfinite(x)"
   ]
  },
  {
   "cell_type": "code",
   "execution_count": null,
   "id": "707d7fa1-d703-4825-8fde-16f54638250f",
   "metadata": {},
   "outputs": [],
   "source": [
    "t = 1.9\n",
    "exr_decimal_round(t, rounding=r), exr_05up_int(t)"
   ]
  },
  {
   "cell_type": "code",
   "execution_count": null,
   "id": "1316439e-d033-470e-aecd-78e0a8d8da76",
   "metadata": {},
   "outputs": [],
   "source": [
    "np.arange(-2., 2., 0.2)"
   ]
  },
  {
   "cell_type": "code",
   "execution_count": null,
   "id": "d1dd18bf-27e3-41f6-81ae-4ea21acb35cb",
   "metadata": {},
   "outputs": [],
   "source": [
    "x = np.arange(-2., 2., 0.25)\n",
    "len(x), x[len(x)//2]"
   ]
  },
  {
   "cell_type": "code",
   "execution_count": null,
   "id": "1850e43c-9197-4d21-917c-641938bb7baf",
   "metadata": {},
   "outputs": [],
   "source": []
  },
  {
   "cell_type": "code",
   "execution_count": null,
   "id": "e9df3a04-e21c-4ff2-ba19-1394d759af6e",
   "metadata": {},
   "outputs": [],
   "source": [
    "import math\n",
    "math.modf(2.1)"
   ]
  },
  {
   "cell_type": "code",
   "execution_count": null,
   "id": "0181f300-13de-4aa0-9fcc-f40c216705d0",
   "metadata": {},
   "outputs": [],
   "source": [
    "n = 17\n",
    "x = np.array(np.longdouble(\"0.\" + \"2\"*n + \"5\"))\n",
    "print(x)\n",
    "print(exr_decimal_round(x, n))\n",
    "print(exr_decimal_round(x, n, str_inp=True))\n",
    "print(exr_decimal_round(x, n, str_inp=False))"
   ]
  },
  {
   "cell_type": "code",
   "execution_count": null,
   "id": "cfbacac1-912d-4de5-ba51-89cc49ff37e6",
   "metadata": {},
   "outputs": [],
   "source": [
    "repr(x)"
   ]
  },
  {
   "cell_type": "code",
   "execution_count": null,
   "id": "bda8d61c-bfff-4dcb-a76f-b8dcefda3845",
   "metadata": {},
   "outputs": [],
   "source": [
    "x = (np.double(\"0.\" + \"2\"*n + \"5\"))\n",
    "print(x)\n",
    "print(exr_decimal_round(x, n))\n",
    "print(exr_decimal_round(x, n, str_inp=True))\n",
    "print(exr_decimal_round(x, n, str_inp=False))"
   ]
  },
  {
   "cell_type": "code",
   "execution_count": null,
   "id": "9f9ef710-3557-4cae-9610-9d689abf2a4b",
   "metadata": {},
   "outputs": [],
   "source": [
    "exr_decimal_round(np.longdouble(5)/np.longdouble(9), 18, str_inp=False)"
   ]
  },
  {
   "cell_type": "code",
   "execution_count": null,
   "id": "3a20ee33-54de-415b-aab4-6aa5cb35b2be",
   "metadata": {},
   "outputs": [],
   "source": [
    "np.longdouble(5)/np.longdouble(9)"
   ]
  },
  {
   "cell_type": "code",
   "execution_count": null,
   "id": "186fd785-45ef-4d75-8556-02a204f79b6e",
   "metadata": {},
   "outputs": [],
   "source": [
    "decimal.Decimal(str(np.longdouble(5)/np.longdouble(9)))"
   ]
  },
  {
   "cell_type": "code",
   "execution_count": null,
   "id": "1787eae2-a257-47e4-8547-9b03d4ab9034",
   "metadata": {},
   "outputs": [],
   "source": [
    "nld59 = np.longdouble(5)/np.longdouble(9)\n",
    "snld59 = str(nld59)\n",
    "np.longdouble(snld59) - nld59"
   ]
  },
  {
   "cell_type": "code",
   "execution_count": null,
   "id": "1a506e21-44ed-482f-a8a9-54b7668268f8",
   "metadata": {},
   "outputs": [],
   "source": [
    "assert str(decimal.Decimal(snld59)) == snld59\n",
    "dsnld59 = decimal.Decimal(snld59)\n",
    "dsnld59"
   ]
  },
  {
   "cell_type": "code",
   "execution_count": null,
   "id": "896adb47-a8cf-4328-acd4-73ea8dc28c60",
   "metadata": {},
   "outputs": [],
   "source": [
    "inld59 = nld59.as_integer_ratio()\n",
    "dinld59 = decimal.Decimal(inld59[0])/decimal.Decimal(inld59[1])\n",
    "dinld59, dinld59 - dsnld59, (np.nextafter(nld59, np.inf) - nld59)/2"
   ]
  },
  {
   "cell_type": "code",
   "execution_count": null,
   "id": "88947500-d7ff-47fb-8ae3-0153a542d35f",
   "metadata": {},
   "outputs": [],
   "source": [
    "np.longdouble(str(dinld59)), np.longdouble(str(dsnld59))"
   ]
  },
  {
   "cell_type": "code",
   "execution_count": null,
   "id": "43f7d422-a7c8-4814-85b0-72369352cc8f",
   "metadata": {},
   "outputs": [],
   "source": []
  },
  {
   "cell_type": "code",
   "execution_count": null,
   "id": "ef2ec92d-63b5-426c-ae03-c5e2b07298ff",
   "metadata": {},
   "outputs": [],
   "source": [
    "exr_decimal_to_longdouble(exr_decimal_from_longdouble(nld59))"
   ]
  },
  {
   "cell_type": "code",
   "execution_count": null,
   "id": "89f3f6a5-03a4-478a-8cfd-294cd5e66be7",
   "metadata": {},
   "outputs": [],
   "source": [
    "nld59.__format__(\".18g\"), nld59.__repr__()"
   ]
  },
  {
   "cell_type": "code",
   "execution_count": null,
   "id": "980eacda-4dbd-4595-9b3e-78b685c1e135",
   "metadata": {},
   "outputs": [],
   "source": [
    "\n",
    "with np.printoptions(precision=8):\n",
    "    print(np.array([nld59]))"
   ]
  },
  {
   "cell_type": "code",
   "execution_count": null,
   "id": "15803ada-1008-43cf-bd1d-045e112b22bc",
   "metadata": {},
   "outputs": [],
   "source": [
    "nld59.as_integer_ratio()"
   ]
  },
  {
   "cell_type": "code",
   "execution_count": null,
   "id": "8962f4af-bcc1-405a-b346-97b9fbd39b9e",
   "metadata": {},
   "outputs": [],
   "source": [
    "decimal.Decimal(10248191152060862009)/decimal.Decimal(18446744073709551616)"
   ]
  },
  {
   "cell_type": "code",
   "execution_count": null,
   "id": "98176d04-5ed5-4643-9c9e-1027ee2c6a5a",
   "metadata": {},
   "outputs": [],
   "source": []
  },
  {
   "cell_type": "code",
   "execution_count": null,
   "id": "4f708375-59ea-4a6c-892e-aa5004788af0",
   "metadata": {},
   "outputs": [],
   "source": [
    "f = 0.3\n",
    "nd = np.double(0.3)\n",
    "ad = np.array(nd)\n",
    "nld = np.longdouble(0.3)\n",
    "ald = np.array(nld)\n",
    "type(f), type(nd), type(ad), type(nld), type(ald)"
   ]
  },
  {
   "cell_type": "code",
   "execution_count": null,
   "id": "63c2c756-9f54-4178-8e30-c41f338c3347",
   "metadata": {},
   "outputs": [],
   "source": [
    "np.isreal(f), np.isreal(nd), np.isreal(ad), np.isreal(nld), np.isreal(ald)"
   ]
  },
  {
   "cell_type": "code",
   "execution_count": null,
   "id": "089b3d73-b32e-4983-8f36-d2c39555f714",
   "metadata": {},
   "outputs": [],
   "source": [
    "np_longdouble_type = np.longdouble\n",
    "np_longdouble_types = (np.longdouble, np.ndarray)\n",
    "x = nld\n",
    "%timeit isinstance(x, np_longdouble_type)\n",
    "%timeit isinstance(x, np_longdouble_type) or (isinstance(x, np.ndarray) and x.dtype == np_longdouble_type)\n",
    "%timeit isinstance(x, np_longdouble_types) and x.dtype == np_longdouble_type\n"
   ]
  },
  {
   "cell_type": "code",
   "execution_count": null,
   "id": "8c989ca6-6354-4ea7-b35a-b53a493ea477",
   "metadata": {},
   "outputs": [],
   "source": [
    "x = nd\n",
    "%timeit isinstance(x, np_longdouble_type)\n",
    "%timeit isinstance(x, np_longdouble_type) or (isinstance(x, np.ndarray) and x.dtype == np_longdouble_type)\n",
    "%timeit isinstance(x, np_longdouble_types) and x.dtype == np_longdouble_type"
   ]
  },
  {
   "cell_type": "code",
   "execution_count": null,
   "id": "6e1bb927-9b65-4ff2-bc3e-d2f341a3978f",
   "metadata": {},
   "outputs": [],
   "source": [
    "x = f\n",
    "%timeit isinstance(x, np_longdouble_type)\n",
    "%timeit isinstance(x, np_longdouble_type) or (isinstance(x, np.ndarray) and x.dtype == np_longdouble_type)\n",
    "%timeit isinstance(x, np_longdouble_types) and x.dtype == np_longdouble_type"
   ]
  },
  {
   "cell_type": "code",
   "execution_count": null,
   "id": "eb2768de-288d-426c-ae1c-7d36344b2a78",
   "metadata": {},
   "outputs": [],
   "source": [
    "%timeit np.finfo(f).bits\n",
    "%timeit np.finfo(f).nmant"
   ]
  },
  {
   "cell_type": "code",
   "execution_count": null,
   "id": "1695c9fd-6c92-474d-b6ea-b1e3870ed0e7",
   "metadata": {},
   "outputs": [],
   "source": [
    "tt = (np.float16, np.float32, np.ndarray)"
   ]
  },
  {
   "cell_type": "code",
   "execution_count": null,
   "id": "a714b16a-4bcb-4c37-abd7-06cbcfd49bef",
   "metadata": {},
   "outputs": [],
   "source": [
    "decimal_accepted_types = (float, np.double, decimal.Decimal, str)\n",
    "np_longdouble_type = np.longdouble\n",
    "np_longdouble_from = lambda ld: decimal.Decimal(str(ld))\n",
    "np_longdouble_to = lambda d: np.longdouble(str(d))\n",
    "\n",
    "def tcvt(x, ndigits=None, str_inp=None):\n",
    "    x_to = type(x)\n",
    "    if x_to == np.ndarray:\n",
    "        x_to = x.dtype.type\n",
    "        x = x_to(x)\n",
    "    if str_inp != False or ndigits <= 0:\n",
    "        pre_cvt_x = str(x)\n",
    "        if x_to == _exr_dr_float128_t:\n",
    "            x_to = exr_decimal_to_longdouble\n",
    "    elif isinstance(x, _exr_dr_decimal_accepted_types):\n",
    "        pre_cvt_x = x\n",
    "    elif x_to == _exr_dr_float128_t:\n",
    "        pre_cvt_x = exr_decimal_from_longdouble(x)\n",
    "        x_to = exr_decimal_to_longdouble\n",
    "    else:\n",
    "        pre_cvt_x = float(x)\n",
    "    return x_to(pre_cvt_x)\n",
    "\n",
    "def tcvt1(x, ndigits=None, str_inp=None):\n",
    "    x_to = type(x)\n",
    "    if x_to == np.ndarray:\n",
    "        x_to = x.dtype.type\n",
    "        x = x_to(x)\n",
    "    if str_inp != False or ndigits <= 0:\n",
    "        pre_cvt_x = str(x)\n",
    "        if x_to == _exr_dr_float128_t:\n",
    "            x_to = exr_decimal_to_longdouble\n",
    "    elif x_to in _exr_dr_decimal_accepted_types:\n",
    "        pre_cvt_x = x\n",
    "    elif x_to == _exr_dr_float128_t:\n",
    "        pre_cvt_x = exr_decimal_from_longdouble(x)\n",
    "        x_to = exr_decimal_to_longdouble\n",
    "    else:\n",
    "        pre_cvt_x = float(x)\n",
    "    return x_to(pre_cvt_x)\n",
    "\n",
    "# def tcvt2(x, ndigits=None, str_inp=None):\n",
    "#     if isinstance(x, np.ndarray):\n",
    "#         x = x.dtype.type(x)\n",
    "#     x_to = type(x)\n",
    "#     return x_to(x)\n",
    "\n",
    "ndigits = 2\n",
    "str_inp = False\n",
    "\n",
    "for t in (float, np.double, decimal.Decimal, str, np.half, np.longdouble,\n",
    "          lambda x: np.array(np.double(x))):\n",
    "    x = t(2.0115)\n",
    "    print(f\"    {t=}, {tcvt(x, ndigits=ndigits, str_inp=str_inp)=}\")\n",
    "    %timeit tcvt(x, ndigits=ndigits, str_inp=str_inp)\n",
    "    print(f\"    {t=}, {tcvt1(x, ndigits=ndigits, str_inp=str_inp)=}\")\n",
    "    %timeit tcvt1(x, ndigits=ndigits, str_inp=str_inp)\n",
    "    # print(f\"    {t=}, {tcvt1(x, ndigits=ndigits, str_inp=str_inp)=}\")\n",
    "    # %timeit tcvt2(x, ndigits=ndigits, str_inp=str_inp)\n",
    "print(\"Хорь\")"
   ]
  },
  {
   "cell_type": "code",
   "execution_count": null,
   "id": "0756bdca-c9e8-4229-bfdc-ab66c076f6db",
   "metadata": {},
   "outputs": [],
   "source": [
    "np.longdouble(decimal.Decimal(np.inf)) "
   ]
  },
  {
   "cell_type": "code",
   "execution_count": null,
   "id": "66a56833-8ffb-4f1b-89e8-08c7eafe890e",
   "metadata": {},
   "outputs": [],
   "source": [
    "x = np.longdouble(np.pi)\n",
    "l = np.ldexp(x, 32)\n",
    "m = x*(2**32)\n",
    "print(f\"{l == m=} {l=} {m=}\")\n",
    "%timeit l = np.ldexp(x, 32)\n",
    "%timeit m = x*(2**32)"
   ]
  },
  {
   "cell_type": "code",
   "execution_count": null,
   "id": "53a097d8-8e26-41d1-a2b6-5fc481b5d21a",
   "metadata": {},
   "outputs": [],
   "source": [
    "x = np.longdouble(np.pi)\n",
    "l = np.ldexp(x, -32)\n",
    "m = x/(2**32)\n",
    "print(f\"{l == m=} {l=} {m=}\")\n",
    "%timeit l = np.ldexp(x, -32)\n",
    "%timeit m = x/(2**32)"
   ]
  },
  {
   "cell_type": "code",
   "execution_count": null,
   "id": "c9be7676-22d3-4818-a1cb-0d295b3e41dc",
   "metadata": {},
   "outputs": [],
   "source": [
    "np.fix?"
   ]
  },
  {
   "cell_type": "code",
   "execution_count": null,
   "id": "96a7d88a-a885-4d08-8001-8833485bdaca",
   "metadata": {},
   "outputs": [],
   "source": [
    "tt = (float, np.double, decimal.Decimal, str)\n",
    "str_inp = None\n",
    "for t in (float, np.double, decimal.Decimal, str, np.half, np.longdouble):\n",
    "    x = 2.0115\n",
    "    cx = x if isinstance(x, tt) else float(x)\n",
    "    print(t, cx)\n",
    "    %timeit cx = x if str_inp != False or isinstance(x, tt) else float(x)"
   ]
  },
  {
   "cell_type": "code",
   "execution_count": null,
   "id": "19b880f9-db50-4c63-bdf1-17ee3a8c1c51",
   "metadata": {},
   "outputs": [],
   "source": [
    "import math\n",
    "\n",
    "def _exr_two_sum_quick(x, y):\n",
    "    r = x + y\n",
    "    e = y - (r - x)\n",
    "    return r, e\n",
    "\n",
    "def _exr_nofma_two_product(x, y):\n",
    "    def _two_product(x, y):\n",
    "        u = x*134217729.0\n",
    "        v = y*134217729.0\n",
    "        s = u - (u - x)\n",
    "        t = v - (v - y)\n",
    "        f = x - s\n",
    "        g = y - t\n",
    "        r = x*y\n",
    "        e = ((s*t - r) + s*g + f*t) + f*g\n",
    "        return r, e\n",
    "\n",
    "if 'fma' in math.__dict__  and  not _exr_debug_not_fma:\n",
    "    def _exr_fma_two_product(x, y):\n",
    "        r = x*y\n",
    "        e = math.fma(x, y, -r)\n",
    "        return r, e\n",
    "\n",
    "    "
   ]
  },
  {
   "cell_type": "code",
   "execution_count": null,
   "id": "a64b5a42-ddf1-4d4a-809a-ab9b2cb82253",
   "metadata": {},
   "outputs": [],
   "source": [
    "134217729.0 .hex()"
   ]
  },
  {
   "cell_type": "code",
   "execution_count": null,
   "id": "122b0c0d-1c6e-4a3e-bd79-e98e707dc772",
   "metadata": {},
   "outputs": [],
   "source": [
    "float.fromhex('0x1.0000002000000p+27')"
   ]
  },
  {
   "cell_type": "code",
   "execution_count": null,
   "id": "d9184743-5da6-44f8-acb9-418637ac1ad9",
   "metadata": {},
   "outputs": [],
   "source": [
    "_exr_debug = True\n",
    "_exr_ndebug = False\n",
    "\n",
    "%timeit if _exr_debug: assert math.sin(1) < 1\n",
    "%timeit assert _exr_ndebug or (math.sin(1) < 1)"
   ]
  },
  {
   "cell_type": "code",
   "execution_count": null,
   "id": "86bad94f-b0f5-475d-94ac-e6ef817645b2",
   "metadata": {},
   "outputs": [],
   "source": []
  },
  {
   "cell_type": "code",
   "execution_count": null,
   "id": "cf188471-37e6-4d02-84be-5a8e92f56308",
   "metadata": {},
   "outputs": [],
   "source": [
    "sys.float_info"
   ]
  },
  {
   "cell_type": "code",
   "execution_count": null,
   "id": "8cbb6b49-184f-4861-b1fb-ca587bac2e55",
   "metadata": {},
   "outputs": [],
   "source": []
  },
  {
   "cell_type": "code",
   "execution_count": null,
   "id": "33803af9-036f-4961-a0ee-b57c7e092315",
   "metadata": {},
   "outputs": [],
   "source": [
    "import math\n",
    "\n",
    "_exr_ndebug = False\n",
    "_exr_debug_not_fma = False\n",
    "\n",
    "def _exr_quick_two_sum(a, b):\n",
    "    assert _exr_ndebug or (abs(a) >= abs(b))\n",
    "    s = a + b\n",
    "    err = b - (s - a)\n",
    "    assert _exr_ndebug or (s == s + err and abs(err) <= 0.5*math.ulp(s))\n",
    "    return s, err\n",
    "\n",
    "_exr_nftp_splitter = 2**27 - 1\n",
    "_exr_nftp_splitter_tresh = 2**(1024 - 1 - 27)\n",
    "\n",
    "def _exr_notfma_two_prod(a, b):\n",
    "    assert _exr_ndebug or (abs(a) < _exr_nftp_splitter_tresh and \n",
    "                           abs(b) < _exr_nftp_splitter_tresh)\n",
    "    p = a*b\n",
    "    t = _exr_nftp_splitter*a\n",
    "    a_hi = t - (t - a)\n",
    "    a_lo = a - a_hi\n",
    "    t = _exr_nftp_splitter*b\n",
    "    b_hi = t - (t - b)\n",
    "    b_lo = b - b_hi\n",
    "    err = ((a_hi*b_hi - p) + a_hi*b_lo + a_lo*b_hi) + a_lo*b_lo\n",
    "    assert _exr_ndebug or (p == p + err and abs(err) <= 0.5*math.ulp(p))\n",
    "    return p, err\n",
    "\n",
    "_exr_two_prod = _exr_notfma_two_prod\n",
    "\n",
    "if 'fma' in math.__dict__  and  not _exr_debug_not_fma:\n",
    "    def _exr_fma_two_prod(a, b):\n",
    "        p = a*b\n",
    "        err = math.fma(a, b, -p)\n",
    "        assert _exr_ndebug or (p == p + err and abs(err) <= 0.5*math.ulp(p))\n",
    "        return p, err\n",
    "\n",
    "    _exr_two_prod = _exr_fma_two_prod"
   ]
  },
  {
   "cell_type": "code",
   "execution_count": null,
   "id": "7c420b5b-2f82-4a91-ba25-f8f9591d96a1",
   "metadata": {},
   "outputs": [],
   "source": []
  },
  {
   "cell_type": "code",
   "execution_count": null,
   "id": "b5a75cce-4ffc-41fc-8d44-6c4a21368359",
   "metadata": {},
   "outputs": [],
   "source": [
    "def _exr_dd_ceil(h, l):\n",
    "    r = math.ceil(h)\n",
    "    if r != h:\n",
    "        return r\n",
    "    return r + math.ceil(l)\n",
    "\n",
    "def _exr_dd_floor(h, l):\n",
    "    r = math.floor(h)\n",
    "    if r != h:\n",
    "        return r\n",
    "    return r + math.floor(l)\n",
    "\n",
    "def _exr_dd_trunc(h, l):\n",
    "    r = math.trunc(h)\n",
    "    if r != h:\n",
    "        return r\n",
    "    return r + math.floor(l) if h > 0 else math.ceil(l)\n",
    "\n",
    "def _exr_dd_round(h, l):\n",
    "    r = round(h)\n",
    "    if r == h:\n",
    "        return r + round(l)\n",
    "    if abs(r - h) == 0.5 and l < 0.:\n",
    "        r -= 1\n",
    "    return r\n",
    "\n",
    "def _exr_dd_sql_round(h, l):\n",
    "    r = round(h)\n",
    "    if r == h:\n",
    "        return r + round(l)\n",
    "    if abs(r - h) == 0.5 and l < 0.:\n",
    "        r -= 1\n",
    "    return r\n",
    "\n",
    "\n",
    "    def exr_math_trunc(x, ndigits=None, str_inp=None):\n",
    "        \"\"\"\n",
    "        Усечение к меньшему по модулю (rounding=decimal.ROUND_DOWN)\n",
    "        \n",
    "        >>> exr_math_trunc(0.21, 2)\n",
    "        0.21\n",
    "        >>> exr_math_trunc(0.21, 2, str_inp=False)\n",
    "        0.2\n",
    "        >>> exr_math_trunc(0.21, 2, str_inp=True)\n",
    "        0.21\n",
    "        >>> exr_math_trunc(2.01, 2)\n",
    "        2.0\n",
    "        >>> exr_math_trunc(2.01, 2, str_inp=False)\n",
    "        2.0\n",
    "        >>> exr_math_trunc(2.01, 2, str_inp=True)\n",
    "        2.01\n",
    "        >>> exr_math_trunc(2.01)\n",
    "        2\n",
    "        >>> exr_math_trunc(201.0, -2)\n",
    "        200.0\n",
    "        >>> exr_math_trunc(math.nan, -2)\n",
    "        nan\n",
    "        >>> exr_math_trunc(math.inf, -2)\n",
    "        inf\n",
    "        \"\"\"\n",
    "        if ndigits is None:\n",
    "            return math.trunc(x)\n",
    "        if not math.isfinite(x):\n",
    "            return x\n",
    "        if ndigits <= 0:\n",
    "            q = 10**-ndigits\n",
    "            return type(x)(math.trunc(x/q)*q)\n",
    "        q = 10**ndigits\n",
    "        if str_inp is None:\n",
    "            # Причины использования modf() или почему не стоит \n",
    "            # использовать math.trunc(x*q)/q\n",
    "            # q = 100\n",
    "            # for x in [8589934591.059999, 2147483647.8799999, 536870911.96999997,\n",
    "            #           268435455.76999998, 67108863.949999996]:\n",
    "            #     txqq = math.trunc(x*q)/q\n",
    "            #     xqq = x*q/q\n",
    "            #     print(f\"{txqq < x=} {x=} {txqq=} {xqq=}\")\n",
    "            # \n",
    "            # TODO: Обосновать, что для xf < 1, math.trunc(xf*q)/q <= xf\n",
    "            # или это я просто не нашёл контрпримера?\n",
    "            #\n",
    "            # Проблема xi + math.trunc(xf*q)/q, для n=10, q=10**10\n",
    "            # for n, x, hm in [(10, 524287.9999291525, 524287.9999291524),\n",
    "            #                  (10, 262143.99998263217, 262143.9999826321)]:\n",
    "            #     q = 10**n\n",
    "            #     xf, xi = math.modf(x)\n",
    "            #     r = xi + math.trunc(xf*q)/q\n",
    "            #     print(math.trunc(xf*q), math.trunc(xf*q)/q, r)\n",
    "            #     print(math.modf(r))\n",
    "            #     print(math.modf(hm))\n",
    "            #     print((x - hm)/math.ulp(hm))\n",
    "            #\n",
    "            # TODO: гипотеза, что для ndigits <= sys.float_info.dig//2 \n",
    "            # такого быть не может \n",
    "            xf, xi = math.modf(x)\n",
    "            return type(x)(xi + math.trunc(xf*q)/q)\n",
    "        xqh, xql = _exr_two_product(x, q)\n",
    "        if str_inp:\n",
    "            xql += math.copysign((q//2)*math.ulp(x), x)\n",
    "            xqh, xql = _exr_two_sum_quick(xqh, xql) \n",
    "        return type(x)(_exr_dd_trunc(xqh, xql)/q)\n",
    "else:\n",
    "    # Множитель: 1 + eps/2\n",
    "    _exr_mt_1eps2_n, _exr_mt_1eps2_d = math.ulp(0.5).as_integer_ratio()\n",
    "    _exr_mt_1eps2_n += _exr_mt_1eps2_d\n",
    "    \n",
    "    def exr_math_trunc(x, ndigits=None, str_inp=None):\n",
    "        \"\"\"\n",
    "        Усечение к меньшему по модулю (rounding=decimal.ROUND_DOWN)\n",
    "        \n",
    "        >>> exr_math_trunc(0.21, 2)\n",
    "        0.21\n",
    "        >>> exr_math_trunc(0.21, 2, str_inp=False)\n",
    "        0.2\n",
    "        >>> exr_math_trunc(0.21, 2, str_inp=True)\n",
    "        0.21\n",
    "        >>> exr_math_trunc(2.01, 2)\n",
    "        2.0\n",
    "        >>> exr_math_trunc(2.01, 2, str_inp=False)\n",
    "        2.0\n",
    "        >>> exr_math_trunc(2.01, 2, str_inp=True)\n",
    "        2.01\n",
    "        >>> exr_math_trunc(2.01)\n",
    "        2\n",
    "        >>> exr_math_trunc(201.0, -2)\n",
    "        200.0\n",
    "        >>> exr_math_trunc(math.nan, -2)\n",
    "        nan\n",
    "        >>> exr_math_trunc(math.inf, -2)\n",
    "        inf\n",
    "        \"\"\"\n",
    "        if ndigits is None:\n",
    "            return math.trunc(x)\n",
    "        if not math.isfinite(x):\n",
    "            return x\n",
    "        if ndigits <= 0:\n",
    "            q = 10**-ndigits\n",
    "            return type(x)(math.trunc(x/q)*q)\n",
    "        q = 10**ndigits\n",
    "        if str_inp is None:\n",
    "            tx = math.trunc(x)\n",
    "            return type(x)(tx + math.trunc((x - tx)*q)/q)\n",
    "        n, d = abs(x).as_integer_ratio()\n",
    "        n *= q\n",
    "        if str_inp:\n",
    "            n *= _exr_mt_1eps2_n\n",
    "            d *= _exr_mt_1eps2_d\n",
    "        return type(x)(math.copysign((n//d)/q, x))\n"
   ]
  },
  {
   "cell_type": "code",
   "execution_count": null,
   "id": "5010f9b7-cf55-4e04-94bd-6746ceddf533",
   "metadata": {},
   "outputs": [],
   "source": [
    "import doctest\n",
    "doctest.testmod()"
   ]
  },
  {
   "cell_type": "code",
   "execution_count": null,
   "id": "21bcd655-2c0c-4048-a524-bf3373115a81",
   "metadata": {},
   "outputs": [],
   "source": [
    "import sys\n",
    "sys.float_info.dig//2"
   ]
  },
  {
   "cell_type": "code",
   "execution_count": null,
   "id": "8369cb12-a5cb-4376-b175-84277e331100",
   "metadata": {},
   "outputs": [],
   "source": [
    "assert False"
   ]
  },
  {
   "cell_type": "code",
   "execution_count": null,
   "id": "5aa89142-e85d-49d2-90c6-56060b9df82e",
   "metadata": {},
   "outputs": [],
   "source": [
    "n = 9\n",
    "q = 10**n\n",
    "up0 = 1/math.ulp(1.)/q\n",
    "up = 2.**(math.floor(math.log2(up0)) + 10)\n",
    "u = math.nextafter(up, math.inf)\n",
    "err_gt_u = 0\n",
    "lst_err_gt_u = []\n",
    "err_lt_m = 0\n",
    "lst_err_lt_m = []\n",
    "for i in range(10_000_000):\n",
    "    m = exr_round(u, n, str_inp=False, rounding=decimal.ROUND_DOWN)\n",
    "    h = exr_round(u, n, str_inp=True, rounding=decimal.ROUND_DOWN)\n",
    "    assert exr_math_trunc(u, n, str_inp=False) == m and abs(m) <= abs(u) \n",
    "    assert exr_math_trunc(u, n, str_inp=True) == h and h <= abs(u)\n",
    "    assert m <= h\n",
    "    t = exr_math_trunc(u, n)\n",
    "    assert t <= math.nextafter(u, math.inf), f\"{u=} {h=} {m=} {t=} {(t - u)/math.ulp(t):.1f}\"\n",
    "    assert t >= math.nextafter(m, 0), f\"{u=} {h=} {m=} {t=} {(t - u)/math.ulp(t):.1f}\"\n",
    "    if t > u:\n",
    "        err_gt_u += 1\n",
    "        lst_err_gt_u.append((u, m, h, t))\n",
    "    elif t < m:\n",
    "        err_lt_m += 1\n",
    "        lst_err_lt_m.append((u, m, h, t))\n",
    "    else:\n",
    "        assert t == m or t == h, f\"{u=} {h=} {m=} {t=} {(t - m)/math.ulp(t):.1f}\"\n",
    "    u = math.nextafter(u, 0)\n",
    "print(f\"{err_gt_u=} {err_gt_u/(i+1)=}\")\n",
    "print(f\"{err_lt_m=} {err_lt_m/(i+1)=}\")\n",
    "print(f\"{(err_gt_u + err_lt_m)/(i+1)=}\")\n",
    "i+1"
   ]
  },
  {
   "cell_type": "code",
   "execution_count": null,
   "id": "9625513e-122b-436d-848d-e9a27def2c75",
   "metadata": {},
   "outputs": [],
   "source": [
    "q, n"
   ]
  },
  {
   "cell_type": "code",
   "execution_count": null,
   "id": "c267a315-36ca-4c34-920d-1fbf2eef13eb",
   "metadata": {},
   "outputs": [],
   "source": [
    "for n, x, hm in [(10, 524287.9999291525, 524287.9999291524),\n",
    "                 (10, 262143.99998263217, 262143.9999826321)]:\n",
    "    q = 10**n\n",
    "    xf, xi = math.modf(x)\n",
    "    r = xi + math.trunc(xf*q)/q\n",
    "    print(math.trunc(xf*q), math.trunc(xf*q)/q, r)\n",
    "    print(math.modf(r))\n",
    "    print(math.modf(hm))\n",
    "    print((x - hm)/math.ulp(hm))"
   ]
  },
  {
   "cell_type": "code",
   "execution_count": null,
   "id": "eb208ff2-13b4-4d7c-a92a-45965c0c314b",
   "metadata": {},
   "outputs": [],
   "source": [
    "math.log2(9999826321) + 10*math.log2(10)"
   ]
  },
  {
   "cell_type": "code",
   "execution_count": null,
   "id": "da2770ac-bc49-4eca-9d96-3f3f7dc36359",
   "metadata": {},
   "outputs": [],
   "source": [
    "ex = [\n",
    "    (8589934591.059999, 8589934591.05, 8589934591.05, 8589934591.06),\n",
    "    (2147483647.8799999, 2147483647.87, 2147483647.87, 2147483647.88),\n",
    "    (536870911.96999997, 536870911.96, 536870911.96, 536870911.97),\n",
    "    (268435455.76999998, 268435455.76, 268435455.76, 268435455.77)\n",
    "    (67108863.949999996, 67108863.94, 67108863.94, 67108863.95)\n",
    "]"
   ]
  },
  {
   "cell_type": "code",
   "execution_count": null,
   "id": "b5c74586-95f0-405a-8a07-0e8924c37c82",
   "metadata": {},
   "outputs": [],
   "source": [
    "math.log2(67108863.949999996*100)"
   ]
  },
  {
   "cell_type": "code",
   "execution_count": null,
   "id": "e9ca904f-404b-4bc2-ac4a-29d724dd4efe",
   "metadata": {},
   "outputs": [],
   "source": [
    "q = 100\n",
    "for x in [8589934591.059999, 2147483647.8799999, 536870911.96999997,\n",
    "          268435455.76999998, 67108863.949999996]:\n",
    "    txqq = math.trunc(x*q)/q\n",
    "    xqq = x*q/q\n",
    "    print(f\"{txqq < x=} {x=} {txqq=} {xqq=}\")"
   ]
  },
  {
   "cell_type": "code",
   "execution_count": null,
   "id": "36d25c5e-75b4-4909-959d-9643d213f64a",
   "metadata": {},
   "outputs": [],
   "source": []
  },
  {
   "cell_type": "code",
   "execution_count": null,
   "id": "02b53b7d-29d7-4133-a558-517c4583b47d",
   "metadata": {},
   "outputs": [],
   "source": [
    "assert False"
   ]
  },
  {
   "cell_type": "code",
   "execution_count": null,
   "id": "f79d8678-561e-4a6b-a116-9968e79ee605",
   "metadata": {},
   "outputs": [],
   "source": [
    "import doctest\n",
    "doctest.testmod()"
   ]
  },
  {
   "cell_type": "code",
   "execution_count": null,
   "id": "ee4db265-0428-45d2-8f3d-3179e498b6d7",
   "metadata": {},
   "outputs": [],
   "source": [
    "%timeit exr_math_trunc(2.01, 2, str_inp=True)\n",
    "%timeit exr_ratio_trunc(2.01, 2, str_inp=True)"
   ]
  },
  {
   "cell_type": "code",
   "execution_count": null,
   "id": "90a00b8b-b5c9-4c9c-ba4c-33ae22d5deca",
   "metadata": {},
   "outputs": [],
   "source": [
    "x, n = 0.21, 2\n",
    "exr_math_trunc(x, n), exr_math_trunc(x, n, str_inp=False), exr_math_trunc(x, n, str_inp=True)"
   ]
  },
  {
   "cell_type": "code",
   "execution_count": null,
   "id": "0e112136-963a-44b2-9600-c0ef5eab9269",
   "metadata": {},
   "outputs": [],
   "source": [
    "x, n = 2.01, 2\n",
    "exr_math_trunc(x, n), exr_math_trunc(x, n, str_inp=False), exr_math_trunc(x, n, str_inp=True)"
   ]
  },
  {
   "cell_type": "code",
   "execution_count": null,
   "id": "a06632ef-4a86-48a1-bb98-09c10b988750",
   "metadata": {},
   "outputs": [],
   "source": [
    "for n in range(0, 5):\n",
    "    for i in range(10):\n",
    "        for j in range(10**n):\n",
    "            sx = f\"{i}.{j :0{n}d}1\"\n",
    "            #x = math.nextafter(float(sx), 0)\n",
    "            x = float(sx)\n",
    "            nonp = exr_math_trunc(x, n + 1, rounding=decimal.ROUND_DOWN)\n",
    "            p = exr_math_trunc(x, n + 1, str_inp=False, rounding=decimal.ROUND_DOWN)\n",
    "            if p != nonp:\n",
    "                print(f\"{sx=} {n=} {x=} {p=} {nonp=}\")\n",
    "                if sx > \"0.00269\":\n",
    "                    break"
   ]
  },
  {
   "cell_type": "code",
   "execution_count": null,
   "id": "e6028d59-acbc-4c81-a9ca-3f957d968ece",
   "metadata": {},
   "outputs": [],
   "source": [
    "assert False"
   ]
  },
  {
   "cell_type": "code",
   "execution_count": null,
   "id": "7a1a8ff6-b86c-4d50-b8bc-b80375288369",
   "metadata": {},
   "outputs": [],
   "source": [
    "%timeit exr_decimal_round(2012.5)\n",
    "%timeit exr_round(2012.5)"
   ]
  },
  {
   "cell_type": "code",
   "execution_count": null,
   "id": "5c765944-807f-4fd4-bbe8-8da9ee3ab4be",
   "metadata": {},
   "outputs": [],
   "source": [
    "%timeit exr_decimal_round(2012.5, 0)\n",
    "%timeit exr_round(2012.5, 0)"
   ]
  },
  {
   "cell_type": "code",
   "execution_count": null,
   "id": "f112784e-a86c-4df0-ba40-ac41baeff70e",
   "metadata": {},
   "outputs": [],
   "source": [
    "%timeit assert True"
   ]
  },
  {
   "cell_type": "code",
   "execution_count": null,
   "id": "2dadf6e5-c47f-473c-9445-366e7e1c7c44",
   "metadata": {},
   "outputs": [],
   "source": [
    "import fractions\n",
    "exr_round(fractions.Fraction('3/2'), str_inp=False)"
   ]
  },
  {
   "cell_type": "code",
   "execution_count": null,
   "id": "17d49ddd-cf63-4829-866b-7c23b2a6c7ab",
   "metadata": {},
   "outputs": [],
   "source": [
    "import math\n",
    "import numpy as np\n"
   ]
  },
  {
   "cell_type": "code",
   "execution_count": null,
   "id": "eed70a14-c149-4039-9190-fb697e0f68a0",
   "metadata": {},
   "outputs": [],
   "source": [
    "import numpy as np\n",
    "exr_round(\"xx\", 5, rounding=decimal.ROUND_DOWN, str_inp=False)"
   ]
  },
  {
   "cell_type": "code",
   "execution_count": null,
   "id": "feb8f2be-fa43-4c5b-be7f-16a8d6727ae4",
   "metadata": {},
   "outputs": [],
   "source": [
    "assert False"
   ]
  },
  {
   "cell_type": "code",
   "execution_count": null,
   "id": "77d364f3-62b7-4166-8d9f-7655b7ab4406",
   "metadata": {},
   "outputs": [],
   "source": []
  },
  {
   "cell_type": "code",
   "execution_count": null,
   "id": "1bc29a81-8cb2-4efe-b4cb-aeed21e90373",
   "metadata": {},
   "outputs": [],
   "source": [
    "math.trunc(3.3)"
   ]
  },
  {
   "cell_type": "code",
   "execution_count": null,
   "id": "e36b92ee-2057-4d76-ae71-ec5ab3cc61b1",
   "metadata": {},
   "outputs": [],
   "source": [
    "import math\n",
    "import numpy as np\n",
    "\n",
    "def check(rf):\n",
    "    itest = [ 2.25, math.nextafter(2.5, 0), 2.5, 2.75, 3.25, math.nextafter(3.5, 0), 3.5, 3.75]\n",
    "    otest = [\"2\",                 \"2\",     \"3\", \"3\",  \"3\",                 \"3\",     \"4\", \"4\"]\n",
    "    for i1, o1 in zip(itest, otest):\n",
    "        for i, o in zip([i1, -i1], [o1, \"-\" + o1]):\n",
    "            r = rf(i)\n",
    "            assert r == type(r)(o), f\"i={i}, o={o}, r={r}, rf={rf}\"\n",
    "            assert len(str(r)) <= 4, f\"{r=} {len(str(r))=} {str(r)=}\"\n",
    "\n",
    "def checkn(rf):\n",
    "    itest = [ 2.25, math.nextafter(2.5, 0), 2.5, 2.75, 3.25, math.nextafter(3.5, 0), 3.5, 3.75]\n",
    "    otest = [\"2\",                 \"2\",     \"3\", \"3\",  \"3\",                 \"3\",     \"4\", \"4\"]\n",
    "    for i1, o1 in zip(itest, otest):\n",
    "        for i, o in zip([i1, -i1], [o1, \"-\" + o1]):\n",
    "            r = rf(i, 0)\n",
    "            assert r == type(r)(o), f\"i={i}, n=0, o={o}, r={r}, rf={rf}\"\n",
    "            assert len(str(r)) <= 4, f\"{r=} {len(str(r))=} {str(r)=}\"\n",
    "    itest = [ 2.225, math.nextafter(2.25, 0),  2.25,  2.275, \n",
    "              3.325, math.nextafter(3.35, 0),  3.35,  3.375]\n",
    "    otest = [\"2.2\",                \"2.2\",     \"2.3\", \"2.3\",  \n",
    "             \"3.3\",                \"3.3\",     \"3.4\", \"3.4\"]\n",
    "    for i1, o1 in zip(itest, otest):\n",
    "        for i, o in zip([i1, -i1], [o1, \"-\" + o1]):\n",
    "            r = rf(i, 1)\n",
    "            if not np.allclose(float(r), float(o)):\n",
    "                print(f\"{i=}, n=1, pretty=False, o={o}, r={r}, rf={rf}\")\n",
    "            assert len(str(r)) <= 4, f\"{i=}, n=1, pretty=False, {r=} {len(str(r))=} {str(r)=}\"\n",
    "            r = rf(i, 1, pretty=True)\n",
    "            if not np.allclose(float(r), float(o)):\n",
    "                print(f\"i={i}, n=1, pretty=True, o={o}, r={r}, rf={rf}\")\n",
    "            assert len(str(r)) <= 4, f\"{r=} {len(str(r))=} {str(r)=}\"\n",
    "    itest = [ 225,   math.nextafter(250, 0),   250,   275,\n",
    "              325,   math.nextafter(350, 0),   350,   375]\n",
    "    otest = [\"200\",                \"200\",     \"300\", \"300\", \n",
    "             \"300\",                \"300\",     \"400\", \"400\"]\n",
    "    for i1, o1 in zip(itest, otest):\n",
    "        for i, o in zip([i1, -i1], [o1, \"-\" + o1]):\n",
    "            r = rf(i, -2)\n",
    "            assert r == type(r)(o), f\"i={i}, n=-2, o={o}, r={r}, rf={rf}\"\n",
    "            assert len(str(r)) <= 6, f\"{r=} {len(str(r))=} {str(r)=}\"\n",
    "    itest = [ 2.675,  0.0000005, 0.15]\n",
    "    stest = [\"2.67\", \"0.000000\", \"0.1\"]\n",
    "    otest = [\"2.68\", \"0.000001\", \"0.2\"]\n",
    "    ntest = [2,       6,         1]\n",
    "    for i1, s1, o1, n in zip(itest, stest, otest, ntest):\n",
    "        for i, s, o in zip([i1, -i1], [s1, \"-\" + s1], [o1, \"-\" + o1]):\n",
    "            r = rf(i, n)\n",
    "            if not np.allclose(float(r), float(s)):\n",
    "                print(f\"i={i}, n={n}, pretty=False, o={o}, r={r}, rf={rf}\")\n",
    "            assert len(str(r)) <= 9, f\"{r=} {len(str(r))=} {str(r)=}\"\n",
    "            r = rf(i, n, pretty=True)\n",
    "            assert r == type(r)(o), f\"i={i}, n={n}, pretty=True, o={o}, r={r}, rf={rf}\"\n",
    "            assert len(str(r)) <= 9, f\"{r=} {len(str(r))=} {str(r)=}\"\n"
   ]
  },
  {
   "cell_type": "code",
   "execution_count": null,
   "id": "35f150cf-e250-4daf-a9aa-01a5c9c0575a",
   "metadata": {},
   "outputs": [],
   "source": [
    "import decimal\n",
    "\n",
    "_drtta_q0 = decimal.Decimal(\"1\")\n",
    "\n",
    "def decimal_roundTiesToAway(x, ndigits=0, pretty=False,\n",
    "                            pretty_delta_x = float.fromhex('0x1.8p-1')  # 0.75ulp\n",
    "                           ):\n",
    "    \"\"\"\n",
    "    decimal_roundTiesToAway(x, n) - округлённое до n-цифр машинное представление x\n",
    "    str(decimal_roundTiesToAway(x, n, pretty=True) - округлённое до n-цифр str(x)\n",
    "    \"\"\"\n",
    "    dx = decimal.Decimal(x)\n",
    "    if not ndigits:\n",
    "        return dx.quantize(_drtta_q0, decimal.ROUND_HALF_UP)\n",
    "    # assert math.ulp(x)/math.fabs(dx - dx.next_toward(0)) >= 2, \\\n",
    "    #     \"Default context precision too small\"\n",
    "    q = decimal.Decimal(f\"1e{-ndigits}\")\n",
    "    if not pretty or isinstance(x, str) or isinstance(x, decimal.Decimal):\n",
    "        return dx.quantize(q, decimal.ROUND_HALF_UP)\n",
    "    return (dx + \n",
    "            decimal.Decimal(math.copysign(pretty_delta_x*math.ulp(x), x))\n",
    "           ).quantize(q, decimal.ROUND_HALF_UP)"
   ]
  },
  {
   "cell_type": "code",
   "execution_count": null,
   "id": "01fad423-2db9-47b3-909f-f8cf52c4949e",
   "metadata": {},
   "outputs": [],
   "source": [
    "check(decimal_roundTiesToAway)\n",
    "checkn(decimal_roundTiesToAway)"
   ]
  },
  {
   "cell_type": "code",
   "execution_count": null,
   "id": "75d81a9d-492a-4e34-9f61-30b2dc65f9c7",
   "metadata": {},
   "outputs": [],
   "source": [
    "import decimal\n",
    "\n",
    "_drtta_q0 = decimal.Decimal(\"1\")\n",
    "\n",
    "def strdecimal_roundTiesToAway(x, ndigits=0, pretty=False):\n",
    "    \"\"\"\n",
    "    strdecimal_roundTiesToAway(x, n) - округлённое до n-цифр машинное представление x\n",
    "    str(strdecimal_roundTiesToAway(x, n, pretty=True) - округлённое до n-цифр str(x)\n",
    "    \"\"\"\n",
    "    if not ndigits:\n",
    "        return decimal.Decimal(x).quantize(_drtta_q0, decimal.ROUND_HALF_UP)\n",
    "    # assert math.ulp(x)/math.fabs(dx - dx.next_toward(0)) >= 2, \\\n",
    "    #     \"Default context precision too small\"\n",
    "    q = decimal.Decimal(f\"1e{-ndigits}\")\n",
    "    if not pretty or isinstance(x, str) or isinstance(x, decimal.Decimal):\n",
    "        return decimal.Decimal(x).quantize(q, decimal.ROUND_HALF_UP)\n",
    "    return decimal.Decimal(str(x)).quantize(q, decimal.ROUND_HALF_UP)"
   ]
  },
  {
   "cell_type": "code",
   "execution_count": null,
   "id": "907adb59-bd3d-4d30-896d-89cf20bf40af",
   "metadata": {},
   "outputs": [],
   "source": [
    "check(strdecimal_roundTiesToAway)\n",
    "checkn(strdecimal_roundTiesToAway)"
   ]
  },
  {
   "cell_type": "code",
   "execution_count": null,
   "id": "4bfb874c-d003-4460-9d43-41a7fcc4337e",
   "metadata": {},
   "outputs": [],
   "source": [
    "(repr(2.0115), repr(decimal.Decimal(2.0115)),\n",
    " decimal_roundTiesToAway(2.0115, 3), \n",
    " decimal_roundTiesToAway(\"2.0115\", 3),\n",
    " decimal_roundTiesToAway(decimal.Decimal(\"2.0115\"), 3))"
   ]
  },
  {
   "cell_type": "code",
   "execution_count": null,
   "id": "e1fbe26e-69a4-45fc-8e0a-99822643d4c5",
   "metadata": {},
   "outputs": [],
   "source": [
    "import fractions\n",
    "\n",
    "def fractions_roundTiesToAway(x, ndigits=0, pretty=False,\n",
    "                            pretty_delta_x = float.fromhex('0x1.8p-1')  # 0.75ulp\n",
    "                           ):\n",
    "    fx = fractions.Fraction(x)\n",
    "    if not ndigits:\n",
    "        return math.trunc(fx + fractions.Fraction(math.copysign(0.5, x)))\n",
    "    if ndigits < 0:\n",
    "        q = 10**-ndigits\n",
    "        return math.trunc(fx/q + fractions.Fraction(math.copysign(0.5, x)))*q\n",
    "    q = 10**ndigits\n",
    "    if not pretty:\n",
    "        return math.trunc(fx*q + fractions.Fraction(math.copysign(0.5, x)))/q\n",
    "    return math.trunc((fx + \n",
    "                       fractions.Fraction(math.copysign(pretty_delta_x*math.ulp(x), x))\n",
    "                      )*q +\n",
    "                      fractions.Fraction(math.copysign(0.5, x))\n",
    "                     )/q"
   ]
  },
  {
   "cell_type": "code",
   "execution_count": null,
   "id": "196a4a7e-e249-4a62-8787-c0c9aa5b9a7d",
   "metadata": {},
   "outputs": [],
   "source": [
    "check(fractions_roundTiesToAway)\n",
    "checkn(fractions_roundTiesToAway)"
   ]
  },
  {
   "cell_type": "code",
   "execution_count": null,
   "id": "07b9ba2d-445e-4e7a-b634-679f598a1601",
   "metadata": {},
   "outputs": [],
   "source": []
  },
  {
   "cell_type": "code",
   "execution_count": null,
   "id": "cec75621-1166-4b23-9e49-30312eb51b5b",
   "metadata": {},
   "outputs": [],
   "source": [
    "import math\n",
    "\n",
    "try:\n",
    "    from math import fma as lc_fma  # Python 3.13 и выше\n",
    "except ImportError:\n",
    "    import ctypes\n",
    "    import sys\n",
    "\n",
    "    if sys.platform.startswith(\"darwin\"):\n",
    "        _libc = ctypes.CDLL(\"libSystem.B.dylib\")\n",
    "    elif sys.platform.startswith('win'):\n",
    "        _libc = ctypes.cdll.msvcrt\n",
    "    else:\n",
    "        _libc = ctypes.CDLL(\"libc.so.6\")\n",
    "        \n",
    "    _libc.fma.argtypes = [ctypes.c_double, ctypes.c_double, ctypes.c_double]\n",
    "    _libc.fma.restype = ctypes.c_double\n",
    "    lc_fma = _libc.fma\n",
    "\n",
    "assert lc_fma(math.nextafter(1., 0), \n",
    "              math.nextafter(1., 0), \n",
    "              -(1. - math.ulp(1.))) == math.ulp(math.ulp(0.25))\n",
    "\n",
    "def math_roundTiesToAway(x, ndigits=0, pretty=False,\n",
    "                         pretty_delta_x = float.fromhex('0x1.p-1')  # 0.5ulp\n",
    "                        ):\n",
    "    \"\"\"\n",
    "    math_roundTiesToAway(x, n) - округлённое до n-цифр машинное представление x\n",
    "    str(math_roundTiesToAway(x, n, pretty=True) - округлённое до n-цифр str(x)\n",
    "    \"\"\"\n",
    "    if not ndigits:\n",
    "        return math.trunc(x + math.copysign(0.5, x))\n",
    "    if ndigits < 0:\n",
    "        q = float(10**-ndigits)\n",
    "        return math.trunc(x/q + math.copysign(0.5, x))*q\n",
    "    q = float(10**ndigits)\n",
    "    if not pretty:\n",
    "        return math.trunc(lc_fma(x, q, math.copysign(0.5, x)))/q\n",
    "    xl = math.copysign(pretty_delta_x*math.ulp(x), x)\n",
    "    h = x + xl\n",
    "    l = xl - (h - x)\n",
    "    x, xl = h, l\n",
    "    # assert x == x + xl  and  abs(xl) < math.ulp(x)\n",
    "    ql = float(10**ndigits - int(q))\n",
    "    # assert q == (q + ql)  and  abs(ql) < math.ulp(q)\n",
    "    h = x*q\n",
    "    l = lc_fma(x, q, -h)\n",
    "    l += ql*x + xl*q \n",
    "    xq = h + l\n",
    "    xql = l - (xq - h)\n",
    "    # assert xq == (xq + xql)  and  abs(xql) < math.ulp(xq)\n",
    "    a05 = math.copysign(0.5, x)\n",
    "    h = xq + a05\n",
    "    t = h - xq\n",
    "    l = (xq - (h - t)) + (a05 - t)\n",
    "    l += xql\n",
    "    xqa05 = h + l\n",
    "    xqa05l = l - (xqa05 - h)\n",
    "    # assert xqa05 == (xqa05 + xqa05l)  and  abs(xqa05l) < math.ulp(xqa05)\n",
    "    txqa05 = math.trunc(xqa05)\n",
    "    if txqa05 == xqa05:\n",
    "        txqa05 += math.floor(xqa05l) if 0 < xqa05 else math.ceil(xqa05l)\n",
    "    return txqa05/q"
   ]
  },
  {
   "cell_type": "code",
   "execution_count": null,
   "id": "2d183734-5ff3-4658-a1ac-61386255a011",
   "metadata": {},
   "outputs": [],
   "source": [
    "math_roundTiesToAway(3.35, 1, pretty=True)"
   ]
  },
  {
   "cell_type": "code",
   "execution_count": null,
   "id": "b5d9bc52-f142-4634-95aa-f21e5ba68db4",
   "metadata": {},
   "outputs": [],
   "source": [
    "math_roundTiesToAway(math.nextafter(3.35, 0), 1, pretty=True)"
   ]
  },
  {
   "cell_type": "code",
   "execution_count": null,
   "id": "18700a47-7bf7-4e39-9892-289bb79d3fcb",
   "metadata": {},
   "outputs": [],
   "source": [
    "check(math_roundTiesToAway)\n",
    "checkn(math_roundTiesToAway)"
   ]
  },
  {
   "cell_type": "code",
   "execution_count": null,
   "id": "ca4b6719-ef5f-4a7c-89bd-411ad4d0a1b8",
   "metadata": {},
   "outputs": [],
   "source": [
    "lc_fma"
   ]
  },
  {
   "cell_type": "code",
   "execution_count": null,
   "id": "8f8ba602-d0d5-4f8f-ab83-319d788a4800",
   "metadata": {},
   "outputs": [],
   "source": [
    "import numpy as np\n",
    "\n",
    "def np_roundTiesToAway(x, ndigits=0, pretty=False,\n",
    "                       pretty_delta_x = float.fromhex('0x1.p-1'),  # 0.5ulp\n",
    "                       debug_double_double = False\n",
    "                      ):\n",
    "    if not ndigits:\n",
    "        return np.trunc(x + np.copysign(0.5, x))\n",
    "    if ndigits < 0:\n",
    "        q = 10**-ndigits\n",
    "        return np.trunc(x/q + np.copysign(0.5, x))*q\n",
    "    q = 10**ndigits\n",
    "    if not pretty:\n",
    "        r = np.trunc(np.array([q, 1], dtype=type(x)) @\n",
    "                        np.vstack((x, np.copysign(0.5, x)))\n",
    "                       )/q\n",
    "        return r if isinstance(x, np.ndarray) else r[0]\n",
    "    ax = np.asarray(x)\n",
    "    if np.half == ax.dtype:\n",
    "        ext_t = np.float\n",
    "    elif np.float32 == ax.dtype:\n",
    "        ext_t = np.double\n",
    "    elif np.double == ax.dtype and \"longdouble\" in np.__dict__:\n",
    "        ext_t = np.longdouble\n",
    "    else:\n",
    "        ext_t = None\n",
    "    if ext_t and not debug_double_double:\n",
    "        ex = np.array(ax, dtype=ext_t)\n",
    "        ex += np.copysign(np.finfo(ax.dtype).eps*pretty_delta_x*np.abs(ax), ax)\n",
    "        r = np.trunc(np.array([q, 1], dtype=ex.dtype) @\n",
    "                     np.vstack((ex, np.copysign(0.5, ex))),\n",
    "                     dtype=ax.dtype\n",
    "                    )/q\n",
    "        # print(f\"{x=} {type(x)=} {isinstance(x, np.ndarray)=}\")\n",
    "        return r if isinstance(x, np.ndarray) else r[0]\n",
    "    assert False, \"not implement\"\n",
    "    xl = np.copysign(pretty_delta_x*np.ulp(x), x)\n",
    "    h = x + xl\n",
    "    l = xl - (h - x)\n",
    "    x, xl = h, l\n",
    "    # assert x == x + xl  and  abs(xl) < math.ulp(x)\n",
    "    q = type(x[0])(q)\n",
    "    ql = type(x[0])(10**ndigits - int(q))\n",
    "    # assert q == (q + ql)  and  abs(ql) < math.ulp(q)\n",
    "    h = x*q\n",
    "    l = np.fma(x, q, -h)\n",
    "    l += ql*x + xl*q \n",
    "    xq = h + l\n",
    "    xql = l - (xq - h)\n",
    "    # assert xq == (xq + xql)  and  abs(xql) < math.ulp(xq)\n",
    "    a05 = np.copysign(0.5, x)\n",
    "    h = xq + a05\n",
    "    t = h - xq\n",
    "    l = (xq - (h - t)) + (a05 - t)\n",
    "    l += xql\n",
    "    xqa05 = h + l\n",
    "    xqa05l = l - (xqa05 - h)\n",
    "    # assert xqa05 == (xqa05 + xqa05l)  and  abs(xqa05l) < math.ulp(xqa05)\n",
    "    txqa05 = np.trunc(xqa05)\n",
    "    if txqa05 == xqa05:\n",
    "        txqa05 += np.floor(xqa05l) if 0 < xqa05 else np.ceil(xqa05l)\n",
    "    return txqa05/q"
   ]
  },
  {
   "cell_type": "code",
   "execution_count": null,
   "id": "94d2d79f-ad1c-4b01-8b57-204926f989c2",
   "metadata": {},
   "outputs": [],
   "source": [
    "x = 2.115\n",
    "x = np.asarray(x)\n",
    "x.dtype, np.finfo(x.dtype).eps, type(x)"
   ]
  },
  {
   "cell_type": "code",
   "execution_count": null,
   "id": "0c816d0a-4da9-4beb-96fd-a929069562aa",
   "metadata": {},
   "outputs": [],
   "source": [
    "np_roundTiesToAway(3.35, 1)"
   ]
  },
  {
   "cell_type": "code",
   "execution_count": null,
   "id": "5f1bbe81-4555-4749-a102-cdab00aad042",
   "metadata": {},
   "outputs": [],
   "source": [
    "np_roundTiesToAway(3.35, 1, pretty=True)"
   ]
  },
  {
   "cell_type": "code",
   "execution_count": null,
   "id": "93eb56f4-2dc6-43e8-8352-b17f1939077a",
   "metadata": {},
   "outputs": [],
   "source": [
    "np_roundTiesToAway(math.nextafter(3.35, 0), 1, pretty=True)"
   ]
  },
  {
   "cell_type": "code",
   "execution_count": null,
   "id": "11b8fa59-2fdc-4718-9e6b-a47dae549c29",
   "metadata": {},
   "outputs": [],
   "source": [
    "check(np_roundTiesToAway)\n",
    "checkn(np_roundTiesToAway)"
   ]
  },
  {
   "cell_type": "code",
   "execution_count": null,
   "id": "7bf83b93-2017-4e9c-9b51-8283b27c3f05",
   "metadata": {},
   "outputs": [],
   "source": [
    "tsx = [ \"0.15\", \"0.145\", \"2.675\", \"2.0115\", \"0.0000005\", ]\n",
    "tdecimals = [1, 2, 2, 3, 6]\n",
    "for sx, decimals in zip(tsx, tdecimals):\n",
    "    x = float(sx)\n",
    "    print(f\"| {sx:9} | {x.hex():21}| ≈{decimal.Decimal(x):<21.17g} | {decimals:2}  | {decimal_roundTiesToAway(x, ndigits=decimals):<8} | {math_roundTiesToAway(x, ndigits=decimals):<19} | {np_roundTiesToAway(x, ndigits=decimals):<19} |\")"
   ]
  },
  {
   "cell_type": "code",
   "execution_count": null,
   "id": "a506b8f1-d68f-4281-8160-3a9c250500b5",
   "metadata": {},
   "outputs": [],
   "source": [
    "tsx = [ \"0.15\", \"0.145\", \"2.675\", \"2.0115\", \"0.0000005\", ]\n",
    "tdecimals = [1, 2, 2, 3, 6]\n",
    "for sx, decimals in zip(tsx, tdecimals):\n",
    "    x = float(sx)\n",
    "    print(f\"| {sx:9} | {x.hex():21}| ≈{decimal.Decimal(x):<21.17g} | {decimals:2}  | {decimal_roundTiesToAway(x, ndigits=decimals, pretty=True):<8} | {math_roundTiesToAway(x, ndigits=decimals, pretty=True):<19} | {np_roundTiesToAway(x, ndigits=decimals, pretty=True):<19} |\")"
   ]
  },
  {
   "cell_type": "code",
   "execution_count": null,
   "id": "eb33500a-aeef-4316-93f0-13a0279fc598",
   "metadata": {},
   "outputs": [],
   "source": [
    "tsx = [ \"0.15\", \"0.145\", \"2.675\", \"2.0115\", \"0.0000005\", ]\n",
    "tdecimals = [1, 2, 2, 3, 6]\n",
    "for sx, decimals in zip(tsx, tdecimals):\n",
    "    x = float(sx)\n",
    "    print(f\"| {sx:9} | {x.hex():21}| ≈{decimal.Decimal(x):<21.17g} | {decimals:2}  | {decimal_roundTiesToAway(x, ndigits=decimals):<8} | {math_roundTiesToAway(x, ndigits=decimals):<19} | {fractions_roundTiesToAway(x, ndigits=decimals):<19} |\")"
   ]
  },
  {
   "cell_type": "code",
   "execution_count": null,
   "id": "888b7d2a-3631-4e4a-9267-b9ba94ddb155",
   "metadata": {},
   "outputs": [],
   "source": [
    "tsx = [ \"0.15\", \"0.145\", \"2.675\", \"2.0115\", \"0.0000005\", ]\n",
    "tdecimals = [1, 2, 2, 3, 6]\n",
    "for sx, decimals in zip(tsx, tdecimals):\n",
    "    x = float(sx)\n",
    "    print(f\"| {sx:9} | {x.hex():21}| ≈{decimal.Decimal(x):<21.17g} | {decimals:2}  | {decimal_roundTiesToAway(x, ndigits=decimals, pretty=True):<8} | {math_roundTiesToAway(x, ndigits=decimals, pretty=True):<19} | {fractions_roundTiesToAway(x, ndigits=decimals, pretty=True):<19} |\")"
   ]
  },
  {
   "cell_type": "code",
   "execution_count": null,
   "id": "d1ea1af7-8212-4220-9161-354127d5dea6",
   "metadata": {},
   "outputs": [],
   "source": [
    "math_roundTiesToAway(2.0115, 3)"
   ]
  },
  {
   "cell_type": "code",
   "execution_count": null,
   "id": "965d96a9-1a68-4e65-88ff-6f704a94d6ba",
   "metadata": {},
   "outputs": [],
   "source": [
    "math_roundTiesToAway(2.0115, 3, pretty=True)"
   ]
  },
  {
   "cell_type": "code",
   "execution_count": null,
   "id": "1d21b540-7834-41d4-9a5e-c6cfeb1362af",
   "metadata": {},
   "outputs": [],
   "source": [
    "decimal.Decimal(2.0115)"
   ]
  },
  {
   "cell_type": "code",
   "execution_count": null,
   "id": "2fdb1562-2cbf-42f0-8214-ff0299b42b72",
   "metadata": {},
   "outputs": [],
   "source": [
    "for n in range(18):\n",
    "    x = float(\"0.\" + n*\"0\" + \"5\")\n",
    "    print(n, x, \n",
    "          float(math_roundTiesToAway(x, n)), \n",
    "          float(decimal_roundTiesToAway(x, n)),\n",
    "          float(fractions_roundTiesToAway(x, n)))"
   ]
  },
  {
   "cell_type": "code",
   "execution_count": null,
   "id": "fa5c849e-c816-400e-a7b3-663116074847",
   "metadata": {},
   "outputs": [],
   "source": [
    "for n in range(3):\n",
    "    for i in range(10):\n",
    "        for j in range(10**n):\n",
    "            sx = f\"{i}.{j :0{n}d}5\"\n",
    "            x = float(sx)\n",
    "            nonp = math_roundTiesToAway(x, n)\n",
    "            p = math_roundTiesToAway(x, n, pretty=True)\n",
    "            if p != nonp:\n",
    "                print(f\"{sx=} {n=} {x=} {p=} {nonp=}\")"
   ]
  },
  {
   "cell_type": "code",
   "execution_count": null,
   "id": "87b35e3b-2db9-410a-a84b-f83c7125a193",
   "metadata": {},
   "outputs": [],
   "source": [
    "for n in range(5):\n",
    "    for i in range(10):\n",
    "        for j in range(10**n):\n",
    "            sx = f\"{i}.{j :0{n}d}5\"\n",
    "            x = float(sx)\n",
    "            pa = math_roundTiesToAway(x, n)\n",
    "            pan = math_roundTiesToAway(x, n, pretty=True)\n",
    "            pb = fractions_roundTiesToAway(x, n)\n",
    "            pbn = fractions_roundTiesToAway(x, n, pretty=True)\n",
    "            if pb == pbn and float(pa) != float(pb):\n",
    "                print(f\"{sx=} {n=} {x=} {pa=} {pb=}\")\n",
    "            if pb == pbn and float(pan) != float(pbn):\n",
    "                print(f\"{sx=} {n=} {x=} {pan=} {pbn=}\")"
   ]
  },
  {
   "cell_type": "code",
   "execution_count": null,
   "id": "78b34d8e-9e50-45e5-ae4a-0ab21b7804b5",
   "metadata": {},
   "outputs": [],
   "source": [
    "f\"{3 :03d}\""
   ]
  },
  {
   "cell_type": "code",
   "execution_count": null,
   "id": "fac1cf6a-6d49-48c3-bc1e-cf22f900a079",
   "metadata": {},
   "outputs": [],
   "source": [
    "assert False"
   ]
  },
  {
   "cell_type": "code",
   "execution_count": null,
   "id": "9c07c0f4-431b-47f1-a4e7-647a4dc240cf",
   "metadata": {},
   "outputs": [],
   "source": [
    "print(f\"{fractions_roundTiesToAway(2.0115, 3)=}\")\n",
    "%timeit fractions_roundTiesToAway(2.0115, 3)\n",
    "print(f\"{decimal_roundTiesToAway(2.0115, 3)=}\")\n",
    "%timeit decimal_roundTiesToAway(2.0115, 3)\n",
    "print(f\"{strdecimal_roundTiesToAway(2.0115, 3)=}\")\n",
    "%timeit strdecimal_roundTiesToAway(2.0115, 3)\n",
    "print(f\"{math_roundTiesToAway(2.0115, 3)=}\")\n",
    "%timeit math_roundTiesToAway(2.0115, 3)"
   ]
  },
  {
   "cell_type": "code",
   "execution_count": null,
   "id": "1ae100db-1a88-4aab-82aa-9fc1dd50d248",
   "metadata": {},
   "outputs": [],
   "source": [
    "print(f\"{fractions_roundTiesToAway(2.0115, 3, pretty=True)=}\")\n",
    "%timeit fractions_roundTiesToAway(2.0115, 3, pretty=True)\n",
    "print(f\"{decimal_roundTiesToAway(2.0115, 3, pretty=True)=}\")\n",
    "%timeit decimal_roundTiesToAway(2.0115, 3, pretty=True)\n",
    "print(f\"{strdecimal_roundTiesToAway(2.0115, 3, pretty=True)=}\")\n",
    "%timeit strdecimal_roundTiesToAway(2.0115, 3, pretty=True)\n",
    "print(f\"{math_roundTiesToAway(2.0115, 3, pretty=True)=}\")\n",
    "%timeit math_roundTiesToAway(2.0115, 3, pretty=True)"
   ]
  },
  {
   "cell_type": "code",
   "execution_count": null,
   "id": "5f7b9bbc-e666-42bf-8d91-c802eac77cd0",
   "metadata": {},
   "outputs": [],
   "source": [
    "print(f\"{decimal_roundTiesToAway(2.675, 2)=}\")\n",
    "%timeit decimal_roundTiesToAway(2.675, 2)\n",
    "print(f\"{math_roundTiesToAway(2.675, 2)=}\")\n",
    "%timeit math_roundTiesToAway(2.675, 2)"
   ]
  },
  {
   "cell_type": "code",
   "execution_count": null,
   "id": "30acaaf2-f997-43fd-b05e-69b11b09ec49",
   "metadata": {},
   "outputs": [],
   "source": [
    "print(f\"{decimal_roundTiesToAway(2.675, 2, pretty=True)=}\")\n",
    "%timeit decimal_roundTiesToAway(2.675, 2, pretty=True)\n",
    "print(f\"{math_roundTiesToAway(2.675, 2, pretty=True)=}\")\n",
    "%timeit math_roundTiesToAway(2.675, 2, pretty=True)"
   ]
  },
  {
   "cell_type": "code",
   "execution_count": null,
   "id": "ee719a67-8207-4609-954a-fcb953136260",
   "metadata": {},
   "outputs": [],
   "source": [
    "x = 2.675\n",
    "a0 = np.double(x)\n",
    "a1000 = np.full(1000, a0)\n",
    "q = decimal.Decimal(\"1.\")\n",
    "%timeit math_roundTiesToAway(x)\n",
    "%timeit float(math_roundTiesToAway(x))\n",
    "# %timeit np_roundTiesToAway(a0)\n",
    "# %timeit np_roundTiesToAway(a1000)\n",
    "# %timeit roundTiesToAway(x)\n",
    "%timeit decimal_roundTiesToAway(x)\n",
    "%timeit decimal.Decimal(x).quantize(q, decimal.ROUND_HALF_UP)"
   ]
  },
  {
   "cell_type": "code",
   "execution_count": null,
   "id": "2f1ff3e3-0f19-4b50-b21d-695cbc5b30b5",
   "metadata": {},
   "outputs": [],
   "source": [
    "if isinstance(a1000, np.half):\n",
    "    ext_t = np.float\n",
    "elif isinstance(a1000, np.half):\n",
    "    ext_t = np.double\n",
    "elif ((isinstance(a1000, np.double) or \n",
    "       isinstance(a1000, float)\n",
    "      ) and \"longdouble\" in np.__dict__):\n",
    "    ext_t = np.longdouble\n",
    "else:\n",
    "    ext_t = None\n",
    "type(a0) == np.double"
   ]
  },
  {
   "cell_type": "code",
   "execution_count": null,
   "id": "e92294ef-596a-4f7f-b594-9a57faabfb03",
   "metadata": {},
   "outputs": [],
   "source": [
    "b0.dtype, a0.dtype"
   ]
  },
  {
   "cell_type": "code",
   "execution_count": null,
   "id": "230da475-3c4f-487e-9821-401624a104b5",
   "metadata": {},
   "outputs": [],
   "source": [
    "\"longdouble\" in np.__dict__"
   ]
  },
  {
   "cell_type": "code",
   "execution_count": null,
   "id": "04612f1e-00d5-42fb-a220-00bcc8d24c69",
   "metadata": {},
   "outputs": [],
   "source": [
    "x = math.nextafter(3.35, 0)\n",
    "x = 3.35\n",
    "ndigits = 1\n",
    "q = float(10**ndigits)\n",
    "lc_fma(x, q, math.copysign(0.5, x)), x*q + math.copysign(0.5, x)"
   ]
  },
  {
   "cell_type": "code",
   "execution_count": null,
   "id": "5bf2cfff-0c62-4f1c-a640-dbef708fcd96",
   "metadata": {},
   "outputs": [],
   "source": []
  },
  {
   "cell_type": "code",
   "execution_count": null,
   "id": "f6611251-f827-40bf-bdeb-a608c8a7575f",
   "metadata": {},
   "outputs": [],
   "source": [
    "lc_fma(x, q, -x*q)/math.ulp(x*q)"
   ]
  },
  {
   "cell_type": "code",
   "execution_count": null,
   "id": "57ad9d74-5e8e-46e2-9467-ad70bc554d6f",
   "metadata": {},
   "outputs": [],
   "source": [
    "q.hex()"
   ]
  },
  {
   "cell_type": "code",
   "execution_count": null,
   "id": "48d29bff-c6fa-49bb-8324-80a97225d868",
   "metadata": {},
   "outputs": [],
   "source": [
    "2.225 + (math.ulp(2.225)/2)"
   ]
  },
  {
   "cell_type": "code",
   "execution_count": null,
   "id": "6ee1bc81-f242-4d97-b6af-ab924345b53f",
   "metadata": {},
   "outputs": [],
   "source": [
    "pretty_delta_x = float.fromhex('0x1.p-1')\n",
    "x = 2.225\n",
    "xl = math.copysign(pretty_delta_x*math.ulp(x), x)\n",
    "h = x + xl\n",
    "l = xl - (h - x)\n",
    "assert h == (h + l)"
   ]
  },
  {
   "cell_type": "code",
   "execution_count": null,
   "id": "3d452935-3ffe-4a09-8055-43da164e7633",
   "metadata": {},
   "outputs": [],
   "source": [
    "math_roundTiesToAway(2.675, 2)"
   ]
  },
  {
   "cell_type": "code",
   "execution_count": null,
   "id": "973f8ff4-4bcd-4532-a4e4-e51f53eae54e",
   "metadata": {},
   "outputs": [],
   "source": [
    "x = 2.0115\n",
    "print(f\"{int(x)=}\")\n",
    "%timeit int(x)\n",
    "print(f\"{float(int(x))=}\")\n",
    "%timeit float(int(x))\n",
    "print(f\"{math.trunc(x)=}\")\n",
    "%timeit math.trunc(x)\n",
    "print(f\"{float(math.trunc(x))=}\")\n",
    "%timeit float(math.trunc(x))\n",
    "print(f\"{math.modf(x)[1]=}\")\n",
    "%timeit math.modf(x)[1]\n",
    "print(f\"{x//1.=}\")\n",
    "%timeit x//1.\n",
    "print(f\"{x//math.copysign(1., x)=}\")\n",
    "%timeit x//math.copysign(1., x)\n",
    "print(f\"{(x//1. if x >= 0 else x//-1.)=}\")\n",
    "%timeit (x//1. if x >= 0 else x//-1.)\n",
    "print(f\"{\")"
   ]
  },
  {
   "cell_type": "code",
   "execution_count": null,
   "id": "37cf81d9-ba74-4b76-957d-a64e804dfdaa",
   "metadata": {},
   "outputs": [],
   "source": [
    "print(f\"{round(x)=}\")\n",
    "%timeit round(x)\n",
    "print(f\"{round(x, 0)=}\")\n",
    "%timeit round(x, 0)"
   ]
  },
  {
   "cell_type": "code",
   "execution_count": null,
   "id": "72d4b885-64c5-445d-8eef-20c7bacd5354",
   "metadata": {},
   "outputs": [],
   "source": [
    "math.inf//1."
   ]
  },
  {
   "cell_type": "code",
   "execution_count": null,
   "id": "315d0331-1ff3-46bb-b4ac-257061f2948e",
   "metadata": {},
   "outputs": [],
   "source": [
    "x.as_integer_ratio()"
   ]
  },
  {
   "cell_type": "code",
   "execution_count": null,
   "id": "044bad11-2ba7-48c6-993f-08ec132fb99e",
   "metadata": {},
   "outputs": [],
   "source": [
    "type(round(x, -2))"
   ]
  },
  {
   "cell_type": "code",
   "execution_count": null,
   "id": "9875510a-5bc4-483d-b218-3c42862f4238",
   "metadata": {},
   "outputs": [],
   "source": [
    "round(math.nan, -2)"
   ]
  },
  {
   "cell_type": "code",
   "execution_count": null,
   "id": "8b142597-3ff3-48a0-b980-6affb5d283f5",
   "metadata": {},
   "outputs": [],
   "source": [
    "9223372036854775807. .as_integer_ratio()"
   ]
  },
  {
   "cell_type": "code",
   "execution_count": null,
   "id": "640790ab-842a-47de-bc23-de74d537adec",
   "metadata": {},
   "outputs": [],
   "source": [
    "f\"{9223372036854775807. :.16g}\""
   ]
  },
  {
   "cell_type": "code",
   "execution_count": null,
   "id": "40985aa4-d4a6-42f0-912e-575e8a77a6e6",
   "metadata": {},
   "outputs": [],
   "source": [
    "def sum(a, b):\n",
    "    return str(a) + str(b)\n",
    "# xprint = print\n",
    "# xprint = sum\n",
    "xprint = lambda *x: None\n",
    "%timeit xprint(f\"{math.sin(math.pi)}\", \"\")"
   ]
  },
  {
   "cell_type": "code",
   "execution_count": null,
   "id": "dc0a5aaf-0c3e-4f25-b596-eb54b9763556",
   "metadata": {},
   "outputs": [],
   "source": [
    "import logging\n",
    "import math\n",
    "logger = logging.getLogger(__name__)\n",
    "logging.basicConfig(level=logging.INFO)\n",
    "logger.info('Doing something')\n",
    "%timeit logger.debug(f\"{math.sin(math.pi)}\")\n",
    "%timeit logger.debug(f\" math.sin(math.pi) \")"
   ]
  },
  {
   "cell_type": "code",
   "execution_count": null,
   "id": "c771d544-0440-430d-b156-4741d6f729c0",
   "metadata": {},
   "outputs": [],
   "source": [
    "import fractions\n",
    "fractions.Fraction(3.35)"
   ]
  },
  {
   "cell_type": "code",
   "execution_count": null,
   "id": "ec65ac84-0ddf-4d1c-8a7d-3e21eedc1e0a",
   "metadata": {},
   "outputs": [],
   "source": [
    "math.trunc(fractions.Fraction(3.35)*10)"
   ]
  },
  {
   "cell_type": "code",
   "execution_count": null,
   "id": "37028d37-cce3-4918-9d2c-e39c29880210",
   "metadata": {},
   "outputs": [],
   "source": [
    "def cfrac_aprox(x):\n",
    "    "
   ]
  },
  {
   "cell_type": "code",
   "execution_count": null,
   "id": "5953749e-b344-411a-a468-66bd08bf7eac",
   "metadata": {},
   "outputs": [],
   "source": [
    "import fractions \n",
    "x = 0.3\n",
    "# fractions.Fraction(x)\n",
    "num, den = x.as_integer_ratio()\n",
    "num, den, divmod(num, den)"
   ]
  },
  {
   "cell_type": "code",
   "execution_count": null,
   "id": "63847091-8f24-41cf-bf40-3ab38620e267",
   "metadata": {},
   "outputs": [],
   "source": [
    "x = np.float32(0.3)\n",
    "num, den = x.as_integer_ratio()\n",
    "print(f\"  {num=} {den=}\")\n",
    "d, r = divmod(num, den)\n",
    "print(f\"{d=} {r=}\")\n",
    "num, den = den, r\n",
    "print(f\"  {num=} {den=}\")\n",
    "d, r = divmod(num, den)\n",
    "print(f\"{d=} {r=}\")\n",
    "num, den = den, r\n",
    "print(f\"  {num=} {den=}\")\n",
    "d, r = divmod(num, den)\n",
    "print(f\"{d=} {r=}\")\n",
    "num, den = den, r\n",
    "print(f\"  {num=} {den=}\")\n",
    "d, r = divmod(num, den)\n",
    "print(f\"{d=} {r=}\")\n",
    "num, den = den, r\n",
    "print(f\"  {num=} {den=}\")\n",
    "d, r = divmod(num, den)\n",
    "print(f\"{d=} {r=}\")\n",
    "num, den = den, r\n",
    "print(f\"  {num=} {den=}\")\n",
    "d, r = divmod(num, den)\n",
    "print(f\"{d=} {r=}\")"
   ]
  },
  {
   "cell_type": "code",
   "execution_count": null,
   "id": "58705145-fbbb-4e39-9e39-c6fcca54faf9",
   "metadata": {},
   "outputs": [],
   "source": [
    "#x = np.float32(0.3)\n",
    "x = 0.3\n",
    "num, den = x.as_integer_ratio()\n",
    "print(f\"{num, den=}\")\n",
    "cr = []\n",
    "while 0 < den:\n",
    "    (d, den), num = divmod(num, den), den\n",
    "    cr.append(d)\n",
    "print(cr)"
   ]
  },
  {
   "cell_type": "code",
   "execution_count": null,
   "id": "110d188f-1aaa-4426-b46a-73d5c1426ce2",
   "metadata": {},
   "outputs": [],
   "source": [
    "for i in range(1, len(cr)):\n",
    "    n, d = 1, 0\n",
    "    for a in cr[i::-1]:\n",
    "        n, d = a*n + d, n\n",
    "    print(f\"{n, d=} {n/d=}\")"
   ]
  },
  {
   "cell_type": "code",
   "execution_count": null,
   "id": "6d081007-ecc3-494f-b5d9-80825711760b",
   "metadata": {},
   "outputs": [],
   "source": [
    "def cf_approx(x):\n",
    "    num0, den0 = x.as_integer_ratio()\n",
    "    num, den = num0, den0\n",
    "    cr = []\n",
    "    while 0 < den:\n",
    "        (d, den), num = divmod(num, den), den\n",
    "        cr.append(d)\n",
    "        n, d = 1, 0\n",
    "        for a in cr[-1::-1]:\n",
    "            n, d = a*n + d, n\n",
    "        if n/d == x:\n",
    "            return n, d\n",
    "    return num0, den0"
   ]
  },
  {
   "cell_type": "code",
   "execution_count": null,
   "id": "d2ecade2-1344-4a37-8789-5951c8690827",
   "metadata": {},
   "outputs": [],
   "source": [
    "cf_approx(300.1)"
   ]
  },
  {
   "cell_type": "code",
   "execution_count": null,
   "id": "66bdfd80-2cac-4aaf-accd-765c8c7ac22a",
   "metadata": {},
   "outputs": [],
   "source": [
    "tsx = [ \"0.15\", \"0.145\", \"2.675\", \"2.0115\", \"0.0000005\" ]\n",
    "for t in tsx:\n",
    "    print(f\"{t=} {cf_approx(float(t))=}\")"
   ]
  },
  {
   "cell_type": "code",
   "execution_count": null,
   "id": "139ad835-ee7d-47fc-9364-79baf328b02d",
   "metadata": {},
   "outputs": [],
   "source": [
    "cf_approx(0.55555555555555555555555)"
   ]
  },
  {
   "cell_type": "code",
   "execution_count": null,
   "id": "013e8046-dcfe-41bb-b16a-da77f38289bb",
   "metadata": {},
   "outputs": [],
   "source": [
    "_crtta_12 = [fractions.Fraction(-1, 2), \n",
    "             fractions.Fraction(1, 2)]\n",
    "\n",
    "def cf_roundTiesToAway(x, ndigits=0, pretty=True):\n",
    "    if ndigits < 0:\n",
    "        q = 10**-ndigits\n",
    "        return math.trunc(fractions.Fraction(*cf_approx(x))/q + _crtta_12[x >= 0])*q\n",
    "    q = 10**ndigits\n",
    "    return math.trunc(fractions.Fraction(*cf_approx(x))*q + _crtta_12[x >= 0])/q\n",
    "    \n",
    "check(cf_roundTiesToAway)\n",
    "checkn(cf_roundTiesToAway)"
   ]
  },
  {
   "cell_type": "code",
   "execution_count": null,
   "id": "9b065197-b760-438c-8d72-c7432f79f1fb",
   "metadata": {},
   "outputs": [],
   "source": [
    "fractions.Fraction(1, 3)/7"
   ]
  },
  {
   "cell_type": "code",
   "execution_count": null,
   "id": "9f15593d-3ac9-4302-9fa6-6516ed0c9670",
   "metadata": {},
   "outputs": [],
   "source": [
    "tsx = [ \"0.15\", \"0.145\", \"2.675\", \"2.0115\", \"0.0000005\", ]\n",
    "tdecimals = [1, 2, 2, 3, 6]\n",
    "for sx, decimals in zip(tsx, tdecimals):\n",
    "    x = float(sx)\n",
    "    print(f\"| {sx:9} | {x.hex():21}| ≈{decimal.Decimal(x):<21.17g} | {decimals:2}  | {decimal_roundTiesToAway(x, ndigits=decimals, pretty=True):<8} | { cf_roundTiesToAway(x, ndigits=decimals):<19} |\")"
   ]
  },
  {
   "cell_type": "code",
   "execution_count": null,
   "id": "94fa8f6c-3323-4336-8496-fd2bc876f21b",
   "metadata": {},
   "outputs": [],
   "source": []
  },
  {
   "cell_type": "code",
   "execution_count": null,
   "id": "8a559387-89b5-4c23-8654-3a93164b62e8",
   "metadata": {},
   "outputs": [],
   "source": [
    "print(f\"{cf_roundTiesToAway(2.0115, 3)=}\")\n",
    "%timeit cf_roundTiesToAway(2.0115, 3)\n",
    "print(f\"{fractions_roundTiesToAway(2.0115, 3)=}\")\n",
    "%timeit fractions_roundTiesToAway(2.0115, 3)\n",
    "print(f\"{decimal_roundTiesToAway(2.0115, 3)=}\")\n",
    "%timeit decimal_roundTiesToAway(2.0115, 3)\n",
    "print(f\"{math_roundTiesToAway(2.0115, 3)=}\")\n",
    "%timeit math_roundTiesToAway(2.0115, 3)"
   ]
  },
  {
   "cell_type": "code",
   "execution_count": null,
   "id": "3f6dba77-4566-4ae4-94f3-a19488fd48ec",
   "metadata": {},
   "outputs": [],
   "source": [
    "print(f\"{cf_roundTiesToAway(2.0115, 3, pretty=True)=}\")\n",
    "%timeit cf_roundTiesToAway(2.0115, 3, pretty=True)\n",
    "print(f\"{fractions_roundTiesToAway(2.0115, 3, pretty=True)=}\")\n",
    "%timeit fractions_roundTiesToAway(2.0115, 3, pretty=True)\n",
    "print(f\"{decimal_roundTiesToAway(2.0115, 3, pretty=True)=}\")\n",
    "%timeit decimal_roundTiesToAway(2.0115, 3, pretty=True)\n",
    "print(f\"{math_roundTiesToAway(2.0115, 3, pretty=True)=}\")\n",
    "%timeit math_roundTiesToAway(2.0115, 3, pretty=True)"
   ]
  },
  {
   "cell_type": "code",
   "execution_count": null,
   "id": "6834cc38-da98-4efe-97f7-46ba2fa56777",
   "metadata": {},
   "outputs": [],
   "source": [
    "def fcf_bin_ratio(x):\n",
    "    n, d = x.as_integer_ratio()\n",
    "    return float(n), float(d)"
   ]
  },
  {
   "cell_type": "code",
   "execution_count": null,
   "id": "d2ba37d1-2cdc-4a6b-bacc-0cba3e5dfcf2",
   "metadata": {},
   "outputs": [],
   "source": [
    "def fcf_ratio(x):\n",
    "    num0, den0 = fcf_bin_ratio(x)\n",
    "    num, den = num0, den0\n",
    "    cr = []\n",
    "    while 0 < den:\n",
    "        (d, den), num = divmod(num, den), den\n",
    "        cr.append(d)\n",
    "        n, d = 1, 0\n",
    "        for a in cr[-1::-1]:\n",
    "            n, d = a*n + d, n\n",
    "        if n/d == x:\n",
    "            return n, d\n",
    "    return num0, den0"
   ]
  },
  {
   "cell_type": "code",
   "execution_count": null,
   "id": "21941ad5-94da-4fbb-b626-d635100b8e0c",
   "metadata": {},
   "outputs": [],
   "source": [
    "def fcf_mul(a, b):\n",
    "    return a[0]*b[0], a[1]*b[1]\n",
    "\n",
    "def fcf_adds12(a):\n",
    "    # return a[0] + a[1]*math.copysign(0.5, a[0]), a[1]\n",
    "    return math.fma(a[1], math.copysign(0.5, a[0]), a[0]), a[1]\n",
    "\n",
    "def fcf_modf(a):\n",
    "    if 0 <= a[0]:\n",
    "        i, n = divmod(a[0], a[1])\n",
    "        return i, (n, a[1])\n",
    "    else:\n",
    "        i, n = divmod(-a[0], a[1])\n",
    "        return -i, (-n, a[1])\n",
    "    \n",
    "def fcf_trunc(a):\n",
    "    return math.trunc(a[0]/a[1])\n",
    "\n",
    "assert fcf_mul(fcf_ratio(0.), (1, 10)) == (0.0, 10)\n",
    "assert fcf_mul(fcf_ratio(0.3), (10, 1)) == (30.0, 10.0)\n",
    "assert fcf_mul(fcf_ratio(-0.3), (10, 1)) == (-30.0, 10.0)\n",
    "assert fcf_adds12(fcf_ratio(1/3)) == (2.5, 3.0)\n",
    "assert fcf_adds12(fcf_ratio(-1/3)) == (-2.5, 3.0)\n",
    "assert fcf_modf(fcf_ratio(1/3)) == (0.0, (1.0, 3.0))\n",
    "assert fcf_modf(fcf_ratio(-1/3)) == (0.0, (-1.0, 3.0))\n",
    "assert fcf_modf(fcf_ratio(4/3)) == (1.0, (1.0, 3.0))\n",
    "assert fcf_modf(fcf_ratio(-4/3)) == (-1.0, (-1.0, 3.0))\n",
    "assert fcf_trunc(fcf_ratio(1/3)) == 0\n",
    "assert fcf_trunc(fcf_ratio(-2/3)) == 0\n",
    "assert fcf_trunc(fcf_ratio(4/3)) == 1\n",
    "assert fcf_trunc(fcf_ratio(-4/3)) == -1"
   ]
  },
  {
   "cell_type": "code",
   "execution_count": null,
   "id": "8dab578c-b9a9-48c7-a3ca-196dfd1ff3a1",
   "metadata": {},
   "outputs": [],
   "source": [
    "def fcf_roundTiesToAway(x, ndigits=0, pretty=True):\n",
    "    ratio = fcf_ratio(x)\n",
    "    if ndigits < 0:\n",
    "        q = 10**-ndigits\n",
    "        i, f = fcf_modf(fcf_mul(fcf_ratio(x), (1, q)))\n",
    "        return (i + fcf_trunc(fcf_adds12(f)))*q\n",
    "    q = 10**ndigits\n",
    "    i, f = fcf_modf(fcf_mul(fcf_ratio(x), (q, 1)))\n",
    "    return (i + fcf_trunc(fcf_adds12(f)))/q\n",
    "\n",
    "check(fcf_roundTiesToAway)\n",
    "checkn(fcf_roundTiesToAway)"
   ]
  },
  {
   "cell_type": "code",
   "execution_count": null,
   "id": "deb9bae3-37d0-4585-9b6f-d60f64600403",
   "metadata": {},
   "outputs": [],
   "source": [
    "tsx = [ \"0.15\", \"0.145\", \"2.675\", \"2.0115\", \"0.0000005\", ]\n",
    "tdecimals = [1, 2, 2, 3, 6]\n",
    "for sx, decimals in zip(tsx, tdecimals):\n",
    "    x = float(sx)\n",
    "    print(f\"| {sx:9} | {x.hex():21}| ≈{decimal.Decimal(x):<21.17g} | {decimals:2}  | {decimal_roundTiesToAway(x, ndigits=decimals, pretty=True):<8} | { fcf_roundTiesToAway(x, ndigits=decimals):<19} |\")"
   ]
  },
  {
   "cell_type": "code",
   "execution_count": null,
   "id": "409335df-2acb-4c0c-bdb8-aa3f86393d97",
   "metadata": {},
   "outputs": [],
   "source": [
    "print(f\"{fcf_roundTiesToAway(2.0115, 3)=}\")\n",
    "%timeit fcf_roundTiesToAway(2.0115, 3)\n",
    "print(f\"{fractions_roundTiesToAway(2.0115, 3)=}\")\n",
    "%timeit fractions_roundTiesToAway(2.0115, 3)\n",
    "print(f\"{decimal_roundTiesToAway(2.0115, 3)=}\")\n",
    "%timeit decimal_roundTiesToAway(2.0115, 3)\n",
    "print(f\"{math_roundTiesToAway(2.0115, 3)=}\")\n",
    "%timeit math_roundTiesToAway(2.0115, 3)"
   ]
  },
  {
   "cell_type": "code",
   "execution_count": null,
   "id": "5efeb890-8016-4ba2-a8d9-aa1101d3859b",
   "metadata": {},
   "outputs": [],
   "source": [
    "print(f\"{fcf_roundTiesToAway(2.0115, 3, pretty=True)=}\")\n",
    "%timeit fcf_roundTiesToAway(2.0115, 3, pretty=True)\n",
    "print(f\"{fractions_roundTiesToAway(2.0115, 3, pretty=True)=}\")\n",
    "%timeit fractions_roundTiesToAway(2.0115, 3, pretty=True)\n",
    "print(f\"{decimal_roundTiesToAway(2.0115, 3, pretty=True)=}\")\n",
    "%timeit decimal_roundTiesToAway(2.0115, 3, pretty=True)\n",
    "print(f\"{math_roundTiesToAway(2.0115, 3, pretty=True)=}\")\n",
    "%timeit math_roundTiesToAway(2.0115, 3, pretty=True)"
   ]
  },
  {
   "cell_type": "code",
   "execution_count": null,
   "id": "9a8519f8-448f-42db-8faa-18d0e5a43821",
   "metadata": {},
   "outputs": [],
   "source": [
    "divmod(5., 3.)"
   ]
  },
  {
   "cell_type": "code",
   "execution_count": null,
   "id": "8acc2b87-6c4f-44b9-9e0e-923625770abf",
   "metadata": {},
   "outputs": [],
   "source": [
    "-1.0 - 2/3, -5/3"
   ]
  },
  {
   "cell_type": "code",
   "execution_count": null,
   "id": "8a793029-59bc-4976-a0ea-a5defb2515ce",
   "metadata": {},
   "outputs": [],
   "source": [
    "x = 249.99999999999997\n",
    "ndigits = -2\n",
    "q = 10**-ndigits\n",
    "fcf_ratio(x)"
   ]
  },
  {
   "cell_type": "code",
   "execution_count": null,
   "id": "b2f279ce-4970-4a74-abad-0397d335e655",
   "metadata": {},
   "outputs": [],
   "source": [
    "fcf_mul(fcf_ratio(x), (1, q))"
   ]
  },
  {
   "cell_type": "code",
   "execution_count": null,
   "id": "16d21913-28fa-4360-bba8-a2f525dc9130",
   "metadata": {},
   "outputs": [],
   "source": [
    "8796093022207999.0/3518437208883200.0"
   ]
  },
  {
   "cell_type": "code",
   "execution_count": null,
   "id": "7f7ae75f-7bb2-4c60-ad53-a85afa485acf",
   "metadata": {},
   "outputs": [],
   "source": [
    "divmod(*fcf_mul(fcf_ratio(x), (1, q)))"
   ]
  },
  {
   "cell_type": "code",
   "execution_count": null,
   "id": "3e247171-bf38-4b33-bc03-823ae88a856e",
   "metadata": {},
   "outputs": [],
   "source": [
    "1759218604441599.0/3518437208883200.0"
   ]
  },
  {
   "cell_type": "code",
   "execution_count": null,
   "id": "d2d7a930-ee14-41aa-bd73-0e8d3575abaf",
   "metadata": {},
   "outputs": [],
   "source": [
    "(1759218604441599.0 + 0.5*3518437208883200.0)/3518437208883200.0"
   ]
  },
  {
   "cell_type": "code",
   "execution_count": null,
   "id": "d34f9786-90d4-4035-8b50-b3e58575d523",
   "metadata": {},
   "outputs": [],
   "source": [
    "lc_fma(0.5, 3518437208883200.0, 1759218604441599.0)/3518437208883200.0"
   ]
  },
  {
   "cell_type": "code",
   "execution_count": null,
   "id": "a8a3284d-211e-4cfd-95d8-537bc55658d8",
   "metadata": {},
   "outputs": [],
   "source": [
    "z=fcf_adds12(fcf_mul(fcf_ratio(x), (1, q)))"
   ]
  },
  {
   "cell_type": "code",
   "execution_count": null,
   "id": "0f75edd0-0d3e-46ee-a0dc-89ff19e35ff8",
   "metadata": {},
   "outputs": [],
   "source": [
    "(z[0]/z[1]).hex()"
   ]
  },
  {
   "cell_type": "code",
   "execution_count": null,
   "id": "bfd335d8-3f7c-4f23-8edd-d44740cc9a04",
   "metadata": {},
   "outputs": [],
   "source": [
    "35184372088832/2/2"
   ]
  },
  {
   "cell_type": "code",
   "execution_count": null,
   "id": "ec297462-ad26-4f66-aee5-b9f6dff12cf4",
   "metadata": {},
   "outputs": [],
   "source": [
    "LOG = False\n",
    "%timeit LOG and print(f\"{math.sin()}\")"
   ]
  },
  {
   "cell_type": "code",
   "execution_count": null,
   "id": "09683775-0629-4d43-8ed8-be9bd28a0df3",
   "metadata": {},
   "outputs": [],
   "source": [
    "LGF = lambda: False\n",
    "%timeit LGF() and print(f\"{math.sin()}\")"
   ]
  },
  {
   "cell_type": "code",
   "execution_count": null,
   "id": "37ac3ca3-e3b7-48da-a78f-6023d454f61a",
   "metadata": {},
   "outputs": [],
   "source": [
    "isinstance(\"xxx\", str)"
   ]
  },
  {
   "cell_type": "code",
   "execution_count": null,
   "id": "38530bff-e6ad-44d7-afb8-975bdcc46e58",
   "metadata": {},
   "outputs": [],
   "source": [
    "tsx = [ \"0.15\", \"0.145\", \"2.675\", \"2.0115\", \"0.0000005\", ]\n",
    "for sx in tsx:\n",
    "    for x in [float(sx), -float(sx)]:\n",
    "        print(decimal.Decimal(x))\n",
    "        print(str(x), f\"{x :.16g}\")\n"
   ]
  },
  {
   "cell_type": "code",
   "execution_count": null,
   "id": "c2d01d2a-db4e-4e5e-992c-5c301bd7e463",
   "metadata": {},
   "outputs": [],
   "source": [
    "decimal.Decimal?"
   ]
  },
  {
   "cell_type": "code",
   "execution_count": null,
   "id": "c78dfd09-453a-4902-9c0c-7b73f8547c4e",
   "metadata": {},
   "outputs": [],
   "source": [
    "decimal.getcontext()"
   ]
  },
  {
   "cell_type": "code",
   "execution_count": null,
   "id": "5de83de8-bc78-40ed-941d-27accc1febef",
   "metadata": {},
   "outputs": [],
   "source": [
    "decimal.getcontext().create_decimal_from_float(2.0115)"
   ]
  },
  {
   "cell_type": "code",
   "execution_count": null,
   "id": "2cd69c5d-200a-42fe-8b27-e566b48de24b",
   "metadata": {},
   "outputs": [],
   "source": [
    "decimal.getcontext().prec"
   ]
  },
  {
   "cell_type": "code",
   "execution_count": null,
   "id": "5b6478f1-2dad-471c-8773-2d8bf0c608ad",
   "metadata": {},
   "outputs": [],
   "source": [
    "1 - decimal.Decimal(1).next_toward()"
   ]
  },
  {
   "cell_type": "code",
   "execution_count": null,
   "id": "dbb6f8df-0c26-4f71-9609-f62d1e1d202a",
   "metadata": {},
   "outputs": [],
   "source": [
    "1 - decimal.Decimal(10)**-decimal.getcontext().prec"
   ]
  },
  {
   "cell_type": "code",
   "execution_count": null,
   "id": "81c42c18-c21d-4b26-bfd6-0543de7b5ca7",
   "metadata": {},
   "outputs": [],
   "source": [
    "from decimal import Decimal, ROUND_HALF_UP\n",
    "x = 5.465\n",
    "float(Decimal(str(x)).quantize(Decimal('1.00'), ROUND_HALF_UP))"
   ]
  },
  {
   "cell_type": "code",
   "execution_count": null,
   "id": "6047ae5d-3d8d-4169-ad25-403fbbbfd417",
   "metadata": {},
   "outputs": [],
   "source": [
    "str(str(x))"
   ]
  },
  {
   "cell_type": "code",
   "execution_count": null,
   "id": "7e1486b8-6013-4e9a-a1db-84874bb5a762",
   "metadata": {},
   "outputs": [],
   "source": [
    "str(np.longdouble(str(x)))"
   ]
  },
  {
   "cell_type": "code",
   "execution_count": null,
   "id": "8e842191-7adf-406d-83ea-69d6b85a1fc7",
   "metadata": {},
   "outputs": [],
   "source": [
    "x = np.array([5.465]*10)"
   ]
  },
  {
   "cell_type": "code",
   "execution_count": null,
   "id": "84cdc6ea-8481-4b49-94a3-1a57c7765745",
   "metadata": {},
   "outputs": [],
   "source": [
    "ldx = np.longdouble(x)"
   ]
  },
  {
   "cell_type": "code",
   "execution_count": null,
   "id": "32d2febe-51c1-4732-888e-2a5c15a068b8",
   "metadata": {},
   "outputs": [],
   "source": [
    "ldx, ldx[0]"
   ]
  },
  {
   "cell_type": "code",
   "execution_count": null,
   "id": "f803afad-4eb3-4641-9483-e5fb594c91e9",
   "metadata": {},
   "outputs": [],
   "source": [
    "np.longdouble(5.465)"
   ]
  },
  {
   "cell_type": "code",
   "execution_count": null,
   "id": "90fba191-f314-4c76-b157-ff32e1a37875",
   "metadata": {},
   "outputs": [],
   "source": [
    "np.str"
   ]
  },
  {
   "cell_type": "code",
   "execution_count": null,
   "id": "742b8183-3d33-4ec8-b241-7ac3f50e6cfe",
   "metadata": {},
   "outputs": [],
   "source": [
    "np.array_repr(x)"
   ]
  },
  {
   "cell_type": "code",
   "execution_count": null,
   "id": "983e3f55-8600-4455-a3f8-0c9b61954daa",
   "metadata": {},
   "outputs": [],
   "source": [
    "np.fromstring(np.array_repr(ldx))"
   ]
  },
  {
   "cell_type": "code",
   "execution_count": null,
   "id": "398f98c6-2748-43e6-88d9-12be8691a811",
   "metadata": {},
   "outputs": [],
   "source": [
    "repr(5.465)"
   ]
  },
  {
   "cell_type": "code",
   "execution_count": null,
   "id": "6493e2a9-9711-48b1-b7ed-40c0cef2678c",
   "metadata": {},
   "outputs": [],
   "source": [
    "np.longdouble(str(ldx[0]))"
   ]
  },
  {
   "cell_type": "code",
   "execution_count": null,
   "id": "1de50a86-a082-451a-b7fa-6a04639122bd",
   "metadata": {},
   "outputs": [],
   "source": [
    "fractions.Fraction(5465, 100).__round__(2)"
   ]
  },
  {
   "cell_type": "code",
   "execution_count": null,
   "id": "c2d1f69b-c451-4fed-8e70-8e4269737673",
   "metadata": {},
   "outputs": [],
   "source": [
    "float(round(fractions.Fraction(5475, 1000), 2))"
   ]
  },
  {
   "cell_type": "code",
   "execution_count": null,
   "id": "fe2626d9-dc97-477c-bda1-eeb216492e1e",
   "metadata": {},
   "outputs": [],
   "source": [
    "import numbers\n",
    "x = decimal.Decimal(\"2.675\")\n",
    "for x in [ 2.675, \"2.675\", \n",
    "          decimal.Decimal(\"2.675\"), fractions.Fraction(\"2.675\"),\n",
    "          #np.longdouble(\"2.675\")\n",
    "         ]:\n",
    "    print(repr(x), \n",
    "          ((round(x, 2)\n",
    "               if isinstance(x, numbers.Number) else None),\n",
    "           round(fractions.Fraction(x), 2),\n",
    "           (round(fractions.Fraction(*x.as_integer_ratio()), 2) \n",
    "               if isinstance(x, numbers.Number) else None),\n",
    "           (round(decimal.Decimal(x), 2))\n",
    "               if not isinstance(x, fractions.Fraction) else None),\n",
    "         )"
   ]
  },
  {
   "cell_type": "code",
   "execution_count": null,
   "id": "b4e9de19-0b6b-490f-a494-1bcda35d6416",
   "metadata": {},
   "outputs": [],
   "source": [
    "np.longdouble(\"2.675\")"
   ]
  },
  {
   "cell_type": "code",
   "execution_count": null,
   "id": "f80c1eb1-b130-4f0b-8b56-2c26f3ec610c",
   "metadata": {},
   "outputs": [],
   "source": [
    "round(decimal.Decimal(2.675), 2)"
   ]
  },
  {
   "cell_type": "code",
   "execution_count": null,
   "id": "5f0ee3b9-28a2-4d33-afc1-3cc732866ce5",
   "metadata": {},
   "outputs": [],
   "source": [
    "import sys\n",
    "# sys.float_repr_style = 'legacy'\n",
    "# sys.float_repr_style = 'short'\n",
    "print(f\"{sys.float_repr_style=} default 'short', _PY_SHORT_FLOAT_REPR == 1\")\n",
    "for x in [math.pi, -math.pi, np.nan, np.inf, \n",
    "          1., -1., 2.675, -2.675,\n",
    "          math.pi*1e300, math.pi*1e-300, \n",
    "          math.nextafter(0., math.inf), math.nextafter(math.inf, 0.),\n",
    "          math.pi*math.nextafter(0., math.inf), math.nextafter(math.inf, 0.)/math.pi,\n",
    "          0., -0.]:\n",
    "    print(str(x) == repr(x), str(x), repr(x))\n"
   ]
  },
  {
   "cell_type": "code",
   "execution_count": null,
   "id": "6a97e58b-c199-4bdd-be69-2825131cc8dc",
   "metadata": {},
   "outputs": [],
   "source": [
    "assert lc_fma(math.nextafter(1., 0), \n",
    "              math.nextafter(1., 0), \n",
    "              -(1. - math.ulp(1.))) == math.ulp(math.ulp(0.25))"
   ]
  },
  {
   "cell_type": "code",
   "execution_count": null,
   "id": "c3d965fc-5e1c-47b9-8f82-73d2ac0c00d0",
   "metadata": {},
   "outputs": [],
   "source": [
    "a = np.array([0.999, 1.])\n",
    "b = np.array([0.999, -(1. - 0.002)])\n",
    "a @ b"
   ]
  },
  {
   "cell_type": "code",
   "execution_count": null,
   "id": "aaddc393-4667-4b32-b21d-0ba68def6e0d",
   "metadata": {},
   "outputs": [],
   "source": [
    "a = np.array([math.nextafter(1., 0), 1.])\n",
    "b = np.array([math.nextafter(1., 0), -(1. - math.ulp(1.))])\n",
    "a @ b"
   ]
  },
  {
   "cell_type": "code",
   "execution_count": null,
   "id": "0f8ccdbb-f2fa-4be0-85d2-08edacd5420d",
   "metadata": {},
   "outputs": [],
   "source": [
    "np.dot(a, b)"
   ]
  },
  {
   "cell_type": "code",
   "execution_count": null,
   "id": "83887570-505c-40ec-a458-63a86da93302",
   "metadata": {},
   "outputs": [],
   "source": [
    "np.show_config()"
   ]
  },
  {
   "cell_type": "code",
   "execution_count": null,
   "id": "bc794a3b-723a-47d7-931b-f4e527712cd9",
   "metadata": {},
   "outputs": [],
   "source": [
    "np.lib.introspect.opt_func_info?"
   ]
  },
  {
   "cell_type": "code",
   "execution_count": null,
   "id": "f4461789-1644-4c9b-b2aa-09630d0437dd",
   "metadata": {},
   "outputs": [],
   "source": [
    "dict = np.lib.introspect.opt_func_info(\n",
    "...     func_name=\"add|abs\", signature=\"float64|complex64\"\n",
    "... )"
   ]
  },
  {
   "cell_type": "code",
   "execution_count": null,
   "id": "cd94908a-a9b8-4957-a284-688c780cd269",
   "metadata": {},
   "outputs": [],
   "source": [
    "import json\n",
    "print(json.dumps(dict, indent=2))"
   ]
  },
  {
   "cell_type": "code",
   "execution_count": null,
   "id": "19e5fc88-f9c5-4b43-bbb8-ecaab03e03d8",
   "metadata": {
    "scrolled": true
   },
   "outputs": [],
   "source": [
    "for n in range(4, 5):\n",
    "    for i in range(10):\n",
    "        for j in range(10**n):\n",
    "            sx = f\"{i}.{j :0{n}d}1\"\n",
    "            #x = math.nextafter(float(sx), 0)\n",
    "            x = float(sx)\n",
    "            nonp = decimal.Decimal(x).quantize(decimal.Decimal(f\"1e-{n + 1}\"),\n",
    "                                rounding=decimal.ROUND_DOWN)\n",
    "            p = decimal.Decimal(str(x)).quantize(decimal.Decimal(f\"1e-{n + 1}\"),\n",
    "                                rounding=decimal.ROUND_DOWN)\n",
    "            if p != nonp:\n",
    "                print(f\"{sx=} {n=} {x=} {p=} {nonp=}\")\n",
    "                if sx > \"0.00269\":\n",
    "                    break"
   ]
  },
  {
   "cell_type": "code",
   "execution_count": null,
   "id": "23c95324-9658-48bb-9aad-ab76bb4e09a8",
   "metadata": {},
   "outputs": [],
   "source": [
    "x = 0.00261\n",
    "n = 5\n",
    "decimal.Decimal(x).quantize(decimal.Decimal(f\"1e-{n}\"),\n",
    "                                rounding=decimal.ROUND_DOWN)"
   ]
  },
  {
   "cell_type": "code",
   "execution_count": null,
   "id": "2bbed23d-57fd-4ff8-863c-5c4c95ee418c",
   "metadata": {},
   "outputs": [],
   "source": [
    "import decimal\n",
    "import math \n",
    "\n",
    "for b in [0.00161, 0.00261, 4.00001, 4.10001, float(0.15+0.005*62)]:\n",
    "    for j in [math.nextafter(b, 0), b, math.nextafter(b, math.inf)]:\n",
    "        machine = str(decimal.Decimal(j).quantize(\n",
    "                        decimal.Decimal(\"0.00001\"),\n",
    "                        rounding=decimal.ROUND_DOWN))\n",
    "        human = str(decimal.Decimal(str(j)).quantize(\n",
    "                        decimal.Decimal(\"0.00001\"),\n",
    "                        rounding=decimal.ROUND_DOWN))\n",
    "        print(f\"j={j:<22}\", machine, human, \n",
    "              \"machine != human\" if machine != human else \"\")"
   ]
  },
  {
   "cell_type": "code",
   "execution_count": null,
   "id": "400d2926-7e42-4142-9d7b-013981c065aa",
   "metadata": {},
   "outputs": [],
   "source": [
    "str(decimal.Decimal(str(j=float(0.15+0.005*62float(0.15+0.005*62))).quantize(\n",
    "        decimal.Decimal(\"0.00001\"),\n",
    "        rounding=decimal.ROUND_DOWN))"
   ]
  },
  {
   "cell_type": "code",
   "execution_count": null,
   "id": "a014c0d6-ea61-45b6-9897-0bf850da922a",
   "metadata": {},
   "outputs": [],
   "source": [
    "j = 4.00001 ; print(j - j % 1e-5)\n",
    "j = 0.00261 ; print(j - j % 1e-5)"
   ]
  },
  {
   "cell_type": "code",
   "execution_count": null,
   "id": "a5a6fb64-9f63-4358-98e9-f59d1d7f29fe",
   "metadata": {},
   "outputs": [],
   "source": [
    "j=float(0.15+0.005*62) ; print(j - j % 1e-5)"
   ]
  },
  {
   "cell_type": "code",
   "execution_count": null,
   "id": "78c07db3-7ae5-4145-8147-efc0e9ee0722",
   "metadata": {},
   "outputs": [],
   "source": [
    "def to_str(x, i):\n",
    "    n, d = x.as_integer_ratio()\n",
    "    s = str(n * 10 ** i // d)\n",
    "    j = len(s) - i\n",
    "    if j > 0:\n",
    "        return f'{s[:j]}.{s[j:]}'\n",
    "    return f'0.{\"0\" * -j}{s}'\n",
    "    \n",
    "to_str(4.00001, 5), to_str(0.00261, 5)"
   ]
  },
  {
   "cell_type": "code",
   "execution_count": null,
   "id": "0512158f-471e-4b9c-b0f0-192f8b608b4c",
   "metadata": {},
   "outputs": [],
   "source": [
    "to_str(4.00001, 5), to_str(4.10001, 5), to_str(0.00261, 5), to_str(0.00161, 5)"
   ]
  },
  {
   "cell_type": "code",
   "execution_count": null,
   "id": "59972686-ddf0-49ca-b529-32592585bfa5",
   "metadata": {},
   "outputs": [],
   "source": [
    "fractions.Fraction(str(0.3)), fractions.Fraction(str(1/3))"
   ]
  },
  {
   "cell_type": "code",
   "execution_count": null,
   "id": "711a9810-7d61-454b-8e7a-e9bb4119d14b",
   "metadata": {},
   "outputs": [],
   "source": []
  },
  {
   "cell_type": "code",
   "execution_count": null,
   "id": "b9f988ad-c83e-4560-b8a1-e660b5778034",
   "metadata": {},
   "outputs": [],
   "source": [
    "str(x)"
   ]
  },
  {
   "cell_type": "code",
   "execution_count": null,
   "id": "b0ebc6e5-c831-4f56-9bb3-32b8a00287b4",
   "metadata": {},
   "outputs": [],
   "source": [
    "import ctypes\n",
    "import sys\n",
    "\n",
    "if sys.platform.startswith(\"darwin\"):\n",
    "    _libc = ctypes.CDLL(\"libSystem.B.dylib\")\n",
    "elif sys.platform.startswith('win'):\n",
    "    _libc = ctypes.cdll.msvcrt\n",
    "else:\n",
    "    _libc = ctypes.CDLL(\"libc.so.6\")\n",
    " "
   ]
  },
  {
   "cell_type": "code",
   "execution_count": null,
   "id": "a765e402-b189-4b8d-b125-a403454d64b8",
   "metadata": {},
   "outputs": [],
   "source": [
    "x = 2.675\n",
    "n = 2\n",
    "round(x, n), float(f\"{x :.{n}f}\"), float(f\"{x :.{n + 1}g}\")"
   ]
  },
  {
   "cell_type": "code",
   "execution_count": null,
   "id": "39d0d7e9-25f7-4a59-bba3-515edabab097",
   "metadata": {},
   "outputs": [],
   "source": [
    "_libc.printf(b\"%f\\n\", ctypes.c_double(x))"
   ]
  },
  {
   "cell_type": "code",
   "execution_count": null,
   "id": "a85e540b-99fe-4dc1-a759-7ca6c150d3aa",
   "metadata": {},
   "outputs": [],
   "source": [
    "x = _libc.printf(b\"An int %d, a double %f\\n\", 1234, ctypes.c_double(3.14))\n",
    "x"
   ]
  },
  {
   "cell_type": "code",
   "execution_count": null,
   "id": "8d391867-20b6-4848-a9e4-b3de63a114da",
   "metadata": {},
   "outputs": [],
   "source": [
    "round(\"2\")"
   ]
  },
  {
   "cell_type": "code",
   "execution_count": null,
   "id": "f3ac4464-eafc-4222-85aa-3af38448ce03",
   "metadata": {},
   "outputs": [],
   "source": [
    "round(2**51 + 0.15, 1)"
   ]
  },
  {
   "cell_type": "code",
   "execution_count": null,
   "id": "62df3dba-b147-4a15-bf55-6905947cddbd",
   "metadata": {},
   "outputs": [],
   "source": [
    "exr_round(2**50 + 1.15, 1, str_inp=False, \n",
    "    rounding=decimal.ROUND_HALF_EVEN)"
   ]
  },
  {
   "cell_type": "code",
   "execution_count": null,
   "id": "a5100393-9baa-4198-a0f9-4d8f8065d3b9",
   "metadata": {},
   "outputs": [],
   "source": []
  },
  {
   "cell_type": "code",
   "execution_count": null,
   "id": "414e7eb9-15b9-4d27-9e20-884aab75b581",
   "metadata": {},
   "outputs": [],
   "source": [
    "for b in [0.00161, 0.00261, 4.00001, 4.10001, float(0.15+0.005*62)]:\n",
    "    print(f\"{b:<22}{b : .5f}\")"
   ]
  },
  {
   "cell_type": "code",
   "execution_count": null,
   "id": "b3a87219-c64b-4767-9f6f-b439a4690db2",
   "metadata": {},
   "outputs": [],
   "source": [
    "for n, x, hm in [(10, 524287.9999291525, 524287.9999291524),\n",
    "                 (10, 262143.99998263217, 262143.9999826321)]:\n",
    "    q = 10**n\n",
    "    xf, xi = math.modf(x)\n",
    "    r = xi + math.trunc(xf*q)/q\n",
    "    print(math.trunc(xf*q), math.trunc(xf*q)/q, r)\n",
    "    print(math.modf(r))\n",
    "    print(math.modf(hm))\n",
    "    print((x - hm)/math.ulp(hm))\n"
   ]
  },
  {
   "cell_type": "code",
   "execution_count": null,
   "id": "8e0d9c0a-3cf9-43d6-87c4-947bb80e3f76",
   "metadata": {},
   "outputs": [],
   "source": [
    "n = 10\n",
    "x = 262143.99998263217\n",
    "q = 10**n\n",
    "xf, xi = math.modf(x)\n",
    "r = xi + math.trunc(xf*q)/q\n",
    "rf, ri = math.modf(r)\n",
    "print(x, xf, xi)\n",
    "print(r, rf, ri)\n",
    "print(exr_decimal_round(x, n, rounding=decimal.ROUND_DOWN),\n",
    "      (exr_decimal_round(x, n, rounding=decimal.ROUND_DOWN) - r),\n",
    "      (exr_decimal_round(x, n, rounding=decimal.ROUND_DOWN) - r)/math.ulp(r))"
   ]
  },
  {
   "cell_type": "code",
   "execution_count": null,
   "id": "7c2b5975-1c4b-4e46-94b0-b359d0b2a7d3",
   "metadata": {},
   "outputs": [],
   "source": [
    "n = 10\n",
    "x = 262143.99998263217\n",
    "q = 10**n\n",
    "xf, xi = math.modf(x)\n",
    "r = xi + exr_sql_round_base(xf*q)/q\n",
    "rf, ri = math.modf(r)\n",
    "print(x, xf, xi)\n",
    "print(r, rf, ri)\n",
    "print(exr_decimal_round(x, n, rounding=decimal.ROUND_HALF_EVEN),\n",
    "      (exr_decimal_round(x, n, rounding=decimal.ROUND_HALF_EVEN) - r),\n",
    "      (exr_decimal_round(x, n, rounding=decimal.ROUND_HALF_EVEN) - r)/math.ulp(r))"
   ]
  },
  {
   "cell_type": "code",
   "execution_count": null,
   "id": "07315097-f9ea-49a1-89ae-6812e4071973",
   "metadata": {},
   "outputs": [],
   "source": [
    "np.log2(26214399998263220 )"
   ]
  },
  {
   "cell_type": "code",
   "execution_count": null,
   "id": "576c4f1f-12a0-4b23-bb7f-d5f039a4fcb9",
   "metadata": {},
   "outputs": [],
   "source": [
    "r_rounding = decimal.ROUND_CEILING\n",
    "def r(x):\n",
    "    return math.ceil(x)\n",
    "\n",
    "r_rounding = decimal.ROUND_FLOOR\n",
    "def r(x):\n",
    "    return math.floor(x)\n",
    "\n",
    "r_rounding = decimal.ROUND_DOWN\n",
    "def r(x):\n",
    "    return math.trunc(x)\n",
    "\n",
    "r_rounding = decimal.ROUND_HALF_UP\n",
    "def r(x):\n",
    "    return math.trunc(x + math.copysign(0.5, x))\n",
    "\n",
    "r_rounding = decimal.ROUND_HALF_EVEN\n",
    "def r(x):\n",
    "    return round(x)\n",
    "\n",
    "def a(x, n):\n",
    "    q = 10**n\n",
    "    return r(x*q)/q\n",
    "\n",
    "def b(x, n):\n",
    "    q = 10**n\n",
    "    xf, xi = math.modf(x)\n",
    "    return (xi*q + r(xf*q))/q\n",
    "\n",
    "def c(x, n):\n",
    "    q = 10**n\n",
    "    xq = x*q\n",
    "    xql = math.fma(x, q, -xq)\n",
    "    txq = r(xq)\n",
    "    if txq == xq:\n",
    "        txq += r(xql)\n",
    "    return txq/q\n",
    "\n",
    "for x in [2.616, -2.616]:\n",
    "    for n in range(4):\n",
    "        e = [exr_easy_round(x, n, rounding=r_rounding, fmt_out=fo) \n",
    "             for fo in [True, False]]\n",
    "        assert a(x, n) in e\n",
    "        assert b(x, n) in e\n",
    "        assert c(x, n) in e\n",
    "print('Хорь')"
   ]
  },
  {
   "cell_type": "code",
   "execution_count": null,
   "id": "6c591430-f514-41aa-884a-cbfccb696094",
   "metadata": {},
   "outputs": [],
   "source": [
    "x, n, e, a(x, n), b(x, n), c(x, n)"
   ]
  },
  {
   "cell_type": "code",
   "execution_count": null,
   "id": "3b867364-e997-4c1b-ad4d-5affde76b23e",
   "metadata": {},
   "outputs": [],
   "source": [
    "%timeit a(2.0115, 3)\n",
    "%timeit b(2.0115, 3)\n",
    "%timeit c(2.0115, 3)"
   ]
  },
  {
   "cell_type": "code",
   "execution_count": null,
   "id": "bc8e6ef1-9697-4999-bb92-34e4c79b2459",
   "metadata": {},
   "outputs": [],
   "source": [
    "import sys\n",
    "math.log10(2) * sys.float_info.mant_dig/2"
   ]
  },
  {
   "cell_type": "code",
   "execution_count": null,
   "id": "88f4c832-0124-4311-b8c3-f0c097d2d206",
   "metadata": {},
   "outputs": [],
   "source": [
    "10**-4"
   ]
  },
  {
   "cell_type": "code",
   "execution_count": null,
   "id": "ac5f81e4-f178-4cfd-a831-e26860dbbffc",
   "metadata": {},
   "outputs": [],
   "source": [
    "for t in [np.half, np.single, np.double, np.longdouble]:\n",
    "    for n in range(5):\n",
    "        t1 = t(1)/t(10**n)\n",
    "        t1m = np.nextafter(t(t1), 0)\n",
    "        t05 = t('0.' + n*'0' + '5')\n",
    "        t05p = np.nextafter(t(t05), np.inf)\n",
    "        t05m = np.nextafter(t(t05), 0)\n",
    "        t01 = t('0.' + n*'0' + '1')\n",
    "        cvt = exr_decimal_from_longdouble if t == np.longdouble else float\n",
    "        lens = [len(decimal.Decimal(cvt(tx)).as_tuple().digits)\n",
    "                  for tx in [t1m, t05p, t05, t05m, t01]]\n",
    "        print(t, n, max(lens), lens)"
   ]
  },
  {
   "cell_type": "code",
   "execution_count": null,
   "id": "800a03c1-4bf1-4fad-bef3-b315f4b4ab30",
   "metadata": {},
   "outputs": [],
   "source": [
    "lfp = np.ceil(max(0, -np.log2(np.spacing(t1m))))\n",
    "lip = np.ceil(max(0, np.log10(abs(t1m))))\n",
    "lfp, lip"
   ]
  },
  {
   "cell_type": "code",
   "execution_count": null,
   "id": "968ab151-3669-4876-8858-4decd6dffb0d",
   "metadata": {},
   "outputs": [],
   "source": [
    "def dlen(x):\n",
    "    lfp = math.ceil(max(0, np.log10(abs(x)) - np.log2(np.spacing(x/10))))\n",
    "    lip = math.ceil(max(0, np.log10(abs(x))))\n",
    "    return lfp + lip, lfp, lip"
   ]
  },
  {
   "cell_type": "code",
   "execution_count": null,
   "id": "8197ee67-d871-4a37-b9af-c5bda161494a",
   "metadata": {},
   "outputs": [],
   "source": [
    "for t in [float, np.half, np.single, np.double, np.longdouble]:\n",
    "    bs = [np.finfo(t).smallest_normal, np.finfo(t).smallest_subnormal, \n",
    "          np.finfo(t).max, t(0.5)]\n",
    "    xs = [t(np.nextafter(b, d)) for b in bs \n",
    "          for d in [np.inf, b, -np.inf ] ]\n",
    "    cvt = exr_decimal_from_longdouble if t == np.longdouble else float\n",
    "    lens = [len(decimal.Decimal(cvt(x)).as_tuple().digits)\n",
    "            for x in xs]\n",
    "    print(f\"{xs[0].__class__.__name__:10} {max(lens):6d} {lens=}\")\n"
   ]
  },
  {
   "cell_type": "code",
   "execution_count": null,
   "id": "1d701b73-58a0-4eab-ae88-ebba6544f8f7",
   "metadata": {},
   "outputs": [],
   "source": [
    "xs[0].__class__.__name__"
   ]
  },
  {
   "cell_type": "code",
   "execution_count": null,
   "id": "1012b046-6765-4273-a492-161480877c5c",
   "metadata": {},
   "outputs": [],
   "source": [
    "float(1).__class__.__name__"
   ]
  },
  {
   "cell_type": "code",
   "execution_count": null,
   "id": "39868724-c96b-4394-bcfe-c85370761d35",
   "metadata": {},
   "outputs": [],
   "source": [
    "[len(decimal.Decimal(cvt(x)).as_tuple().digits)\n",
    "            for x in xs]"
   ]
  },
  {
   "cell_type": "code",
   "execution_count": null,
   "id": "8f98d5fc-7d58-460d-b970-2e1c067dc7a5",
   "metadata": {},
   "outputs": [],
   "source": [
    "[len(decimal.Decimal(cvt(x)).as_tuple().digits)\n",
    "            for x in xs[5:7]]"
   ]
  },
  {
   "cell_type": "code",
   "execution_count": null,
   "id": "88c8d1d7-bbf1-4b2b-adc0-13512cacf644",
   "metadata": {},
   "outputs": [],
   "source": [
    "xs[5:7]"
   ]
  },
  {
   "cell_type": "code",
   "execution_count": null,
   "id": "3295865b-d347-49d2-a3cd-44f2825fcf2d",
   "metadata": {},
   "outputs": [],
   "source": [
    "xs[-1], cvt(xs[-1])"
   ]
  },
  {
   "cell_type": "code",
   "execution_count": null,
   "id": "11e4c969-e456-4ca5-9040-d163db365239",
   "metadata": {},
   "outputs": [],
   "source": [
    "math.isinf(xs[-1])"
   ]
  },
  {
   "cell_type": "code",
   "execution_count": null,
   "id": "ab7f8b7e-558c-4b03-930f-1ac8b3a77935",
   "metadata": {},
   "outputs": [],
   "source": [
    "dsmallest_subnormal = decimal.Decimal(np.finfo(t).smallest_subnormal)\n",
    "len(dsmallest_subnormal.as_tuple().digits), dlen(np.finfo(t).smallest_subnormal)"
   ]
  },
  {
   "cell_type": "code",
   "execution_count": null,
   "id": "56ff5485-db9c-481e-924c-0f6037b66975",
   "metadata": {},
   "outputs": [],
   "source": [
    "dmax = decimal.Decimal(np.finfo(t).max)\n",
    "len(dmax.as_tuple().digits), dlen(np.finfo(t).max)"
   ]
  },
  {
   "cell_type": "code",
   "execution_count": null,
   "id": "4105db05-4fbe-497c-b3a4-c92e23e5227a",
   "metadata": {},
   "outputs": [],
   "source": [
    "dlen(dsmallest_normal)"
   ]
  },
  {
   "cell_type": "code",
   "execution_count": null,
   "id": "773fcb37-ea4f-4003-a290-b68ca5077fb8",
   "metadata": {},
   "outputs": [],
   "source": [
    "dsmallest_subnormal.as_tuple().digits[-10:]"
   ]
  },
  {
   "cell_type": "code",
   "execution_count": null,
   "id": "e476b520-4033-404b-99ae-9bb1fc5a816f",
   "metadata": {},
   "outputs": [],
   "source": []
  },
  {
   "cell_type": "code",
   "execution_count": null,
   "id": "eeeb43c0-80dd-48e0-b529-1738566b4ff0",
   "metadata": {},
   "outputs": [],
   "source": []
  },
  {
   "cell_type": "code",
   "execution_count": null,
   "id": "4999c360-ac08-4267-aa47-428a54a609ce",
   "metadata": {},
   "outputs": [],
   "source": [
    "        lens = [len(str(decimal.Decimal(cvt(tx)))) - 2 - n \n",
    "                  for tx in [t1m, t05p, t05, t05m, t01]]\n",
    "        print(t, n, max(lens), lens)\n",
    "        lens = [len(decimal.Decimal(cvt(tx)).as_tuple().digits)\n",
    "                  for tx in [t1m, t05p, t05, t05m, t01]]\n",
    "        print(t, n, max(lens), lens)"
   ]
  },
  {
   "cell_type": "code",
   "execution_count": null,
   "id": "7bc0b38f-6ab0-4e5d-8087-cf3ece0e142a",
   "metadata": {},
   "outputs": [],
   "source": []
  },
  {
   "cell_type": "code",
   "execution_count": null,
   "id": "a7b8284a-3c41-4aea-8911-979245c6ec3b",
   "metadata": {},
   "outputs": [],
   "source": [
    "cvt(t1m)"
   ]
  },
  {
   "cell_type": "code",
   "execution_count": null,
   "id": "3db60f31-0c07-4423-83cd-f48e826333f9",
   "metadata": {},
   "outputs": [],
   "source": [
    "type(np.longdouble(t1m))"
   ]
  },
  {
   "cell_type": "code",
   "execution_count": null,
   "id": "66b41542-2690-4cae-91e0-40b87bab5a88",
   "metadata": {},
   "outputs": [],
   "source": [
    "t1m = np.nextafter(np.longdouble(1), 0)\n",
    "np.spacing(t1m)\n",
    "# Вызывает RuntimeWarning: invalid value encountered in spacing\n",
    "#t1m = t1m/10\n",
    "print(t1m)\n",
    "# t1m = np.nextafter(np.nextafter(np.longdouble(1), 0), 0)\n",
    "# print(t1m)\n",
    "np.spacing(t1m), t1m, type(t1m)"
   ]
  },
  {
   "cell_type": "code",
   "execution_count": null,
   "id": "d345918e-f820-484f-8252-4b9f251169fb",
   "metadata": {},
   "outputs": [],
   "source": [
    "[(str(decimal.Decimal(float(tx))))\n",
    "                  for tx in [t1m, t05p, t05, t05m, t01]]"
   ]
  },
  {
   "cell_type": "code",
   "execution_count": null,
   "id": "5fb08fc3-0d60-40e5-910d-dc0aa9f6cb8c",
   "metadata": {},
   "outputs": [],
   "source": [
    "dt01 = decimal.Decimal(t01/1000)\n",
    "len(dt01.as_tuple().digits), dt01.as_tuple()"
   ]
  },
  {
   "cell_type": "code",
   "execution_count": null,
   "id": "dd2a427f-8944-43b8-a991-aafb32514323",
   "metadata": {},
   "outputs": [],
   "source": [
    "with decimal.localcontext(prec=100):\n",
    "    t = np.float128\n",
    "    t1m = np.nextafter(t(1), 0)\n",
    "    t05p = np.nextafter(t(0.5), 2)\n",
    "    t0125 = t(0.125)\n",
    "    t0125m = np.nextafter(t(0.125), 0)\n",
    "    t01p = np.nextafter(t('0.1'), 2)\n",
    "    t01 = t('0.1')\n",
    "    print(len(str(decimal.Decimal(exr_decimal_from_longdouble(t1m))))-2,\n",
    "          len(str(decimal.Decimal(exr_decimal_from_longdouble(t05p))))-2,\n",
    "          len(str(decimal.Decimal(exr_decimal_from_longdouble(t0125))))-2,\n",
    "          len(str(decimal.Decimal(exr_decimal_from_longdouble(t0125m))))-2,\n",
    "          len(str(decimal.Decimal(exr_decimal_from_longdouble(t01p))))-2,\n",
    "          len(str(decimal.Decimal(exr_decimal_from_longdouble(t01))))-2,\n",
    "         )"
   ]
  },
  {
   "cell_type": "code",
   "execution_count": null,
   "id": "93ca279c-396e-4cee-a647-19091b2ff291",
   "metadata": {},
   "outputs": [],
   "source": [
    "dt01 = decimal.Decimal(exr_decimal_from_longdouble(t01/1000))"
   ]
  },
  {
   "cell_type": "code",
   "execution_count": null,
   "id": "83df60f8-7cc0-495f-87ed-3eacf8b7149a",
   "metadata": {},
   "outputs": [],
   "source": [
    "len(dt01.as_tuple().digits), dt01.as_tuple()"
   ]
  },
  {
   "cell_type": "code",
   "execution_count": null,
   "id": "2b8ac6ad-9c2b-4717-8cb8-a5f9e54a8c01",
   "metadata": {},
   "outputs": [],
   "source": [
    "dt01"
   ]
  },
  {
   "cell_type": "code",
   "execution_count": null,
   "id": "e7da1aeb-dced-4093-89ff-bbff43dc2e3e",
   "metadata": {},
   "outputs": [],
   "source": []
  },
  {
   "cell_type": "code",
   "execution_count": null,
   "id": "df221f6c-e3cb-4c77-aeae-506e1ac7e0ad",
   "metadata": {},
   "outputs": [],
   "source": [
    "t01, decimal.Decimal(exr_decimal_from_longdouble(np.longdouble('4.0001')))"
   ]
  },
  {
   "cell_type": "code",
   "execution_count": null,
   "id": "bbd7d6b2-40b6-4458-a379-4c9aab08511e",
   "metadata": {},
   "outputs": [],
   "source": [
    "t01, decimal.Decimal((4.0001))"
   ]
  },
  {
   "cell_type": "code",
   "execution_count": null,
   "id": "c552a35e-0675-498e-9f12-c10d7690f731",
   "metadata": {},
   "outputs": [],
   "source": [
    "with decimal.localcontext(prec=100):\n",
    "    print(decimal.Decimal(1)/decimal.Decimal(10))"
   ]
  },
  {
   "cell_type": "code",
   "execution_count": null,
   "id": "486caa00-bd04-4331-9a6d-881d8f5d48e3",
   "metadata": {},
   "outputs": [],
   "source": [
    "decimal.Decimal(round(fractions.Fraction(20125, 10000),3))"
   ]
  },
  {
   "cell_type": "code",
   "execution_count": null,
   "id": "ea3ea114-3d53-4640-9fa3-0549978d03d7",
   "metadata": {},
   "outputs": [],
   "source": [
    "decimal.getcontext().prec"
   ]
  },
  {
   "cell_type": "code",
   "execution_count": null,
   "id": "e77a70a3-cabb-458b-90be-6625c0e637d1",
   "metadata": {},
   "outputs": [],
   "source": [
    "import decimal\n",
    "import fractions\n",
    "\n",
    "def exr_approximate_decimal_from_integer_ratio(x, prec=None):\n",
    "    with decimal.localcontext(prec=(prec if prec else\n",
    "                                    decimal.getcontext().prec + 4)):\n",
    "        n, d = x.as_integer_ratio()\n",
    "        return decimal.Decimal(n)/decimal.Decimal(d)\n",
    "\n",
    "def exr_decimal_to_fraction(d):\n",
    "    return fractions.Fraction(*d.as_integer_ratio())"
   ]
  },
  {
   "cell_type": "code",
   "execution_count": null,
   "id": "9a7eae8d-b5f9-4306-bb99-13b67e908217",
   "metadata": {},
   "outputs": [],
   "source": [
    "exr_approximate_decimal_from_integer_ratio(\n",
    "    round(fractions.Fraction('2.0125'),3))"
   ]
  },
  {
   "cell_type": "code",
   "execution_count": null,
   "id": "095d8336-d20e-48bc-9bbf-52e95de540ed",
   "metadata": {},
   "outputs": [],
   "source": [
    "round(decimal.Decimal('2.0125'), 3)"
   ]
  },
  {
   "cell_type": "code",
   "execution_count": null,
   "id": "0f4d1777-68ac-4c83-b446-4a18e94e2620",
   "metadata": {},
   "outputs": [],
   "source": [
    "round(2.0125, 3)"
   ]
  },
  {
   "cell_type": "code",
   "execution_count": null,
   "id": "7f92a9f1-e311-4150-8ee4-301e61730cae",
   "metadata": {},
   "outputs": [],
   "source": [
    "for t in [float, decimal.Decimal, fractions.Fraction]:\n",
    "    print(t)\n",
    "    for sx0, n0 in [('0.5', 0), ('1.5', 0), ('2.5', 0), \n",
    "                   ('0.05', 1), ('0.15', 1), ('0.25', 1), \n",
    "                   ('0.005', 2), ('0.015', 2), ('0.025', 2), \n",
    "                  ]:\n",
    "        for n in ([n0] if n0 else [None, n0]): \n",
    "            for sx in [\"-\" + sx0, sx0]:\n",
    "                x = t(sx)\n",
    "                rx = round(x, n)\n",
    "                frx = float(rx)\n",
    "                drx = (rx if t != fractions.Fraction else\n",
    "                       exr_approximate_decimal_from_integer_ratio(rx))\n",
    "                print(f\"{sx :<7} {x :<7} {str(n):4} -> {rx :-7} ({frx} {drx})\")\n",
    "          "
   ]
  },
  {
   "cell_type": "code",
   "execution_count": null,
   "id": "04154d9c-f998-4db7-84f1-0f47be2deec5",
   "metadata": {},
   "outputs": [],
   "source": []
  }
 ],
 "metadata": {
  "kernelspec": {
   "display_name": "Python 3 (ipykernel)",
   "language": "python",
   "name": "python3"
  },
  "language_info": {
   "codemirror_mode": {
    "name": "ipython",
    "version": 3
   },
   "file_extension": ".py",
   "mimetype": "text/x-python",
   "name": "python",
   "nbconvert_exporter": "python",
   "pygments_lexer": "ipython3",
   "version": "3.13.2"
  }
 },
 "nbformat": 4,
 "nbformat_minor": 5
}
